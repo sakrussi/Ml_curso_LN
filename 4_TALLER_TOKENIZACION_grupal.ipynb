{
  "cells": [
    {
      "cell_type": "markdown",
      "metadata": {
        "id": "F_RmAeYCfc6J"
      },
      "source": [
        "![image info](https://raw.githubusercontent.com/albahnsen/MIAD_ML_and_NLP/main/images/banner_1.png)"
      ]
    },
    {
      "cell_type": "markdown",
      "metadata": {
        "id": "N-w2-bPBfc6O"
      },
      "source": [
        "# Taller: Tokenización de textos  \n",
        "\n",
        "En este taller podrán poner en práctica sus conocimientos sobre preprocesamiento de texto (tokenización). El taller está constituido por 5 puntos, en los cuales deberan seguir las intrucciones de cada numeral para su desarrollo."
      ]
    },
    {
      "cell_type": "markdown",
      "metadata": {
        "id": "HF3to0U3fc6P"
      },
      "source": [
        "## Datos detección de toxicidad en comentarios\n",
        "\n",
        "En este taller se usará el conjunto de datos de detección de toxicidad en comentarios de la base de datos de Kaggle. Cada observación es un comentario que tiene como variable objetivo (target) la probabilidad de ser un comentario tóxico. El objetivo es predecir la toxicidad de cada comentario. Para más detalles pueden visitar el siguiente enlace: [datos](https://www.kaggle.com/c/jigsaw-unintended-bias-in-toxicity-classification/data)."
      ]
    },
    {
      "cell_type": "code",
      "execution_count": null,
      "metadata": {
        "id": "tuUuUEQJfc6Q"
      },
      "outputs": [],
      "source": [
        "import warnings\n",
        "warnings.filterwarnings('ignore')"
      ]
    },
    {
      "cell_type": "code",
      "execution_count": null,
      "metadata": {
        "id": "QgNyO9qDfc6S"
      },
      "outputs": [],
      "source": [
        "# Importación librerías\n",
        "import pandas as pd\n",
        "import numpy as np\n",
        "import scipy as sp\n",
        "from sklearn.model_selection import train_test_split, cross_val_score\n",
        "from sklearn.feature_extraction.text import CountVectorizer, TfidfVectorizer\n",
        "from sklearn import metrics\n",
        "from sklearn.metrics import mean_squared_error\n",
        "%matplotlib inline\n",
        "from xgboost import XGBRegressor\n",
        "import matplotlib.pyplot as plt\n",
        "\n"
      ]
    },
    {
      "cell_type": "code",
      "execution_count": null,
      "metadata": {
        "colab": {
          "base_uri": "https://localhost:8080/",
          "height": 206
        },
        "id": "XP2NOEw4fc6S",
        "outputId": "48fa2642-b4d3-4b69-f1be-d9e4cd607ebd"
      },
      "outputs": [
        {
          "output_type": "execute_result",
          "data": {
            "text/plain": [
              "        id                                       comment_text  target\n",
              "0  6101457  What are you talking about? What group do Pete...     0.0\n",
              "1  5342103   NO!, Let him, we need a Conservative government.     0.0\n",
              "2   743361  Perhaps he took the \"power out of the Cardinal...     0.2\n",
              "3   551008  As always, yours is dripping with sarcasm, whi...     0.0\n",
              "4   865998  The dirty little secret is that the price rang...     0.3"
            ],
            "text/html": [
              "\n",
              "  <div id=\"df-cd7b044e-910e-40f8-bdbe-150a48790ced\">\n",
              "    <div class=\"colab-df-container\">\n",
              "      <div>\n",
              "<style scoped>\n",
              "    .dataframe tbody tr th:only-of-type {\n",
              "        vertical-align: middle;\n",
              "    }\n",
              "\n",
              "    .dataframe tbody tr th {\n",
              "        vertical-align: top;\n",
              "    }\n",
              "\n",
              "    .dataframe thead th {\n",
              "        text-align: right;\n",
              "    }\n",
              "</style>\n",
              "<table border=\"1\" class=\"dataframe\">\n",
              "  <thead>\n",
              "    <tr style=\"text-align: right;\">\n",
              "      <th></th>\n",
              "      <th>id</th>\n",
              "      <th>comment_text</th>\n",
              "      <th>target</th>\n",
              "    </tr>\n",
              "  </thead>\n",
              "  <tbody>\n",
              "    <tr>\n",
              "      <th>0</th>\n",
              "      <td>6101457</td>\n",
              "      <td>What are you talking about? What group do Pete...</td>\n",
              "      <td>0.0</td>\n",
              "    </tr>\n",
              "    <tr>\n",
              "      <th>1</th>\n",
              "      <td>5342103</td>\n",
              "      <td>NO!, Let him, we need a Conservative government.</td>\n",
              "      <td>0.0</td>\n",
              "    </tr>\n",
              "    <tr>\n",
              "      <th>2</th>\n",
              "      <td>743361</td>\n",
              "      <td>Perhaps he took the \"power out of the Cardinal...</td>\n",
              "      <td>0.2</td>\n",
              "    </tr>\n",
              "    <tr>\n",
              "      <th>3</th>\n",
              "      <td>551008</td>\n",
              "      <td>As always, yours is dripping with sarcasm, whi...</td>\n",
              "      <td>0.0</td>\n",
              "    </tr>\n",
              "    <tr>\n",
              "      <th>4</th>\n",
              "      <td>865998</td>\n",
              "      <td>The dirty little secret is that the price rang...</td>\n",
              "      <td>0.3</td>\n",
              "    </tr>\n",
              "  </tbody>\n",
              "</table>\n",
              "</div>\n",
              "      <button class=\"colab-df-convert\" onclick=\"convertToInteractive('df-cd7b044e-910e-40f8-bdbe-150a48790ced')\"\n",
              "              title=\"Convert this dataframe to an interactive table.\"\n",
              "              style=\"display:none;\">\n",
              "        \n",
              "  <svg xmlns=\"http://www.w3.org/2000/svg\" height=\"24px\"viewBox=\"0 0 24 24\"\n",
              "       width=\"24px\">\n",
              "    <path d=\"M0 0h24v24H0V0z\" fill=\"none\"/>\n",
              "    <path d=\"M18.56 5.44l.94 2.06.94-2.06 2.06-.94-2.06-.94-.94-2.06-.94 2.06-2.06.94zm-11 1L8.5 8.5l.94-2.06 2.06-.94-2.06-.94L8.5 2.5l-.94 2.06-2.06.94zm10 10l.94 2.06.94-2.06 2.06-.94-2.06-.94-.94-2.06-.94 2.06-2.06.94z\"/><path d=\"M17.41 7.96l-1.37-1.37c-.4-.4-.92-.59-1.43-.59-.52 0-1.04.2-1.43.59L10.3 9.45l-7.72 7.72c-.78.78-.78 2.05 0 2.83L4 21.41c.39.39.9.59 1.41.59.51 0 1.02-.2 1.41-.59l7.78-7.78 2.81-2.81c.8-.78.8-2.07 0-2.86zM5.41 20L4 18.59l7.72-7.72 1.47 1.35L5.41 20z\"/>\n",
              "  </svg>\n",
              "      </button>\n",
              "      \n",
              "  <style>\n",
              "    .colab-df-container {\n",
              "      display:flex;\n",
              "      flex-wrap:wrap;\n",
              "      gap: 12px;\n",
              "    }\n",
              "\n",
              "    .colab-df-convert {\n",
              "      background-color: #E8F0FE;\n",
              "      border: none;\n",
              "      border-radius: 50%;\n",
              "      cursor: pointer;\n",
              "      display: none;\n",
              "      fill: #1967D2;\n",
              "      height: 32px;\n",
              "      padding: 0 0 0 0;\n",
              "      width: 32px;\n",
              "    }\n",
              "\n",
              "    .colab-df-convert:hover {\n",
              "      background-color: #E2EBFA;\n",
              "      box-shadow: 0px 1px 2px rgba(60, 64, 67, 0.3), 0px 1px 3px 1px rgba(60, 64, 67, 0.15);\n",
              "      fill: #174EA6;\n",
              "    }\n",
              "\n",
              "    [theme=dark] .colab-df-convert {\n",
              "      background-color: #3B4455;\n",
              "      fill: #D2E3FC;\n",
              "    }\n",
              "\n",
              "    [theme=dark] .colab-df-convert:hover {\n",
              "      background-color: #434B5C;\n",
              "      box-shadow: 0px 1px 3px 1px rgba(0, 0, 0, 0.15);\n",
              "      filter: drop-shadow(0px 1px 2px rgba(0, 0, 0, 0.3));\n",
              "      fill: #FFFFFF;\n",
              "    }\n",
              "  </style>\n",
              "\n",
              "      <script>\n",
              "        const buttonEl =\n",
              "          document.querySelector('#df-cd7b044e-910e-40f8-bdbe-150a48790ced button.colab-df-convert');\n",
              "        buttonEl.style.display =\n",
              "          google.colab.kernel.accessAllowed ? 'block' : 'none';\n",
              "\n",
              "        async function convertToInteractive(key) {\n",
              "          const element = document.querySelector('#df-cd7b044e-910e-40f8-bdbe-150a48790ced');\n",
              "          const dataTable =\n",
              "            await google.colab.kernel.invokeFunction('convertToInteractive',\n",
              "                                                     [key], {});\n",
              "          if (!dataTable) return;\n",
              "\n",
              "          const docLinkHtml = 'Like what you see? Visit the ' +\n",
              "            '<a target=\"_blank\" href=https://colab.research.google.com/notebooks/data_table.ipynb>data table notebook</a>'\n",
              "            + ' to learn more about interactive tables.';\n",
              "          element.innerHTML = '';\n",
              "          dataTable['output_type'] = 'display_data';\n",
              "          await google.colab.output.renderOutput(dataTable, element);\n",
              "          const docLink = document.createElement('div');\n",
              "          docLink.innerHTML = docLinkHtml;\n",
              "          element.appendChild(docLink);\n",
              "        }\n",
              "      </script>\n",
              "    </div>\n",
              "  </div>\n",
              "  "
            ]
          },
          "metadata": {},
          "execution_count": 11
        }
      ],
      "source": [
        "# Carga de datos de archivos .csv\n",
        "df = pd.read_csv('https://raw.githubusercontent.com/albahnsen/MIAD_ML_and_NLP/main/datasets/Toxicity.zip')\n",
        "df = df[['id','comment_text', 'target']]\n",
        "df.head()"
      ]
    },
    {
      "cell_type": "code",
      "execution_count": null,
      "metadata": {
        "colab": {
          "base_uri": "https://localhost:8080/",
          "height": 448
        },
        "id": "xFHRPiIBfc6U",
        "outputId": "3c41aa89-d8a4-4fab-e3f0-dc33059bd6c4"
      },
      "outputs": [
        {
          "output_type": "execute_result",
          "data": {
            "text/plain": [
              "<Axes: >"
            ]
          },
          "metadata": {},
          "execution_count": 12
        },
        {
          "output_type": "display_data",
          "data": {
            "text/plain": [
              "<Figure size 640x480 with 1 Axes>"
            ],
            "image/png": "[encoded data removed]"
          },
          "metadata": {}
        }
      ],
      "source": [
        "# Impresión histograma de variable de interés (y)\n",
        "df.target.hist()"
      ]
    },
    {
      "cell_type": "code",
      "execution_count": null,
      "metadata": {
        "colab": {
          "base_uri": "https://localhost:8080/"
        },
        "id": "Hc_cYPMwfc6U",
        "outputId": "26671a35-9c7c-4d51-dbae-0f6d68362d6e"
      },
      "outputs": [
        {
          "output_type": "execute_result",
          "data": {
            "text/plain": [
              "count    541462.000000\n",
              "mean          0.102991\n",
              "std           0.196979\n",
              "min           0.000000\n",
              "25%           0.000000\n",
              "50%           0.000000\n",
              "75%           0.166667\n",
              "max           1.000000\n",
              "Name: target, dtype: float64"
            ]
          },
          "metadata": {},
          "execution_count": 13
        }
      ],
      "source": [
        "# Separación de variable de interés (y)\n",
        "y = df.target\n",
        "y.describe()"
      ]
    },
    {
      "cell_type": "code",
      "execution_count": null,
      "metadata": {
        "id": "L48kS7_-fc6V"
      },
      "outputs": [],
      "source": [
        "# Separación de variables predictoras (X), solo se considera el texto de la noticia\n",
        "X = df.comment_text"
      ]
    },
    {
      "cell_type": "code",
      "execution_count": null,
      "metadata": {
        "id": "x9wMxr68fc6W"
      },
      "outputs": [],
      "source": [
        "# Separación de datos en set de entrenamiento y test\n",
        "X_train, X_test, y_train, y_test = train_test_split(X, y, test_size=0.33, random_state=42)"
      ]
    },
    {
      "cell_type": "markdown",
      "metadata": {
        "id": "CIhh5-tGfc6W"
      },
      "source": [
        "## Punto 1 - Tokenización con CountVectorizer\n",
        "\n",
        "En la celda 1 creen y entrenen el modelo de regresión de su preferencia, para que prediga la probabilidad de que un comentario sea tóxico, usando los set de entrenamiento y test definidos anteriormente. Usen la función **CountVectorizer** para preprocesar los comentarios y presenten el desempeño del modelo con la métrica del MSE.\n",
        "\n",
        "Recuerden que el preprocesamiento que se haga sobre los datos de entrenamiento  (*.fit_transform()*) deben ser aplicado al set de test (*.transform()*)."
      ]
    },
    {
      "cell_type": "code",
      "execution_count": null,
      "metadata": {
        "id": "lyyTg4J4fc6X"
      },
      "outputs": [],
      "source": [
        "# Celda 1\n",
        "#todo minusculas\n",
        "vect_A = CountVectorizer(lowercase=True)\n",
        "X_dtm_A_train = vect_A.fit_transform(X_train)\n",
        "X_dtm_A_test = vect_A.transform(X_test)\n"
      ]
    },
    {
      "cell_type": "code",
      "source": [
        "X_dtm_A_train.shape"
      ],
      "metadata": {
        "colab": {
          "base_uri": "https://localhost:8080/"
        },
        "id": "Fhnk3OD9_BTb",
        "outputId": "9950ae1b-0512-4177-b7a3-9e93343121d7"
      },
      "execution_count": null,
      "outputs": [
        {
          "output_type": "execute_result",
          "data": {
            "text/plain": [
              "(362779, 141176)"
            ]
          },
          "metadata": {},
          "execution_count": 17
        }
      ]
    },
    {
      "cell_type": "code",
      "execution_count": null,
      "metadata": {
        "colab": {
          "base_uri": "https://localhost:8080/",
          "height": 248
        },
        "id": "jcsr_VV2-lck",
        "outputId": "54c3bd6a-3ba6-41f7-e72e-25a367e81ce2"
      },
      "outputs": [
        {
          "output_type": "execute_result",
          "data": {
            "text/plain": [
              "XGBRegressor(base_score=None, booster=None, callbacks=None,\n",
              "             colsample_bylevel=None, colsample_bynode=None,\n",
              "             colsample_bytree=None, early_stopping_rounds=None,\n",
              "             enable_categorical=False, eval_metric=None, feature_types=None,\n",
              "             gamma=None, gpu_id=None, grow_policy=None, importance_type=None,\n",
              "             interaction_constraints=None, learning_rate=None, max_bin=None,\n",
              "             max_cat_threshold=None, max_cat_to_onehot=None,\n",
              "             max_delta_step=None, max_depth=None, max_leaves=None,\n",
              "             min_child_weight=None, missing=nan, monotone_constraints=None,\n",
              "             n_estimators=100, n_jobs=None, num_parallel_tree=None,\n",
              "             predictor=None, random_state=None, ...)"
            ],
            "text/html": [
              "<style>#sk-container-id-1 {color: black;background-color: white;}#sk-container-id-1 pre{padding: 0;}#sk-container-id-1 div.sk-toggleable {background-color: white;}#sk-container-id-1 label.sk-toggleable__label {cursor: pointer;display: block;width: 100%;margin-bottom: 0;padding: 0.3em;box-sizing: border-box;text-align: center;}#sk-container-id-1 label.sk-toggleable__label-arrow:before {content: \"▸\";float: left;margin-right: 0.25em;color: #696969;}#sk-container-id-1 label.sk-toggleable__label-arrow:hover:before {color: black;}#sk-container-id-1 div.sk-estimator:hover label.sk-toggleable__label-arrow:before {color: black;}#sk-container-id-1 div.sk-toggleable__content {max-height: 0;max-width: 0;overflow: hidden;text-align: left;background-color: #f0f8ff;}#sk-container-id-1 div.sk-toggleable__content pre {margin: 0.2em;color: black;border-radius: 0.25em;background-color: #f0f8ff;}#sk-container-id-1 input.sk-toggleable__control:checked~div.sk-toggleable__content {max-height: 200px;max-width: 100%;overflow: auto;}#sk-container-id-1 input.sk-toggleable__control:checked~label.sk-toggleable__label-arrow:before {content: \"▾\";}#sk-container-id-1 div.sk-estimator input.sk-toggleable__control:checked~label.sk-toggleable__label {background-color: #d4ebff;}#sk-container-id-1 div.sk-label input.sk-toggleable__control:checked~label.sk-toggleable__label {background-color: #d4ebff;}#sk-container-id-1 input.sk-hidden--visually {border: 0;clip: rect(1px 1px 1px 1px);clip: rect(1px, 1px, 1px, 1px);height: 1px;margin: -1px;overflow: hidden;padding: 0;position: absolute;width: 1px;}#sk-container-id-1 div.sk-estimator {font-family: monospace;background-color: #f0f8ff;border: 1px dotted black;border-radius: 0.25em;box-sizing: border-box;margin-bottom: 0.5em;}#sk-container-id-1 div.sk-estimator:hover {background-color: #d4ebff;}#sk-container-id-1 div.sk-parallel-item::after {content: \"\";width: 100%;border-bottom: 1px solid gray;flex-grow: 1;}#sk-container-id-1 div.sk-label:hover label.sk-toggleable__label {background-color: #d4ebff;}#sk-container-id-1 div.sk-serial::before {content: \"\";position: absolute;border-left: 1px solid gray;box-sizing: border-box;top: 0;bottom: 0;left: 50%;z-index: 0;}#sk-container-id-1 div.sk-serial {display: flex;flex-direction: column;align-items: center;background-color: white;padding-right: 0.2em;padding-left: 0.2em;position: relative;}#sk-container-id-1 div.sk-item {position: relative;z-index: 1;}#sk-container-id-1 div.sk-parallel {display: flex;align-items: stretch;justify-content: center;background-color: white;position: relative;}#sk-container-id-1 div.sk-item::before, #sk-container-id-1 div.sk-parallel-item::before {content: \"\";position: absolute;border-left: 1px solid gray;box-sizing: border-box;top: 0;bottom: 0;left: 50%;z-index: -1;}#sk-container-id-1 div.sk-parallel-item {display: flex;flex-direction: column;z-index: 1;position: relative;background-color: white;}#sk-container-id-1 div.sk-parallel-item:first-child::after {align-self: flex-end;width: 50%;}#sk-container-id-1 div.sk-parallel-item:last-child::after {align-self: flex-start;width: 50%;}#sk-container-id-1 div.sk-parallel-item:only-child::after {width: 0;}#sk-container-id-1 div.sk-dashed-wrapped {border: 1px dashed gray;margin: 0 0.4em 0.5em 0.4em;box-sizing: border-box;padding-bottom: 0.4em;background-color: white;}#sk-container-id-1 div.sk-label label {font-family: monospace;font-weight: bold;display: inline-block;line-height: 1.2em;}#sk-container-id-1 div.sk-label-container {text-align: center;}#sk-container-id-1 div.sk-container {/* jupyter's `normalize.less` sets `[hidden] { display: none; }` but bootstrap.min.css set `[hidden] { display: none !important; }` so we also need the `!important` here to be able to override the default hidden behavior on the sphinx rendered scikit-learn.org. See: https://github.com/scikit-learn/scikit-learn/issues/21755 */display: inline-block !important;position: relative;}#sk-container-id-1 div.sk-text-repr-fallback {display: none;}</style><div id=\"sk-container-id-1\" class=\"sk-top-container\"><div class=\"sk-text-repr-fallback\"><pre>XGBRegressor(base_score=None, booster=None, callbacks=None,\n",
              "             colsample_bylevel=None, colsample_bynode=None,\n",
              "             colsample_bytree=None, early_stopping_rounds=None,\n",
              "             enable_categorical=False, eval_metric=None, feature_types=None,\n",
              "             gamma=None, gpu_id=None, grow_policy=None, importance_type=None,\n",
              "             interaction_constraints=None, learning_rate=None, max_bin=None,\n",
              "             max_cat_threshold=None, max_cat_to_onehot=None,\n",
              "             max_delta_step=None, max_depth=None, max_leaves=None,\n",
              "             min_child_weight=None, missing=nan, monotone_constraints=None,\n",
              "             n_estimators=100, n_jobs=None, num_parallel_tree=None,\n",
              "             predictor=None, random_state=None, ...)</pre><b>In a Jupyter environment, please rerun this cell to show the HTML representation or trust the notebook. <br />On GitHub, the HTML representation is unable to render, please try loading this page with nbviewer.org.</b></div><div class=\"sk-container\" hidden><div class=\"sk-item\"><div class=\"sk-estimator sk-toggleable\"><input class=\"sk-toggleable__control sk-hidden--visually\" id=\"sk-estimator-id-1\" type=\"checkbox\" checked><label for=\"sk-estimator-id-1\" class=\"sk-toggleable__label sk-toggleable__label-arrow\">XGBRegressor</label><div class=\"sk-toggleable__content\"><pre>XGBRegressor(base_score=None, booster=None, callbacks=None,\n",
              "             colsample_bylevel=None, colsample_bynode=None,\n",
              "             colsample_bytree=None, early_stopping_rounds=None,\n",
              "             enable_categorical=False, eval_metric=None, feature_types=None,\n",
              "             gamma=None, gpu_id=None, grow_policy=None, importance_type=None,\n",
              "             interaction_constraints=None, learning_rate=None, max_bin=None,\n",
              "             max_cat_threshold=None, max_cat_to_onehot=None,\n",
              "             max_delta_step=None, max_depth=None, max_leaves=None,\n",
              "             min_child_weight=None, missing=nan, monotone_constraints=None,\n",
              "             n_estimators=100, n_jobs=None, num_parallel_tree=None,\n",
              "             predictor=None, random_state=None, ...)</pre></div></div></div></div></div>"
            ]
          },
          "metadata": {},
          "execution_count": 18
        }
      ],
      "source": [
        "model_1 = XGBRegressor()\n",
        "model_1.fit(X_dtm_A_train,y_train)"
      ]
    },
    {
      "cell_type": "code",
      "execution_count": null,
      "metadata": {
        "id": "OMVZasI4tea-",
        "colab": {
          "base_uri": "https://localhost:8080/"
        },
        "outputId": "d19a3b98-c009-48e7-82a9-33548098a546"
      },
      "outputs": [
        {
          "output_type": "stream",
          "name": "stdout",
          "text": [
            "MSE: 0.020749476727491955\n"
          ]
        }
      ],
      "source": [
        "\n",
        "y_pred_1 = model_1.predict(X_dtm_A_test)\n",
        "mse_1 = mean_squared_error(y_test, y_pred_1)\n",
        "print('MSE:',mse_1)"
      ]
    },
    {
      "cell_type": "markdown",
      "source": [
        "**Comentarios**:\n",
        "\n",
        "En este primer punto, se trata de predecir si un comentario es tóxico basado en el contenido del texto usando la funcion Count Vectorizer.\n",
        "\n",
        "Esta función convierte un texto en una repesentación númerica que se basa en la ocurrencia de palabras en el texto. \n",
        "\n",
        "En este caso, usamos el lowercase=True, para así manejar todas las pálabras de la misma manera sin depender si fueron escritas con mayuscula o miniscula.\n",
        "\n",
        "Luego de aplicar el Count Vectorizer a X_train, se hace lo mismo a X_test. Luego aplicamos un XGBRegressor, como algoritmo de gradient boosting, para determinar si los comentarios son tóxicos. En este modelo vemos un MSE de 0.21 que nos indica un desempeño del modelo que vamos a comparar más adelante."
      ],
      "metadata": {
        "id": "QjFG1KLZA-3c"
      }
    },
    {
      "cell_type": "markdown",
      "metadata": {
        "id": "MEWqIxKPfc7H"
      },
      "source": [
        "## Punto 2 - Tokenización con CountVectorizer y trigramas\n",
        "\n",
        "En la celda 2 creen y entrenen el mismo modelo de regresión del punto anterior (es decir si usaron un RandomForestRegresor usen nuevamente ese regresor), para que prediga la probabilidad de que un comentario sea tóxico, usando los set de entrenamiento y test definidos anteriormente. Usen la función CountVectorizer **considerando trigramas** para preprocesar los comentarios y presenten el desempeño del modelo con la métrica del MSE.\n",
        "\n",
        "Recuerden que el preprocesamiento que se haga sobre los datos de entrenamiento  (*.fit_transform()*) deben ser aplicado al set de test (*.transform()*)."
      ]
    },
    {
      "cell_type": "markdown",
      "source": [
        "**OPCION 1**\n",
        "\n",
        "\n"
      ],
      "metadata": {
        "id": "h6UqeTqg8Nht"
      }
    },
    {
      "cell_type": "code",
      "execution_count": null,
      "metadata": {
        "id": "hPHBkjM2fc7I"
      },
      "outputs": [],
      "source": [
        "# Celda 2\n",
        "vect_B = CountVectorizer(lowercase=True,ngram_range=(3,3))\n",
        "X_dtm_B_train = vect_B.fit_transform(X_train)\n",
        "X_dtm_B_test = vect_B.transform(X_test)\n"
      ]
    },
    {
      "cell_type": "code",
      "source": [
        "X_dtm_B_train.shape"
      ],
      "metadata": {
        "colab": {
          "base_uri": "https://localhost:8080/"
        },
        "id": "xk3eZvGxBPLi",
        "outputId": "3eb57c15-4aef-48f6-e1f2-7f4a626cb6cf"
      },
      "execution_count": null,
      "outputs": [
        {
          "output_type": "execute_result",
          "data": {
            "text/plain": [
              "(362779, 10546378)"
            ]
          },
          "metadata": {},
          "execution_count": 21
        }
      ]
    },
    {
      "cell_type": "code",
      "execution_count": null,
      "metadata": {
        "id": "GXkOjgv8ltJP",
        "colab": {
          "base_uri": "https://localhost:8080/"
        },
        "outputId": "bec6789c-8f0b-42a6-d2f4-8e7b3e2afa1c"
      },
      "outputs": [
        {
          "output_type": "stream",
          "name": "stdout",
          "text": [
            "MSE opcion 1: 0.03663440486459287\n"
          ]
        }
      ],
      "source": [
        "model_2 = XGBRegressor()\n",
        "model_2.fit(X_dtm_B_train,y_train)\n",
        "y_pred_2 = model_2.predict(X_dtm_B_test)\n",
        "mse_2_op1 = mean_squared_error(y_test, y_pred_2)\n",
        "print('MSE opcion 1:',mse_2_op1)"
      ]
    },
    {
      "cell_type": "markdown",
      "source": [
        "**OPCION 2**"
      ],
      "metadata": {
        "id": "6_xaJHWK8YXR"
      }
    },
    {
      "cell_type": "code",
      "execution_count": null,
      "metadata": {
        "id": "-vGkuRfd8WlN"
      },
      "outputs": [],
      "source": [
        "# Celda 2\n",
        "vect_B = CountVectorizer(lowercase=True,ngram_range=(1,3))\n",
        "X_dtm_B_train = vect_B.fit_transform(X_train)\n",
        "X_dtm_B_test = vect_B.transform(X_test)\n"
      ]
    },
    {
      "cell_type": "code",
      "source": [
        "X_dtm_B_train.shape"
      ],
      "metadata": {
        "colab": {
          "base_uri": "https://localhost:8080/"
        },
        "id": "XIhTkBhL8WlO",
        "outputId": "e100964f-3737-4927-9f5f-f5486d264c07"
      },
      "execution_count": null,
      "outputs": [
        {
          "output_type": "execute_result",
          "data": {
            "text/plain": [
              "(362779, 14221994)"
            ]
          },
          "metadata": {},
          "execution_count": 24
        }
      ]
    },
    {
      "cell_type": "code",
      "execution_count": null,
      "metadata": {
        "colab": {
          "base_uri": "https://localhost:8080/"
        },
        "id": "v8G3nXXX8WlO",
        "outputId": "3d2a8097-26a0-4631-bcf1-0d5f90c646bd"
      },
      "outputs": [
        {
          "output_type": "stream",
          "name": "stdout",
          "text": [
            "MSE opcion 2: 0.020656004628689325\n"
          ]
        }
      ],
      "source": [
        "model_2 = XGBRegressor()\n",
        "model_2.fit(X_dtm_B_train,y_train)\n",
        "y_pred_2 = model_2.predict(X_dtm_B_test)\n",
        "mse_2_op2 = mean_squared_error(y_test, y_pred_2)\n",
        "print('MSE opcion 2:',mse_2_op2)"
      ]
    },
    {
      "cell_type": "markdown",
      "source": [
        "**Comentarios**:\n",
        "\n",
        "Para el punto número 2, vamos a utilizar la misma función de Count Vectorizer pero ahora tendremos en cuenta los trigramas. Esto se hace para tener en cuenta los patrones y relaciones de palabras consecutivas en el texto, lo cual puede ayudar a mejorar la precisión. Para esto utilizamos dos opciones:\n",
        "* Por un lado tenemos la opcion 'ngram_range=(3, 3)' donde solo se consideran trigramas.\n",
        "* El otro caso tenemos 'ngram_range=(1, 3)' donde se pueden ver unigramas, biogramas y trigramas.\n",
        "\n",
        "Aplicando el mismo modelo de XGBRegressor, podemos ver que en el caso de solo trigramas obtenemos un MSE de 0.036 y al adicionar unigramas y bigramas vemos una mejora del MSE a 0.021. Hasta ahora, este procesamiento de datos es el que mejor resultado tiene."
      ],
      "metadata": {
        "id": "jxC7i1gqC1XD"
      }
    },
    {
      "cell_type": "markdown",
      "metadata": {
        "id": "hQPbRq4pfc7I"
      },
      "source": [
        "## Punto 3 - TfidfVectorizer\n",
        "\n",
        "Investigen sobre la función TfidfVectorizer. En la celda de texto 3, expliquen en qué consiste esta técnica de tokenización (describanla y expliquen su funcionamiento) y cúales son las ventajas o deventajas de su uso al compararlo con la función CountVectorizer."
      ]
    },
    {
      "cell_type": "markdown",
      "metadata": {
        "id": "fbcjvAFSmQpK"
      },
      "source": [
        "TfidfVectorizer es una técnica de tokenización que utiliza la frecuencia inversa de un texto y crea una representación vectorial de los textos de entrada. \n",
        "\n",
        "La diferencia con CountVectorizer (cuenta la frecuencia de cada palabra), TfidfVectorizer tiene en cuenta tanto la frecuencia de una palabra en un texto como la frecuencia con la que aparece en un conjunto de textos.\n",
        "\n",
        "La técnica Tfidf se compone de dos partes:\n",
        "\n",
        "* **Frecuencia de término (tf)**: es la frecuencia con la que una palabra específica aparece en un texto. Cuanto mayor sea la frecuencia, más importante se considera la palabra para el texto.\n",
        "\n",
        "* **Frecuencia inversa de documento (idf):** es una medida de la rareza de una palabra en todo el conjunto de textos. Se calcula como el logaritmo del número total de textos dividido por el número de textos en los que aparece la palabra. \n",
        "\n",
        "> $$ idf(t, d, D) = log \\frac{ \\mid \\text{ } D \\text{ } \\mid }{ 1 + \\mid \\{ d : t \\in d \\} \\mid } $$ \\\n",
        "\n",
        "\n",
        "El resultado final se obtiene multiplicando tf y idf, este valor indica qué tan informativa es la palabra para el conjunto de textos.\n",
        "\n",
        "> $$\\text{tf-idf}(t, d, D) = \\text{tf}(t, d) \\times \\text{idf}(t, d, D)$$ \\\n",
        "\n",
        "\n",
        "Teniendo en cuenta lo anterior, la representación vectorial de TfidfVectorizer es una matriz en la que cada fila hay un texto y cada columna una palabra. Los valores en la matriz son las puntuaciones idf para cada palabra en cada texto.\n",
        "\n",
        "**Las ventajas de TfidfVectorizer sobre CountVectorizer son:**\n",
        "\n",
        "**1.** Considera la ***importancia relativa*** de cada palabra en lugar de  contar la frecuencia de cada palabra.\n",
        "\n",
        "**2.** Reduce la importancia de las palabras comunes que aparecen en muchos textos y aumenta la importancia de las palabras raras que son más informativas para la ***comprensión del contenido***.\n",
        "\n",
        "**3.** Es más adecuado para textos largos y conjunto de textos grandes.\n",
        "\n",
        "**Desventajas**\n",
        "\n",
        "**1.**Requiere más tiempo de procesamiento y más recursos computacionales que CountVectorizer.\n",
        "\n",
        "**2.**Es menos efectivo en la detección de similitudes entre textos cortos.\n"
      ]
    },
    {
      "cell_type": "markdown",
      "metadata": {
        "id": "U4bsFNUHfc7J"
      },
      "source": [
        "## Punto 4 - Tokenización con TfidfVectorizer\n",
        "\n",
        "En la celda 4 creen y entrenen el mismo modelo de regresión del primer punto, para que prediga la probabilidad de que un comentario sea tóxico, usando los set de entrenamiento y test definidos anteriormente. Procesen los comentarios con la función **TfidfVectorizer** y presenten el desempeño del modelo con la métrica del MSE.\n",
        "\n",
        "Recuerden que el preprocesamiento que se haga sobre los datos de entrenamiento  (*.fit_transform()*) deben ser aplicado al set de test (*.transform()*)."
      ]
    },
    {
      "cell_type": "code",
      "execution_count": null,
      "metadata": {
        "id": "YFEzjZw5fc7K"
      },
      "outputs": [],
      "source": [
        "# Celda 4\n",
        "from sklearn.feature_extraction.text import TfidfVectorizer\n",
        "vect_C = TfidfVectorizer(lowercase=True)\n",
        "X_dtm_C_train = vect_C.fit_transform(X_train)\n",
        "X_dtm_C_test = vect_C.transform(X_test)\n"
      ]
    },
    {
      "cell_type": "code",
      "source": [
        "X_dtm_C_train.shape"
      ],
      "metadata": {
        "colab": {
          "base_uri": "https://localhost:8080/"
        },
        "id": "oII8L6_bFun4",
        "outputId": "96d530cf-ddb6-4547-fc91-44727c8bde56"
      },
      "execution_count": null,
      "outputs": [
        {
          "output_type": "execute_result",
          "data": {
            "text/plain": [
              "(362779, 141176)"
            ]
          },
          "metadata": {},
          "execution_count": 27
        }
      ]
    },
    {
      "cell_type": "code",
      "execution_count": null,
      "metadata": {
        "id": "96gAECHls9rs",
        "colab": {
          "base_uri": "https://localhost:8080/"
        },
        "outputId": "0b012865-7d14-4a6c-b548-34fbaa3fd21a"
      },
      "outputs": [
        {
          "output_type": "stream",
          "name": "stdout",
          "text": [
            "MSE: 0.020343818478258637\n"
          ]
        }
      ],
      "source": [
        "model_3 = XGBRegressor()\n",
        "model_3.fit(X_dtm_C_train,y_train)\n",
        "y_pred_3 = model_3.predict(X_dtm_C_test)\n",
        "mse_3 = mean_squared_error(y_test, y_pred_3)\n",
        "print('MSE:',mse_3)"
      ]
    },
    {
      "cell_type": "markdown",
      "source": [
        "**Comentarios**:\n",
        "\n",
        "En el punto 4, estamos utilizando la funcion TfidfVectorizer, que como fue explicado en el punto pasado, mira tanto la ocurrencia de una palabra en el texto, como también en todo el conjunto de textos.\n",
        "\n",
        "De nuevo con el modelo XGBRegressor, obtenemos el mejor resultados hasta el momento con un MSE de 0.20."
      ],
      "metadata": {
        "id": "2YLKa4Y1Eg65"
      }
    },
    {
      "cell_type": "markdown",
      "metadata": {
        "id": "DkW3RJgifc7K"
      },
      "source": [
        "## Punto 5 - Comparación y análisis de resultados\n",
        "\n",
        "En la celda 5 comparen los resultados obtenidos de los diferentes modelos y comenten cómo el preprocesamiento de texto afecta el desempeño."
      ]
    },
    {
      "cell_type": "code",
      "execution_count": null,
      "metadata": {
        "id": "jZ1vJLvPfc7x",
        "colab": {
          "base_uri": "https://localhost:8080/"
        },
        "outputId": "6f090e21-b539-4938-a9cf-95ae91e0308d"
      },
      "outputs": [
        {
          "output_type": "display_data",
          "data": {
            "text/plain": [
              "<Figure size 800x300 with 1 Axes>"
            ],
            "image/png": "[encoded data removed]"
          },
          "metadata": {}
        }
      ],
      "source": [
        "# Celda 5\n",
        "fig = plt.figure(figsize=[8,3])\n",
        "ax = fig.add_axes([0,0,1,1])\n",
        "ax.set_title(\"Comparación de modelos por MSE\")\n",
        "#faltan los de filtrado\n",
        "ejeX = ['CountVectorizer','CountVectorizer trigram (3,3)','CountVectorizer trigram (1,3)','TfidfVectorizer']\n",
        "ejeY = [mse_1,mse_2_op1,mse_2_op2,mse_3]\n",
        "ejeY = [round(v,5) for v in ejeY]\n",
        "ax.bar(ejeX,ejeY)\n",
        "def addlabels(x,y,plotP):\n",
        "    for i in range(len(x)):\n",
        "        plotP.text(i,y[i],y[i])\n",
        "addlabels(ejeX,ejeY,plt)\n",
        "plt.xticks(rotation = 45)\n",
        "plt.show()"
      ]
    },
    {
      "cell_type": "markdown",
      "source": [
        "Al evaluar las diferentes técnicas de tokenización con un mismo modelo, podemos comparar los resultados, utilizando el MSE como métrica. A continuación veremos las diferentes formas de preprocesamiento de texto como afectan el desempeño. \n",
        "\n",
        "**Desempeño de la función de CountVectorizer:**\n",
        "1. Al especificar ngram_range=(3,3) para definir trigramas. limita la partición del texto.\n",
        "2. CountVectorizer con ngram_range=(1,3) en el que recorre unigramas, bigramas o trigramas. \n",
        "3. CountVectorizer sin especificar ngram_range\n",
        "\n",
        "los resultados CountVectorizer usando combinanciones (CountVectorizer sin especificar ngram_range o CountVectorizer con ngram_range=(1,3) ) los resultados de MSE son similares por lo que generan valor , al definir si existen frases o palabras claves en los comentarios para identificar si estos son tóxicos.\n",
        "\n",
        "**Desempeño de la función de TfidfVectorizer:**\n",
        "\n",
        "con respecto a las funciones y parametros usuados en la función de CountVectorizer, se evidencia que TfidfVectorizer presenta un mejor desempeño del modelo con el MSE más bajo en la indentificación de comentarios toxicos,  sin embargo al especificar los ngram_range en CountVectorizer, los resultados son similares, por lo tanto  es importante estudiar tanto los textos por separado, como todo el conjunto de textos, ya que cualquier función presenta un buen desempeño, se debe considerar el redimiento computacional y el tamaño de los textos al momento de elegir. \n"
      ],
      "metadata": {
        "id": "8yYps1rzVMiy"
      }
    }
  ],
  "metadata": {
    "colab": {
      "provenance": []
    },
    "kernelspec": {
      "display_name": "Python 3 (ipykernel)",
      "language": "python",
      "name": "python3"
    },
    "language_info": {
      "codemirror_mode": {
        "name": "ipython",
        "version": 3
      },
      "file_extension": ".py",
      "mimetype": "text/x-python",
      "name": "python",
      "nbconvert_exporter": "python",
      "pygments_lexer": "ipython3",
      "version": "3.9.13"
    },
    "name": "_merged"
  },
  "nbformat": 4,
  "nbformat_minor": 0
}