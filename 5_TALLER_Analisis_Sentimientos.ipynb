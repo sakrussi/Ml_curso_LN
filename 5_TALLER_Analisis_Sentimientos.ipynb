{
  "cells": [
    {
      "cell_type": "markdown",
      "metadata": {
        "id": "0RjWLMFOe3wA"
      },
      "source": [
        "![image info](https://raw.githubusercontent.com/albahnsen/MIAD_ML_and_NLP/main/images/banner_1.png)"
      ]
    },
    {
      "cell_type": "markdown",
      "metadata": {
        "id": "60mb8pmAe3wE"
      },
      "source": [
        "# Taller: Análisis de sentimientos y técnicas de NLP\n",
        "\n",
        "En este taller podrán poner en práctica sus conocimientos sobre las diferentes técnicas para el procesamiento de lenguaje natural. El taller está constituido por 5 puntos, en los cuales deberan seguir las intrucciones de cada numeral para su desarrollo."
      ]
    },
    {
      "cell_type": "markdown",
      "metadata": {
        "id": "9Z7iLdPBe3wF"
      },
      "source": [
        "## Datos predicción sentimientos de viajeros en Twitter\n",
        "\n",
        "En este taller se usará el conjunto de datos de sentimientos sobre distintas aerolíneas de EE.UU. provenientes de Twitter. Cada observación contiene si el sentimiento de los tweets es positivo, neutral o negativo teniendo en cuenta distintas variables como aerolínea y las razones de los sentimientos negativos (como \"retraso en el vuelo\" o \"servicio grosero\"). El objetivo es predecir el sentimiento asociado a cada tweet. Para más detalles pueden visitar el siguiente enlace: [datos](https://www.kaggle.com/crowdflower/twitter-airline-sentiment)."
      ]
    },
    {
      "cell_type": "code",
      "execution_count": null,
      "metadata": {
        "id": "pxcRjNV6e3wG"
      },
      "outputs": [],
      "source": [
        "import warnings\n",
        "warnings.filterwarnings('ignore')"
      ]
    },
    {
      "cell_type": "code",
      "execution_count": null,
      "metadata": {
        "id": "ZMk6U_YYe3wJ"
      },
      "outputs": [],
      "source": [
        "# Importación de librerías\n",
        "import pandas as pd\n",
        "import numpy as np\n",
        "%matplotlib inline\n",
        "import matplotlib.pyplot as plt"
      ]
    },
    {
      "cell_type": "code",
      "execution_count": null,
      "metadata": {
        "colab": {
          "base_uri": "https://localhost:8080/",
          "height": 527
        },
        "id": "Tic0y8Pde3wJ",
        "outputId": "9a53db48-237d-4d4b-ce39-b401473064ce"
      },
      "outputs": [
        {
          "data": {
            "text/html": [
              "\n",
              "  <div id=\"df-835e7cf2-7c47-44d5-bb0a-c6b682bb2ac6\">\n",
              "    <div class=\"colab-df-container\">\n",
              "      <div>\n",
              "<style scoped>\n",
              "    .dataframe tbody tr th:only-of-type {\n",
              "        vertical-align: middle;\n",
              "    }\n",
              "\n",
              "    .dataframe tbody tr th {\n",
              "        vertical-align: top;\n",
              "    }\n",
              "\n",
              "    .dataframe thead th {\n",
              "        text-align: right;\n",
              "    }\n",
              "</style>\n",
              "<table border=\"1\" class=\"dataframe\">\n",
              "  <thead>\n",
              "    <tr style=\"text-align: right;\">\n",
              "      <th></th>\n",
              "      <th>airline_sentiment</th>\n",
              "      <th>airline_sentiment_confidence</th>\n",
              "      <th>negativereason</th>\n",
              "      <th>negativereason_confidence</th>\n",
              "      <th>airline</th>\n",
              "      <th>airline_sentiment_gold</th>\n",
              "      <th>name</th>\n",
              "      <th>negativereason_gold</th>\n",
              "      <th>retweet_count</th>\n",
              "      <th>text</th>\n",
              "      <th>tweet_coord</th>\n",
              "      <th>tweet_created</th>\n",
              "      <th>tweet_location</th>\n",
              "      <th>user_timezone</th>\n",
              "    </tr>\n",
              "    <tr>\n",
              "      <th>tweet_id</th>\n",
              "      <th></th>\n",
              "      <th></th>\n",
              "      <th></th>\n",
              "      <th></th>\n",
              "      <th></th>\n",
              "      <th></th>\n",
              "      <th></th>\n",
              "      <th></th>\n",
              "      <th></th>\n",
              "      <th></th>\n",
              "      <th></th>\n",
              "      <th></th>\n",
              "      <th></th>\n",
              "      <th></th>\n",
              "    </tr>\n",
              "  </thead>\n",
              "  <tbody>\n",
              "    <tr>\n",
              "      <th>570306133677760513</th>\n",
              "      <td>neutral</td>\n",
              "      <td>1.0000</td>\n",
              "      <td>NaN</td>\n",
              "      <td>NaN</td>\n",
              "      <td>Virgin America</td>\n",
              "      <td>NaN</td>\n",
              "      <td>cairdin</td>\n",
              "      <td>NaN</td>\n",
              "      <td>0</td>\n",
              "      <td>@VirginAmerica What @dhepburn said.</td>\n",
              "      <td>NaN</td>\n",
              "      <td>2015-02-24 11:35:52 -0800</td>\n",
              "      <td>NaN</td>\n",
              "      <td>Eastern Time (US &amp; Canada)</td>\n",
              "    </tr>\n",
              "    <tr>\n",
              "      <th>570301130888122368</th>\n",
              "      <td>positive</td>\n",
              "      <td>0.3486</td>\n",
              "      <td>NaN</td>\n",
              "      <td>0.0000</td>\n",
              "      <td>Virgin America</td>\n",
              "      <td>NaN</td>\n",
              "      <td>jnardino</td>\n",
              "      <td>NaN</td>\n",
              "      <td>0</td>\n",
              "      <td>@VirginAmerica plus you've added commercials t...</td>\n",
              "      <td>NaN</td>\n",
              "      <td>2015-02-24 11:15:59 -0800</td>\n",
              "      <td>NaN</td>\n",
              "      <td>Pacific Time (US &amp; Canada)</td>\n",
              "    </tr>\n",
              "    <tr>\n",
              "      <th>570301083672813571</th>\n",
              "      <td>neutral</td>\n",
              "      <td>0.6837</td>\n",
              "      <td>NaN</td>\n",
              "      <td>NaN</td>\n",
              "      <td>Virgin America</td>\n",
              "      <td>NaN</td>\n",
              "      <td>yvonnalynn</td>\n",
              "      <td>NaN</td>\n",
              "      <td>0</td>\n",
              "      <td>@VirginAmerica I didn't today... Must mean I n...</td>\n",
              "      <td>NaN</td>\n",
              "      <td>2015-02-24 11:15:48 -0800</td>\n",
              "      <td>Lets Play</td>\n",
              "      <td>Central Time (US &amp; Canada)</td>\n",
              "    </tr>\n",
              "    <tr>\n",
              "      <th>570301031407624196</th>\n",
              "      <td>negative</td>\n",
              "      <td>1.0000</td>\n",
              "      <td>Bad Flight</td>\n",
              "      <td>0.7033</td>\n",
              "      <td>Virgin America</td>\n",
              "      <td>NaN</td>\n",
              "      <td>jnardino</td>\n",
              "      <td>NaN</td>\n",
              "      <td>0</td>\n",
              "      <td>@VirginAmerica it's really aggressive to blast...</td>\n",
              "      <td>NaN</td>\n",
              "      <td>2015-02-24 11:15:36 -0800</td>\n",
              "      <td>NaN</td>\n",
              "      <td>Pacific Time (US &amp; Canada)</td>\n",
              "    </tr>\n",
              "    <tr>\n",
              "      <th>570300817074462722</th>\n",
              "      <td>negative</td>\n",
              "      <td>1.0000</td>\n",
              "      <td>Can't Tell</td>\n",
              "      <td>1.0000</td>\n",
              "      <td>Virgin America</td>\n",
              "      <td>NaN</td>\n",
              "      <td>jnardino</td>\n",
              "      <td>NaN</td>\n",
              "      <td>0</td>\n",
              "      <td>@VirginAmerica and it's a really big bad thing...</td>\n",
              "      <td>NaN</td>\n",
              "      <td>2015-02-24 11:14:45 -0800</td>\n",
              "      <td>NaN</td>\n",
              "      <td>Pacific Time (US &amp; Canada)</td>\n",
              "    </tr>\n",
              "  </tbody>\n",
              "</table>\n",
              "</div>\n",
              "      <button class=\"colab-df-convert\" onclick=\"convertToInteractive('df-835e7cf2-7c47-44d5-bb0a-c6b682bb2ac6')\"\n",
              "              title=\"Convert this dataframe to an interactive table.\"\n",
              "              style=\"display:none;\">\n",
              "        \n",
              "  <svg xmlns=\"http://www.w3.org/2000/svg\" height=\"24px\"viewBox=\"0 0 24 24\"\n",
              "       width=\"24px\">\n",
              "    <path d=\"M0 0h24v24H0V0z\" fill=\"none\"/>\n",
              "    <path d=\"M18.56 5.44l.94 2.06.94-2.06 2.06-.94-2.06-.94-.94-2.06-.94 2.06-2.06.94zm-11 1L8.5 8.5l.94-2.06 2.06-.94-2.06-.94L8.5 2.5l-.94 2.06-2.06.94zm10 10l.94 2.06.94-2.06 2.06-.94-2.06-.94-.94-2.06-.94 2.06-2.06.94z\"/><path d=\"M17.41 7.96l-1.37-1.37c-.4-.4-.92-.59-1.43-.59-.52 0-1.04.2-1.43.59L10.3 9.45l-7.72 7.72c-.78.78-.78 2.05 0 2.83L4 21.41c.39.39.9.59 1.41.59.51 0 1.02-.2 1.41-.59l7.78-7.78 2.81-2.81c.8-.78.8-2.07 0-2.86zM5.41 20L4 18.59l7.72-7.72 1.47 1.35L5.41 20z\"/>\n",
              "  </svg>\n",
              "      </button>\n",
              "      \n",
              "  <style>\n",
              "    .colab-df-container {\n",
              "      display:flex;\n",
              "      flex-wrap:wrap;\n",
              "      gap: 12px;\n",
              "    }\n",
              "\n",
              "    .colab-df-convert {\n",
              "      background-color: #E8F0FE;\n",
              "      border: none;\n",
              "      border-radius: 50%;\n",
              "      cursor: pointer;\n",
              "      display: none;\n",
              "      fill: #1967D2;\n",
              "      height: 32px;\n",
              "      padding: 0 0 0 0;\n",
              "      width: 32px;\n",
              "    }\n",
              "\n",
              "    .colab-df-convert:hover {\n",
              "      background-color: #E2EBFA;\n",
              "      box-shadow: 0px 1px 2px rgba(60, 64, 67, 0.3), 0px 1px 3px 1px rgba(60, 64, 67, 0.15);\n",
              "      fill: #174EA6;\n",
              "    }\n",
              "\n",
              "    [theme=dark] .colab-df-convert {\n",
              "      background-color: #3B4455;\n",
              "      fill: #D2E3FC;\n",
              "    }\n",
              "\n",
              "    [theme=dark] .colab-df-convert:hover {\n",
              "      background-color: #434B5C;\n",
              "      box-shadow: 0px 1px 3px 1px rgba(0, 0, 0, 0.15);\n",
              "      filter: drop-shadow(0px 1px 2px rgba(0, 0, 0, 0.3));\n",
              "      fill: #FFFFFF;\n",
              "    }\n",
              "  </style>\n",
              "\n",
              "      <script>\n",
              "        const buttonEl =\n",
              "          document.querySelector('#df-835e7cf2-7c47-44d5-bb0a-c6b682bb2ac6 button.colab-df-convert');\n",
              "        buttonEl.style.display =\n",
              "          google.colab.kernel.accessAllowed ? 'block' : 'none';\n",
              "\n",
              "        async function convertToInteractive(key) {\n",
              "          const element = document.querySelector('#df-835e7cf2-7c47-44d5-bb0a-c6b682bb2ac6');\n",
              "          const dataTable =\n",
              "            await google.colab.kernel.invokeFunction('convertToInteractive',\n",
              "                                                     [key], {});\n",
              "          if (!dataTable) return;\n",
              "\n",
              "          const docLinkHtml = 'Like what you see? Visit the ' +\n",
              "            '<a target=\"_blank\" href=https://colab.research.google.com/notebooks/data_table.ipynb>data table notebook</a>'\n",
              "            + ' to learn more about interactive tables.';\n",
              "          element.innerHTML = '';\n",
              "          dataTable['output_type'] = 'display_data';\n",
              "          await google.colab.output.renderOutput(dataTable, element);\n",
              "          const docLink = document.createElement('div');\n",
              "          docLink.innerHTML = docLinkHtml;\n",
              "          element.appendChild(docLink);\n",
              "        }\n",
              "      </script>\n",
              "    </div>\n",
              "  </div>\n",
              "  "
            ],
            "text/plain": [
              "                   airline_sentiment  airline_sentiment_confidence  \\\n",
              "tweet_id                                                             \n",
              "570306133677760513           neutral                        1.0000   \n",
              "570301130888122368          positive                        0.3486   \n",
              "570301083672813571           neutral                        0.6837   \n",
              "570301031407624196          negative                        1.0000   \n",
              "570300817074462722          negative                        1.0000   \n",
              "\n",
              "                   negativereason  negativereason_confidence         airline  \\\n",
              "tweet_id                                                                       \n",
              "570306133677760513            NaN                        NaN  Virgin America   \n",
              "570301130888122368            NaN                     0.0000  Virgin America   \n",
              "570301083672813571            NaN                        NaN  Virgin America   \n",
              "570301031407624196     Bad Flight                     0.7033  Virgin America   \n",
              "570300817074462722     Can't Tell                     1.0000  Virgin America   \n",
              "\n",
              "                   airline_sentiment_gold        name negativereason_gold  \\\n",
              "tweet_id                                                                    \n",
              "570306133677760513                    NaN     cairdin                 NaN   \n",
              "570301130888122368                    NaN    jnardino                 NaN   \n",
              "570301083672813571                    NaN  yvonnalynn                 NaN   \n",
              "570301031407624196                    NaN    jnardino                 NaN   \n",
              "570300817074462722                    NaN    jnardino                 NaN   \n",
              "\n",
              "                    retweet_count  \\\n",
              "tweet_id                            \n",
              "570306133677760513              0   \n",
              "570301130888122368              0   \n",
              "570301083672813571              0   \n",
              "570301031407624196              0   \n",
              "570300817074462722              0   \n",
              "\n",
              "                                                                 text  \\\n",
              "tweet_id                                                                \n",
              "570306133677760513                @VirginAmerica What @dhepburn said.   \n",
              "570301130888122368  @VirginAmerica plus you've added commercials t...   \n",
              "570301083672813571  @VirginAmerica I didn't today... Must mean I n...   \n",
              "570301031407624196  @VirginAmerica it's really aggressive to blast...   \n",
              "570300817074462722  @VirginAmerica and it's a really big bad thing...   \n",
              "\n",
              "                   tweet_coord              tweet_created tweet_location  \\\n",
              "tweet_id                                                                   \n",
              "570306133677760513         NaN  2015-02-24 11:35:52 -0800            NaN   \n",
              "570301130888122368         NaN  2015-02-24 11:15:59 -0800            NaN   \n",
              "570301083672813571         NaN  2015-02-24 11:15:48 -0800      Lets Play   \n",
              "570301031407624196         NaN  2015-02-24 11:15:36 -0800            NaN   \n",
              "570300817074462722         NaN  2015-02-24 11:14:45 -0800            NaN   \n",
              "\n",
              "                                 user_timezone  \n",
              "tweet_id                                        \n",
              "570306133677760513  Eastern Time (US & Canada)  \n",
              "570301130888122368  Pacific Time (US & Canada)  \n",
              "570301083672813571  Central Time (US & Canada)  \n",
              "570301031407624196  Pacific Time (US & Canada)  \n",
              "570300817074462722  Pacific Time (US & Canada)  "
            ]
          },
          "execution_count": 3,
          "metadata": {},
          "output_type": "execute_result"
        }
      ],
      "source": [
        "# Lectura de la información de archivo .zip\n",
        "tweets = pd.read_csv('https://raw.githubusercontent.com/albahnsen/MIAD_ML_and_NLP/main/datasets/Tweets.zip', index_col=0)\n",
        "\n",
        "# Visualización dataset\n",
        "tweets.head()"
      ]
    },
    {
      "cell_type": "code",
      "execution_count": null,
      "metadata": {
        "colab": {
          "base_uri": "https://localhost:8080/"
        },
        "id": "1wSc1CkJe3wL",
        "outputId": "81a081a9-de9f-498f-f8a0-78b51db2829d"
      },
      "outputs": [
        {
          "data": {
            "text/plain": [
              "(14640, 14)"
            ]
          },
          "execution_count": 4,
          "metadata": {},
          "output_type": "execute_result"
        }
      ],
      "source": [
        "# Impresión tamaño del cojunto de datos\n",
        "tweets.shape"
      ]
    },
    {
      "cell_type": "markdown",
      "metadata": {
        "id": "cbqULpgpe3wM"
      },
      "source": [
        "### Análisis descriptivo"
      ]
    },
    {
      "cell_type": "code",
      "execution_count": null,
      "metadata": {
        "colab": {
          "base_uri": "https://localhost:8080/"
        },
        "id": "IyHvWs_he3wP",
        "outputId": "8e5bfacc-fd81-448f-8cc6-4e7f7b86f8be"
      },
      "outputs": [
        {
          "data": {
            "text/plain": [
              "negative    9178\n",
              "neutral     3099\n",
              "positive    2363\n",
              "Name: airline_sentiment, dtype: int64"
            ]
          },
          "execution_count": 5,
          "metadata": {},
          "output_type": "execute_result"
        }
      ],
      "source": [
        "# Cuenta de tweets por cada sentimiento\n",
        "tweets['airline_sentiment'].value_counts()"
      ]
    },
    {
      "cell_type": "code",
      "execution_count": null,
      "metadata": {
        "colab": {
          "base_uri": "https://localhost:8080/"
        },
        "id": "8sxqru6ce3wQ",
        "outputId": "19eb2a6e-cf01-41dd-fde1-a258d7840cc2"
      },
      "outputs": [
        {
          "data": {
            "text/plain": [
              "United            3822\n",
              "US Airways        2913\n",
              "American          2759\n",
              "Southwest         2420\n",
              "Delta             2222\n",
              "Virgin America     504\n",
              "Name: airline, dtype: int64"
            ]
          },
          "execution_count": 6,
          "metadata": {},
          "output_type": "execute_result"
        }
      ],
      "source": [
        "# Cuenta de tweets por cada aerolínea\n",
        "tweets['airline'].value_counts()"
      ]
    },
    {
      "cell_type": "code",
      "execution_count": null,
      "metadata": {
        "colab": {
          "base_uri": "https://localhost:8080/",
          "height": 583
        },
        "id": "DU21YugOe3wQ",
        "outputId": "9130c8e2-be56-48b5-9499-e6d7c0a43f74"
      },
      "outputs": [
        {
          "data": {
            "text/plain": [
              "<Axes: title={'center': 'Sentiminetos por aerolínea'}, xlabel='airline'>"
            ]
          },
          "execution_count": 7,
          "metadata": {},
          "output_type": "execute_result"
        },
        {
          "data": {
            "image/png": "[encoded data removed]",
            "text/plain": [
              "<Figure size 1000x600 with 1 Axes>"
            ]
          },
          "metadata": {},
          "output_type": "display_data"
        }
      ],
      "source": [
        "# Plot con cuenta de tweets por cada aerolínea y sentimiento\n",
        "pd.crosstab(index = tweets[\"airline\"],columns = tweets[\"airline_sentiment\"]).plot(kind='bar',figsize=(10, 6),alpha=0.5,rot=0,stacked=True,title=\"Sentiminetos por aerolínea\")"
      ]
    },
    {
      "cell_type": "markdown",
      "metadata": {
        "id": "0GjhyUGPe3wS"
      },
      "source": [
        "### Liberias y Variables de interés y predicción"
      ]
    },
    {
      "cell_type": "code",
      "execution_count": null,
      "metadata": {
        "id": "szkgfry5e3wX"
      },
      "outputs": [],
      "source": [
        "from sklearn.model_selection import train_test_split, cross_val_score\n",
        "from sklearn.feature_extraction.text import CountVectorizer, TfidfVectorizer\n",
        "from sklearn.ensemble import RandomForestClassifier\n",
        "from nltk.stem.snowball import SnowballStemmer\n",
        "from nltk.stem import WordNetLemmatizer\n",
        "from sklearn.metrics import accuracy_score\n"
      ]
    },
    {
      "cell_type": "code",
      "execution_count": null,
      "metadata": {
        "id": "Be9sD_ZYe3wY"
      },
      "outputs": [],
      "source": [
        "# Separación de variables predictoras (X) y de variable de interés (y)\n",
        "X = tweets['text']\n",
        "y = tweets['airline_sentiment'].map({'negative':-1,'neutral':0,'positive':1})"
      ]
    },
    {
      "cell_type": "code",
      "execution_count": null,
      "metadata": {
        "id": "8fR2onTLe3wY"
      },
      "outputs": [],
      "source": [
        "# Separación de datos en set de entrenamiento y test\n",
        "X_train, X_test, y_train, y_test = train_test_split(X, y, test_size=0.33, random_state=42)"
      ]
    },
    {
      "cell_type": "markdown",
      "metadata": {
        "id": "eZKB-SEwe3wa"
      },
      "source": [
        "### Punto 1 - Uso de CountVectorizer\n",
        "\n",
        "En la celda 1 creen un modelo de random forest con la libreria sklearn que prediga el sentimiento de los tweets usando los set de entrenamiento y test definidos anteriormente. Usen la función **CountVectorizer** y presenten el desempeño del modelo con la métrica del acurracy.\n",
        "\n",
        "Recuerden que el preprocesamiento que se haga sobre los datos de entrenamiento  (*.fit_transform()*) deben ser aplicado al set de test (*.transform()*)."
      ]
    },
    {
      "cell_type": "code",
      "execution_count": null,
      "metadata": {
        "id": "FeM1T40qrdfb"
      },
      "outputs": [],
      "source": [
        "#CountVectorizer en minuscula\n",
        "vect_A = CountVectorizer(lowercase=True)\n",
        "X_dtm_A_train = vect_A.fit_transform(X_train)\n",
        "X_dtm_A_test = vect_A.transform(X_test)"
      ]
    },
    {
      "cell_type": "code",
      "execution_count": null,
      "metadata": {
        "colab": {
          "base_uri": "https://localhost:8080/"
        },
        "id": "vNC6jYTlQMk0",
        "outputId": "dc0eca99-4282-404d-cf56-b696f0d6ee1d"
      },
      "outputs": [
        {
          "data": {
            "text/plain": [
              "(9808, 12056)"
            ]
          },
          "execution_count": 12,
          "metadata": {},
          "output_type": "execute_result"
        }
      ],
      "source": [
        "X_dtm_A_train.shape"
      ]
    },
    {
      "cell_type": "code",
      "execution_count": null,
      "metadata": {
        "colab": {
          "base_uri": "https://localhost:8080/"
        },
        "id": "nbGADj_Brer4",
        "outputId": "3f4a3465-00e0-4b55-9152-ce28108dbf58"
      },
      "outputs": [
        {
          "name": "stdout",
          "output_type": "stream",
          "text": [
            "Accuracy test: 0.7711092715231788\n",
            "Accuracy train: 0.9979608482871125\n"
          ]
        }
      ],
      "source": [
        "#modelo\n",
        "model_1 = RandomForestClassifier(random_state=42)\n",
        "model_1.fit(X_dtm_A_train,y_train)\n",
        "#Predicciones en test\n",
        "#se calculan las predicciones estas saldran con el encoded\n",
        "y_pred = model_1.predict(X_dtm_A_test)\n",
        "y_pred2 = model_1.predict(X_dtm_A_train)\n",
        "\n",
        "#accuracy\n",
        "accuracy_m1_test = accuracy_score(y_test, y_pred)\n",
        "accuracy_m1_train = accuracy_score(y_train, y_pred2)\n",
        "\n",
        "print('Accuracy test:',accuracy_m1_test)\n",
        "print('Accuracy train:',accuracy_m1_train)\n",
        "\n"
      ]
    },
    {
      "cell_type": "markdown",
      "metadata": {
        "id": "VXFxKLwrlryY"
      },
      "source": [
        "**Evaluación resultado:**  al hacer CountVectorizer(lowercase=True) con conversión de palabras a minusculas, se presenta un desempeño del accuracy en un 0.77. Se observa un alto accuracy en train comparado con test, lo que sugiere un alto sobreajuste seguramente por la gran cantidad de variables que se desprenden del count vectorizer."
      ]
    },
    {
      "cell_type": "markdown",
      "metadata": {
        "id": "3of2GOTye3wb"
      },
      "source": [
        "### Punto 2 - Eliminación de Stopwords\n",
        "\n",
        "En la celda 2 creen un modelo de random forest con la libreria sklearn que prediga el sentimiento de los tweets usando los set de entrenamiento y test definidos anteriormente. Usen la función CountVectorizer, **eliminen stopwords** y presenten el desempeño del modelo con la métrica del acurracy.\n",
        "\n",
        "Recuerden que el preprocesamiento que se haga sobre los datos de entrenamiento  (*.fit_transform()*) deben ser aplicado al set de test (*.transform()*)."
      ]
    },
    {
      "cell_type": "code",
      "execution_count": null,
      "metadata": {
        "id": "AARa1wqRtzW3"
      },
      "outputs": [],
      "source": [
        "#CountVectorizer en minuscula\n",
        "vect_A = CountVectorizer(lowercase=True,stop_words='english')\n",
        "X_dtm_A_train = vect_A.fit_transform(X_train)\n",
        "X_dtm_A_test = vect_A.transform(X_test)\n"
      ]
    },
    {
      "cell_type": "code",
      "execution_count": null,
      "metadata": {
        "colab": {
          "base_uri": "https://localhost:8080/"
        },
        "id": "QJpWx4LXQRPj",
        "outputId": "4f6bf896-e463-4c64-88c4-c4143a399bce"
      },
      "outputs": [
        {
          "data": {
            "text/plain": [
              "(9808, 11777)"
            ]
          },
          "execution_count": 15,
          "metadata": {},
          "output_type": "execute_result"
        }
      ],
      "source": [
        "X_dtm_A_train.shape"
      ]
    },
    {
      "cell_type": "code",
      "execution_count": null,
      "metadata": {
        "colab": {
          "base_uri": "https://localhost:8080/"
        },
        "id": "gNeLx4_8e3wb",
        "outputId": "003788bc-5b3d-4ae1-f8ab-e718dbe71bb1"
      },
      "outputs": [
        {
          "name": "stdout",
          "output_type": "stream",
          "text": [
            "Accuracy test: 0.761796357615894\n",
            "Accuracy train: 0.9958197389885808\n"
          ]
        }
      ],
      "source": [
        "# Celda 2\n",
        "#modelo\n",
        "model_2 = RandomForestClassifier(random_state=42)\n",
        "model_2.fit(X_dtm_A_train,y_train)\n",
        "#Predicciones en test\n",
        "#se calculan las predicciones estas saldran con el encoded\n",
        "y_pred = model_2.predict(X_dtm_A_test)\n",
        "y_pred2 = model_2.predict(X_dtm_A_train)\n",
        "\n",
        "#accuracy\n",
        "accuracy_m2_test = accuracy_score(y_test, y_pred)\n",
        "accuracy_m2_train = accuracy_score(y_train, y_pred2)\n",
        "\n",
        "print('Accuracy test:',accuracy_m2_test)\n",
        "print('Accuracy train:',accuracy_m2_train)\n",
        "\n"
      ]
    },
    {
      "cell_type": "markdown",
      "metadata": {
        "id": "ttohZwhOzubW"
      },
      "source": [
        "**Evaluación resultado:** al hacer eliminar las stopwords se espera eliminar palabras que no generan valor al texto, buscando una mejora en el rendimiento del modelo en el desempeño del Accuracy de test, sin embargo, con respecto al CountVectorizer(lowercase=True), al aplicar esta técnica se obtiene un desempeño de 0.76 lo cual no implica una mejora. Así mismo se sigue observando un alto sobre ajuste."
      ]
    },
    {
      "cell_type": "markdown",
      "metadata": {
        "id": "2fTRxpAze3xK"
      },
      "source": [
        "### Punto 3 - Lematización con verbos\n",
        "\n",
        "En la celda 3 creen un modelo de random forest con la libreria sklearn que prediga el sentimiento de los tweets usando los set de entrenamiento y test definidos anteriormente. Usen la función CountVectorizer, **lematizen el texto con verbos** y presenten el desempeño del modelo con la métrica del acurracy.\n",
        "\n",
        "Recuerden que el preprocesamiento que se haga sobre los datos de entrenamiento  (*.fit_transform()*) deben ser aplicado al set de test (*.transform()*)."
      ]
    },
    {
      "cell_type": "code",
      "execution_count": null,
      "metadata": {
        "colab": {
          "base_uri": "https://localhost:8080/"
        },
        "id": "FMeDbB-Ee3xK",
        "outputId": "b7c468b9-54ea-4eb7-933c-248b2bc00b38"
      },
      "outputs": [
        {
          "name": "stderr",
          "output_type": "stream",
          "text": [
            "[nltk_data] Downloading package wordnet to /root/nltk_data...\n",
            "[nltk_data]   Package wordnet is already up-to-date!\n",
            "[nltk_data] Downloading package punkt to /root/nltk_data...\n",
            "[nltk_data]   Package punkt is already up-to-date!\n"
          ]
        }
      ],
      "source": [
        "# Celda 3\n",
        "# Importación de librerias\n",
        "from nltk import word_tokenize          \n",
        "from nltk.stem import WordNetLemmatizer\n",
        "wordnet_lemmatizer = WordNetLemmatizer()\n",
        "import nltk\n",
        "nltk.download('wordnet')\n",
        "nltk.download('punkt')\n",
        "# Definición de la función que tenga como parámetro texto y devuelva una lista de lemas\n",
        "\n",
        "def split_into_lemmas(text):\n",
        "    text = text.lower()\n",
        "    words = word_tokenize(text) #text.split() # Aplicar tokenización de nltk, este realiza la tokenización más simimilar a como lo hace CountVectorizer, que simplemente hacer un split por espacios\n",
        "    return [wordnet_lemmatizer.lemmatize(word,pos='v') for word in words]\n"
      ]
    },
    {
      "cell_type": "code",
      "execution_count": null,
      "metadata": {
        "id": "wSF5MbZ3xNuB"
      },
      "outputs": [],
      "source": [
        "#CountVectorizer en minuscula\n",
        "vect_A = CountVectorizer(lowercase=True,tokenizer=split_into_lemmas)\n",
        "X_dtm_A_train = vect_A.fit_transform(X_train)\n",
        "X_dtm_A_test = vect_A.transform(X_test)"
      ]
    },
    {
      "cell_type": "code",
      "execution_count": null,
      "metadata": {
        "colab": {
          "base_uri": "https://localhost:8080/"
        },
        "id": "D7-MlOtrQgjw",
        "outputId": "d29c77f7-46c9-4f0a-91a0-34882e1d46e1"
      },
      "outputs": [
        {
          "data": {
            "text/plain": [
              "(9808, 12060)"
            ]
          },
          "execution_count": 19,
          "metadata": {},
          "output_type": "execute_result"
        }
      ],
      "source": [
        "X_dtm_A_train.shape"
      ]
    },
    {
      "cell_type": "code",
      "execution_count": null,
      "metadata": {
        "colab": {
          "base_uri": "https://localhost:8080/"
        },
        "id": "R8tF2vETxW4l",
        "outputId": "f5e75ed0-41d9-4309-c69f-b88e6ce69995"
      },
      "outputs": [
        {
          "name": "stdout",
          "output_type": "stream",
          "text": [
            "Accuracy test: 0.7750413907284768\n",
            "Accuracy train: 0.9984706362153344\n"
          ]
        }
      ],
      "source": [
        "#modelo\n",
        "model_3 = RandomForestClassifier(random_state=42)\n",
        "model_3.fit(X_dtm_A_train,y_train)\n",
        "#Predicciones en test\n",
        "#se calculan las predicciones estas saldran con el encoded\n",
        "y_pred = model_3.predict(X_dtm_A_test)\n",
        "y_pred2 = model_3.predict(X_dtm_A_train)\n",
        "\n",
        "#accuracy\n",
        "accuracy_m3_test = accuracy_score(y_test, y_pred)\n",
        "accuracy_m3_train = accuracy_score(y_train, y_pred2)\n",
        "\n",
        "print('Accuracy test:',accuracy_m3_test)\n",
        "print('Accuracy train:',accuracy_m3_train)\n",
        "\n"
      ]
    },
    {
      "cell_type": "markdown",
      "metadata": {
        "id": "AhY9_ftSqOjO"
      },
      "source": [
        "**Evaluación resultado:**  el algoritmo de lematización se vuelve más complejo por hacer uso de diccionario para búsqueda de palabras y realizar un etiquetado por palabra, al normalizar las palabras se busca un mejor desempeño en Accuracy de test a lo cual llegamos a 0.775 mejorando respecto a los anteriores."
      ]
    },
    {
      "cell_type": "markdown",
      "metadata": {
        "id": "L6PjXaT-e3xL"
      },
      "source": [
        "### Punto 4 - Multiples técnicas\n",
        "\n",
        "En la celda 4 creen un modelo de random forest con la libreria sklearn que prediga el sentimiento de los tweets usando los set de entrenamiento y test definidos anteriormente. Usen la función **CountVectorizer, eliminen stopwords, lematizen el texto con verbos** y presenten el desempeño del modelo con la métrica del acurracy.\n",
        "\n",
        "Recuerden que el preprocesamiento que se haga sobre los datos de entrenamiento  (*.fit_transform()*) deben ser aplicado al set de test (*.transform()*)."
      ]
    },
    {
      "cell_type": "code",
      "execution_count": null,
      "metadata": {
        "id": "khOM6aAre3xM"
      },
      "outputs": [],
      "source": [
        "# Celda 4\n",
        "#CountVectorizer en minuscula\n",
        "vect_A = CountVectorizer(lowercase=True,tokenizer=split_into_lemmas,stop_words='english') # Se cambia analyzer por tokenizer para que pueda aplicar stop words\n",
        "X_dtm_A_train = vect_A.fit_transform(X_train)\n",
        "X_dtm_A_test = vect_A.transform(X_test)"
      ]
    },
    {
      "cell_type": "code",
      "execution_count": null,
      "metadata": {
        "colab": {
          "base_uri": "https://localhost:8080/"
        },
        "id": "uc7l-OaPS4hG",
        "outputId": "fa6cafbc-df3e-4b64-b403-c9ad0a556e31"
      },
      "outputs": [
        {
          "data": {
            "text/plain": [
              "(9808, 11798)"
            ]
          },
          "execution_count": 22,
          "metadata": {},
          "output_type": "execute_result"
        }
      ],
      "source": [
        "X_dtm_A_train.shape"
      ]
    },
    {
      "cell_type": "code",
      "execution_count": null,
      "metadata": {
        "colab": {
          "background_save": true,
          "base_uri": "https://localhost:8080/"
        },
        "id": "ZXNOkHs3xm67",
        "outputId": "a9df95eb-782d-4308-dbca-70c25956b2b0"
      },
      "outputs": [
        {
          "name": "stdout",
          "output_type": "stream",
          "text": [
            "Accuracy test: 0.777317880794702\n",
            "Accuracy train: 0.9971451876019576\n"
          ]
        }
      ],
      "source": [
        "#modelo\n",
        "model_4 = RandomForestClassifier(random_state=42)\n",
        "model_4.fit(X_dtm_A_train,y_train)\n",
        "#Predicciones en test\n",
        "#se calculan las predicciones estas saldran con el encoded\n",
        "y_pred = model_4.predict(X_dtm_A_test)\n",
        "y_pred2 = model_4.predict(X_dtm_A_train)\n",
        "\n",
        "#accuracy\n",
        "accuracy_m4_test = accuracy_score(y_test, y_pred)\n",
        "accuracy_m4_train = accuracy_score(y_train, y_pred2)\n",
        "\n",
        "print('Accuracy test:',accuracy_m4_test)\n",
        "print('Accuracy train:',accuracy_m4_train)\n",
        "\n"
      ]
    },
    {
      "cell_type": "markdown",
      "metadata": {
        "id": "oMyVa2Ha25Xm"
      },
      "source": [
        "**Evaluación resultado:**  al combinar tecnicas se espera mejorar el desempeño del Accuracy donde logramos un 0.777 mejor que los anteriores"
      ]
    },
    {
      "cell_type": "markdown",
      "metadata": {
        "id": "-cfFu2kFe3xU"
      },
      "source": [
        "### Punto 5 - Comparación y análisis de resultados\n",
        "\n",
        "En la celda 5 comparen los resultados obtenidos de los diferentes modelos (random forest) y comenten las ventajas del mejor modelo y las desventajas del modelo con el menor desempeño."
      ]
    },
    {
      "cell_type": "code",
      "execution_count": null,
      "metadata": {
        "colab": {
          "background_save": true,
          "base_uri": "https://localhost:8080/",
          "height": 543
        },
        "id": "0bUyJGSfe3xU",
        "outputId": "c5c7b9d0-5d06-4a59-ce76-807c2d11ef7e"
      },
      "outputs": [
        {
          "data": {
            "image/png": "[encoded data removed]",
            "text/plain": [
              "<Figure size 800x300 with 1 Axes>"
            ]
          },
          "metadata": {},
          "output_type": "display_data"
        }
      ],
      "source": [
        "# Celda 5\n",
        "fig = plt.figure(figsize=[8,3])\n",
        "ax = fig.add_axes([0,0,1,1])\n",
        "ax.set_title(\"Comparación de modelos por ACCURACY\")\n",
        "#faltan los de filtrado\n",
        "ejeX = ['CountVectorizer','CountVectorizer stopwords','CountVectorizer lemma','CountVectorizer stopword lemma']\n",
        "ejeY = [accuracy_m1_test,accuracy_m2_test,accuracy_m3_test,accuracy_m4_test]\n",
        "ejeY = [round(v,5) for v in ejeY]\n",
        "ax.bar(ejeX,ejeY)\n",
        "def addlabels(x,y,plotP):\n",
        "    for i in range(len(x)):\n",
        "        plotP.text(i,y[i],y[i])\n",
        "addlabels(ejeX,ejeY,plt)\n",
        "plt.xticks(rotation = 45)\n",
        "plt.show()"
      ]
    },
    {
      "cell_type": "markdown",
      "metadata": {
        "id": "ttjcsatp3pDm"
      },
      "source": [
        "**Evaluación resultado:**  el mejor método es el que combina stopword y lemmatizacion ayudando a tener una mejor prediccion obteniendo un accuracy de 0.77732. Cabe resaltar que este ultimo método nos ayuda a simplificar y entender más el texto que estamos analizando al quitar palabras que nos ayuden y dandole un mejor contexto de una manera  más unificada."
      ]
    },
    {
      "cell_type": "code",
      "execution_count": null,
      "metadata": {
        "colab": {
          "background_save": true
        },
        "id": "Z2x9Z-AS9MlX"
      },
      "outputs": [],
      "source": []
    }
  ],
  "metadata": {
    "colab": {
      "provenance": []
    },
    "kernelspec": {
      "display_name": "Python 3",
      "language": "python",
      "name": "python3"
    },
    "language_info": {
      "codemirror_mode": {
        "name": "ipython",
        "version": 3
      },
      "file_extension": ".py",
      "mimetype": "text/x-python",
      "name": "python",
      "nbconvert_exporter": "python",
      "pygments_lexer": "ipython3",
      "version": "3.7.3"
    }
  },
  "nbformat": 4,
  "nbformat_minor": 0
}