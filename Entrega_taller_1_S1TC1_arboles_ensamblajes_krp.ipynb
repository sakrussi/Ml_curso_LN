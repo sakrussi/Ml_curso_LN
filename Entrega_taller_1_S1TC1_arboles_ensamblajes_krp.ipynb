{
  "cells": [
    {
      "cell_type": "markdown",
      "metadata": {
        "id": "h3GXZilkjB4g"
      },
      "source": [
        "![image info](https://raw.githubusercontent.com/albahnsen/MIAD_ML_and_NLP/main/images/banner_1.png)"
      ]
    },
    {
      "cell_type": "markdown",
      "metadata": {
        "id": "p_bPWe-4jB4q"
      },
      "source": [
        "# Taller: Construcción e implementación de árboles de decisión y métodos de ensamblaje\n",
        "\n",
        "En este taller podrá poner en práctica los sus conocimientos sobre construcción e implementación de árboles de decisión y métodos de ensamblajes. El taller está constituido por 9 puntos, 5 relacionados con árboles de decisión (parte A) y 4 con métodos de ensamblaje (parte B)."
      ]
    },
    {
      "cell_type": "markdown",
      "metadata": {
        "id": "auJEWQdJjB4s"
      },
      "source": [
        "## Parte A - Árboles de decisión\n",
        "\n",
        "En esta parte del taller se usará el conjunto de datos de Capital Bikeshare de Kaggle, donde cada observación representa el alquiler de bicicletas durante una hora y día determinado. Para más detalles puede visitar los siguientes enlaces: [datos](https://archive.ics.uci.edu/ml/machine-learning-databases/00275/Bike-Sharing-Dataset.zip), [dicccionario de datos](https://archive.ics.uci.edu/ml/datasets/Bike+Sharing+Dataset#)."
      ]
    },
    {
      "cell_type": "markdown",
      "metadata": {
        "id": "QfkxDGiAjB4t"
      },
      "source": [
        "### Datos prestamo de bicicletas"
      ]
    },
    {
      "cell_type": "code",
      "execution_count": 1,
      "metadata": {
        "id": "RaT4KMSyjB4u"
      },
      "outputs": [],
      "source": [
        "import warnings\n",
        "warnings.filterwarnings('ignore')"
      ]
    },
    {
      "cell_type": "code",
      "execution_count": 2,
      "metadata": {
        "id": "u7gIAFo6jB4w"
      },
      "outputs": [],
      "source": [
        "# Importación de librerías\n",
        "%matplotlib inline\n",
        "import pandas as pd\n",
        "import numpy as np\n",
        "from sklearn.model_selection import cross_val_score\n",
        "from sklearn.linear_model import LinearRegression\n",
        "from sklearn.tree import DecisionTreeRegressor, export_graphviz\n",
        "from sklearn import linear_model\n",
        "from sklearn.metrics import mean_squared_error, r2_score\n",
        "import pandas as pd\n",
        "import numpy as np\n",
        "import seaborn as sns\n",
        "import matplotlib.pyplot as plt\n",
        "from IPython.display import display, HTML\n",
        "from sklearn.model_selection import train_test_split\n",
        "from sklearn.linear_model import LogisticRegression\n",
        "from sklearn.naive_bayes import GaussianNB\n",
        "from sklearn.discriminant_analysis import LinearDiscriminantAnalysis\n",
        "from sklearn.discriminant_analysis import QuadraticDiscriminantAnalysis\n",
        "from sklearn.ensemble import RandomForestClassifier\n",
        "from sklearn.metrics import accuracy_score, roc_curve, precision_score, confusion_matrix, ConfusionMatrixDisplay, auc, recall_score, f1_score, roc_auc_score\n",
        "from imblearn.over_sampling import SMOTE\n",
        "from imblearn.under_sampling import RandomUnderSampler\n",
        "import missingno as msno\n",
        "from sklearn.preprocessing import StandardScaler, OneHotEncoder, PowerTransformer, PolynomialFeatures\n",
        "from sklearn.compose import ColumnTransformer\n",
        "from sklearn.pipeline import Pipeline\n",
        "from sklearn.model_selection import train_test_split"
      ]
    },
    {
      "cell_type": "markdown",
      "source": [
        "Información de atributos:\n",
        "\n",
        "Tanto hour.csv como day.csv tienen los siguientes campos, excepto hr que no está disponible en day.csv\n",
        "\n",
        "- instant: record index\n",
        "- dteday : date\n",
        "- season : season (1:invierno, 2:primavera, 3:verano, 4 :fall)\n",
        "- yr : año (0: 2011, 1:2012)\n",
        "- mnth : mes (1 a 12)\n",
        "- hr : hora (0 a 23)\n",
        "- holiday : día meteorológico es festivo o no (extraído de [Enlace web] )\n",
        "- día de la semana : día de la semana\n",
        "- día laborable : si el día no es fin de semana ni festivo es 1, de lo contrario es 0.\n",
        "+ weathersit :\n",
        "- 1: Despejado, Pocas nubes, Parcialmente nublado, Parcialmente nublado\n",
        "- 2: Niebla + Nublado, Niebla + Nubes rotas, Niebla + Pocas nubes, Niebla\n",
        "- 3: Nieve ligera, Lluvia ligera + Tormenta eléctrica + Nubes dispersas, Lluvia ligera + Nubes dispersas\n",
        "- 4: Lluvia intensa + Paletas de hielo + Tormenta eléctrica + Niebla, Nieve + Niebla\n",
        "- temp : Temperatura normalizada en Celsius. Los valores se derivan a través de (t-t_min)/(t_max-t_min), t_min=-8, t_max=+39 (solo en escala horaria)\n",
        "- atemp: Temperatura de sensación normalizada en Celsius. Los valores se obtienen a través de (t-t_min)/(t_max-t_min), t_min=-16, t_max=+50 (solo en escala horaria)\n",
        "- hum: Humedad normalizada. Los valores se dividen en 100 (máx.)\n",
        "- velocidad del viento: velocidad del viento normalizada. Los valores se dividen en 67 (máx.)\n",
        "- casual: recuento de usuarios ocasionales\n",
        "- register: recuento de usuarios registrados\n",
        "- cnt: recuento del total de bicicletas de alquiler, incluidas tanto ocasionales como registradas"
      ],
      "metadata": {
        "id": "0vcnjnv9bpb2"
      }
    },
    {
      "cell_type": "code",
      "execution_count": 3,
      "metadata": {
        "colab": {
          "base_uri": "https://localhost:8080/",
          "height": 237
        },
        "id": "VvWFhMFFjB4x",
        "outputId": "a0010bf2-165f-4a46-cac8-75967452d98b"
      },
      "outputs": [
        {
          "output_type": "execute_result",
          "data": {
            "text/plain": [
              "                     season  holiday  workingday  weather  temp   atemp  \\\n",
              "datetime                                                                  \n",
              "2011-01-01 00:00:00       1        0           0        1  9.84  14.395   \n",
              "2011-01-01 01:00:00       1        0           0        1  9.02  13.635   \n",
              "2011-01-01 02:00:00       1        0           0        1  9.02  13.635   \n",
              "2011-01-01 03:00:00       1        0           0        1  9.84  14.395   \n",
              "2011-01-01 04:00:00       1        0           0        1  9.84  14.395   \n",
              "\n",
              "                     humidity  windspeed  casual  registered  total  hour  \n",
              "datetime                                                                   \n",
              "2011-01-01 00:00:00        81        0.0       3          13     16     0  \n",
              "2011-01-01 01:00:00        80        0.0       8          32     40     1  \n",
              "2011-01-01 02:00:00        80        0.0       5          27     32     2  \n",
              "2011-01-01 03:00:00        75        0.0       3          10     13     3  \n",
              "2011-01-01 04:00:00        75        0.0       0           1      1     4  "
            ],
            "text/html": [
              "\n",
              "  <div id=\"df-2fc57618-1034-4d0d-a6a2-409c9345aca2\">\n",
              "    <div class=\"colab-df-container\">\n",
              "      <div>\n",
              "<style scoped>\n",
              "    .dataframe tbody tr th:only-of-type {\n",
              "        vertical-align: middle;\n",
              "    }\n",
              "\n",
              "    .dataframe tbody tr th {\n",
              "        vertical-align: top;\n",
              "    }\n",
              "\n",
              "    .dataframe thead th {\n",
              "        text-align: right;\n",
              "    }\n",
              "</style>\n",
              "<table border=\"1\" class=\"dataframe\">\n",
              "  <thead>\n",
              "    <tr style=\"text-align: right;\">\n",
              "      <th></th>\n",
              "      <th>season</th>\n",
              "      <th>holiday</th>\n",
              "      <th>workingday</th>\n",
              "      <th>weather</th>\n",
              "      <th>temp</th>\n",
              "      <th>atemp</th>\n",
              "      <th>humidity</th>\n",
              "      <th>windspeed</th>\n",
              "      <th>casual</th>\n",
              "      <th>registered</th>\n",
              "      <th>total</th>\n",
              "      <th>hour</th>\n",
              "    </tr>\n",
              "    <tr>\n",
              "      <th>datetime</th>\n",
              "      <th></th>\n",
              "      <th></th>\n",
              "      <th></th>\n",
              "      <th></th>\n",
              "      <th></th>\n",
              "      <th></th>\n",
              "      <th></th>\n",
              "      <th></th>\n",
              "      <th></th>\n",
              "      <th></th>\n",
              "      <th></th>\n",
              "      <th></th>\n",
              "    </tr>\n",
              "  </thead>\n",
              "  <tbody>\n",
              "    <tr>\n",
              "      <th>2011-01-01 00:00:00</th>\n",
              "      <td>1</td>\n",
              "      <td>0</td>\n",
              "      <td>0</td>\n",
              "      <td>1</td>\n",
              "      <td>9.84</td>\n",
              "      <td>14.395</td>\n",
              "      <td>81</td>\n",
              "      <td>0.0</td>\n",
              "      <td>3</td>\n",
              "      <td>13</td>\n",
              "      <td>16</td>\n",
              "      <td>0</td>\n",
              "    </tr>\n",
              "    <tr>\n",
              "      <th>2011-01-01 01:00:00</th>\n",
              "      <td>1</td>\n",
              "      <td>0</td>\n",
              "      <td>0</td>\n",
              "      <td>1</td>\n",
              "      <td>9.02</td>\n",
              "      <td>13.635</td>\n",
              "      <td>80</td>\n",
              "      <td>0.0</td>\n",
              "      <td>8</td>\n",
              "      <td>32</td>\n",
              "      <td>40</td>\n",
              "      <td>1</td>\n",
              "    </tr>\n",
              "    <tr>\n",
              "      <th>2011-01-01 02:00:00</th>\n",
              "      <td>1</td>\n",
              "      <td>0</td>\n",
              "      <td>0</td>\n",
              "      <td>1</td>\n",
              "      <td>9.02</td>\n",
              "      <td>13.635</td>\n",
              "      <td>80</td>\n",
              "      <td>0.0</td>\n",
              "      <td>5</td>\n",
              "      <td>27</td>\n",
              "      <td>32</td>\n",
              "      <td>2</td>\n",
              "    </tr>\n",
              "    <tr>\n",
              "      <th>2011-01-01 03:00:00</th>\n",
              "      <td>1</td>\n",
              "      <td>0</td>\n",
              "      <td>0</td>\n",
              "      <td>1</td>\n",
              "      <td>9.84</td>\n",
              "      <td>14.395</td>\n",
              "      <td>75</td>\n",
              "      <td>0.0</td>\n",
              "      <td>3</td>\n",
              "      <td>10</td>\n",
              "      <td>13</td>\n",
              "      <td>3</td>\n",
              "    </tr>\n",
              "    <tr>\n",
              "      <th>2011-01-01 04:00:00</th>\n",
              "      <td>1</td>\n",
              "      <td>0</td>\n",
              "      <td>0</td>\n",
              "      <td>1</td>\n",
              "      <td>9.84</td>\n",
              "      <td>14.395</td>\n",
              "      <td>75</td>\n",
              "      <td>0.0</td>\n",
              "      <td>0</td>\n",
              "      <td>1</td>\n",
              "      <td>1</td>\n",
              "      <td>4</td>\n",
              "    </tr>\n",
              "  </tbody>\n",
              "</table>\n",
              "</div>\n",
              "      <button class=\"colab-df-convert\" onclick=\"convertToInteractive('df-2fc57618-1034-4d0d-a6a2-409c9345aca2')\"\n",
              "              title=\"Convert this dataframe to an interactive table.\"\n",
              "              style=\"display:none;\">\n",
              "        \n",
              "  <svg xmlns=\"http://www.w3.org/2000/svg\" height=\"24px\"viewBox=\"0 0 24 24\"\n",
              "       width=\"24px\">\n",
              "    <path d=\"M0 0h24v24H0V0z\" fill=\"none\"/>\n",
              "    <path d=\"M18.56 5.44l.94 2.06.94-2.06 2.06-.94-2.06-.94-.94-2.06-.94 2.06-2.06.94zm-11 1L8.5 8.5l.94-2.06 2.06-.94-2.06-.94L8.5 2.5l-.94 2.06-2.06.94zm10 10l.94 2.06.94-2.06 2.06-.94-2.06-.94-.94-2.06-.94 2.06-2.06.94z\"/><path d=\"M17.41 7.96l-1.37-1.37c-.4-.4-.92-.59-1.43-.59-.52 0-1.04.2-1.43.59L10.3 9.45l-7.72 7.72c-.78.78-.78 2.05 0 2.83L4 21.41c.39.39.9.59 1.41.59.51 0 1.02-.2 1.41-.59l7.78-7.78 2.81-2.81c.8-.78.8-2.07 0-2.86zM5.41 20L4 18.59l7.72-7.72 1.47 1.35L5.41 20z\"/>\n",
              "  </svg>\n",
              "      </button>\n",
              "      \n",
              "  <style>\n",
              "    .colab-df-container {\n",
              "      display:flex;\n",
              "      flex-wrap:wrap;\n",
              "      gap: 12px;\n",
              "    }\n",
              "\n",
              "    .colab-df-convert {\n",
              "      background-color: #E8F0FE;\n",
              "      border: none;\n",
              "      border-radius: 50%;\n",
              "      cursor: pointer;\n",
              "      display: none;\n",
              "      fill: #1967D2;\n",
              "      height: 32px;\n",
              "      padding: 0 0 0 0;\n",
              "      width: 32px;\n",
              "    }\n",
              "\n",
              "    .colab-df-convert:hover {\n",
              "      background-color: #E2EBFA;\n",
              "      box-shadow: 0px 1px 2px rgba(60, 64, 67, 0.3), 0px 1px 3px 1px rgba(60, 64, 67, 0.15);\n",
              "      fill: #174EA6;\n",
              "    }\n",
              "\n",
              "    [theme=dark] .colab-df-convert {\n",
              "      background-color: #3B4455;\n",
              "      fill: #D2E3FC;\n",
              "    }\n",
              "\n",
              "    [theme=dark] .colab-df-convert:hover {\n",
              "      background-color: #434B5C;\n",
              "      box-shadow: 0px 1px 3px 1px rgba(0, 0, 0, 0.15);\n",
              "      filter: drop-shadow(0px 1px 2px rgba(0, 0, 0, 0.3));\n",
              "      fill: #FFFFFF;\n",
              "    }\n",
              "  </style>\n",
              "\n",
              "      <script>\n",
              "        const buttonEl =\n",
              "          document.querySelector('#df-2fc57618-1034-4d0d-a6a2-409c9345aca2 button.colab-df-convert');\n",
              "        buttonEl.style.display =\n",
              "          google.colab.kernel.accessAllowed ? 'block' : 'none';\n",
              "\n",
              "        async function convertToInteractive(key) {\n",
              "          const element = document.querySelector('#df-2fc57618-1034-4d0d-a6a2-409c9345aca2');\n",
              "          const dataTable =\n",
              "            await google.colab.kernel.invokeFunction('convertToInteractive',\n",
              "                                                     [key], {});\n",
              "          if (!dataTable) return;\n",
              "\n",
              "          const docLinkHtml = 'Like what you see? Visit the ' +\n",
              "            '<a target=\"_blank\" href=https://colab.research.google.com/notebooks/data_table.ipynb>data table notebook</a>'\n",
              "            + ' to learn more about interactive tables.';\n",
              "          element.innerHTML = '';\n",
              "          dataTable['output_type'] = 'display_data';\n",
              "          await google.colab.output.renderOutput(dataTable, element);\n",
              "          const docLink = document.createElement('div');\n",
              "          docLink.innerHTML = docLinkHtml;\n",
              "          element.appendChild(docLink);\n",
              "        }\n",
              "      </script>\n",
              "    </div>\n",
              "  </div>\n",
              "  "
            ]
          },
          "metadata": {},
          "execution_count": 3
        }
      ],
      "source": [
        "# Lectura de la información de archivo .csv\n",
        "bikes = pd.read_csv('https://raw.githubusercontent.com/davidzarruk/MIAD_ML_NLP_2023/main/datasets/bikeshare.csv', index_col='datetime', parse_dates=True)\n",
        "\n",
        "# Renombrar variable \"count\" a \"total\"\n",
        "bikes.rename(columns={'count':'total'}, inplace=True)\n",
        "\n",
        "# Crear la hora como una variable \n",
        "bikes['hour'] = bikes.index.hour\n",
        "\n",
        "# Visualización de los datos\n",
        "bikes.head()"
      ]
    },
    {
      "cell_type": "markdown",
      "metadata": {
        "id": "EUaDBGtRjB4y"
      },
      "source": [
        "### Punto 1 - Análisis descriptivo\n",
        "\n",
        "Ejecute las celdas 1.1 y 1.2. A partir de los resultados realice un análisis descriptivo sobre las variables \"season\" y \"hour\", escriba sus inferencias sobre los datos. Para complementar su análisis puede usar métricas como máximo, mínimo, percentiles entre otros."
      ]
    },
    {
      "cell_type": "code",
      "execution_count": 4,
      "metadata": {
        "colab": {
          "base_uri": "https://localhost:8080/"
        },
        "id": "odAZhFGYjB4z",
        "outputId": "04b0e7b4-3383-4dd9-95c2-14ca67064a5d"
      },
      "outputs": [
        {
          "output_type": "execute_result",
          "data": {
            "text/plain": [
              "season\n",
              "1    116.343261\n",
              "2    215.251372\n",
              "3    234.417124\n",
              "4    198.988296\n",
              "Name: total, dtype: float64"
            ]
          },
          "metadata": {},
          "execution_count": 4
        }
      ],
      "source": [
        "# Celda 1.1\n",
        "bikes.groupby('season').total.mean()\n"
      ]
    },
    {
      "cell_type": "code",
      "execution_count": 5,
      "metadata": {
        "scrolled": true,
        "colab": {
          "base_uri": "https://localhost:8080/"
        },
        "id": "EbytNeJ7jB41",
        "outputId": "1dcc6fa3-9d73-4bd1-bc37-8d171d76fd25"
      },
      "outputs": [
        {
          "output_type": "execute_result",
          "data": {
            "text/plain": [
              "hour\n",
              "0      55.138462\n",
              "1      33.859031\n",
              "2      22.899554\n",
              "3      11.757506\n",
              "4       6.407240\n",
              "5      19.767699\n",
              "6      76.259341\n",
              "7     213.116484\n",
              "8     362.769231\n",
              "9     221.780220\n",
              "10    175.092308\n",
              "11    210.674725\n",
              "12    256.508772\n",
              "13    257.787281\n",
              "14    243.442982\n",
              "15    254.298246\n",
              "16    316.372807\n",
              "17    468.765351\n",
              "18    430.859649\n",
              "19    315.278509\n",
              "20    228.517544\n",
              "21    173.370614\n",
              "22    133.576754\n",
              "23     89.508772\n",
              "Name: total, dtype: float64"
            ]
          },
          "metadata": {},
          "execution_count": 5
        }
      ],
      "source": [
        "# Celda 1.2\n",
        "bikes.groupby('hour').total.mean()"
      ]
    },
    {
      "cell_type": "markdown",
      "source": [
        "***Información descriptiva***\n"
      ],
      "metadata": {
        "id": "s7H-awfWkwjJ"
      }
    },
    {
      "cell_type": "code",
      "source": [
        "bikes.info()\n"
      ],
      "metadata": {
        "colab": {
          "base_uri": "https://localhost:8080/"
        },
        "id": "KLENg0xZkT4K",
        "outputId": "130628f6-d2dc-41e9-85b4-4887662a15e4"
      },
      "execution_count": 6,
      "outputs": [
        {
          "output_type": "stream",
          "name": "stdout",
          "text": [
            "<class 'pandas.core.frame.DataFrame'>\n",
            "DatetimeIndex: 10886 entries, 2011-01-01 00:00:00 to 2012-12-19 23:00:00\n",
            "Data columns (total 12 columns):\n",
            " #   Column      Non-Null Count  Dtype  \n",
            "---  ------      --------------  -----  \n",
            " 0   season      10886 non-null  int64  \n",
            " 1   holiday     10886 non-null  int64  \n",
            " 2   workingday  10886 non-null  int64  \n",
            " 3   weather     10886 non-null  int64  \n",
            " 4   temp        10886 non-null  float64\n",
            " 5   atemp       10886 non-null  float64\n",
            " 6   humidity    10886 non-null  int64  \n",
            " 7   windspeed   10886 non-null  float64\n",
            " 8   casual      10886 non-null  int64  \n",
            " 9   registered  10886 non-null  int64  \n",
            " 10  total       10886 non-null  int64  \n",
            " 11  hour        10886 non-null  int64  \n",
            "dtypes: float64(3), int64(9)\n",
            "memory usage: 1.1 MB\n"
          ]
        }
      ]
    },
    {
      "cell_type": "markdown",
      "source": [
        "***Información variables descriptivas:***"
      ],
      "metadata": {
        "id": "qDkAHNT9k7Vj"
      }
    },
    {
      "cell_type": "code",
      "source": [
        "bikes.describe()\n"
      ],
      "metadata": {
        "colab": {
          "base_uri": "https://localhost:8080/",
          "height": 364
        },
        "id": "r_Lsri11kTaZ",
        "outputId": "4e77dc78-0eb6-4c9f-c437-98f73bdee468"
      },
      "execution_count": 7,
      "outputs": [
        {
          "output_type": "execute_result",
          "data": {
            "text/plain": [
              "             season       holiday    workingday       weather         temp  \\\n",
              "count  10886.000000  10886.000000  10886.000000  10886.000000  10886.00000   \n",
              "mean       2.506614      0.028569      0.680875      1.418427     20.23086   \n",
              "std        1.116174      0.166599      0.466159      0.633839      7.79159   \n",
              "min        1.000000      0.000000      0.000000      1.000000      0.82000   \n",
              "25%        2.000000      0.000000      0.000000      1.000000     13.94000   \n",
              "50%        3.000000      0.000000      1.000000      1.000000     20.50000   \n",
              "75%        4.000000      0.000000      1.000000      2.000000     26.24000   \n",
              "max        4.000000      1.000000      1.000000      4.000000     41.00000   \n",
              "\n",
              "              atemp      humidity     windspeed        casual    registered  \\\n",
              "count  10886.000000  10886.000000  10886.000000  10886.000000  10886.000000   \n",
              "mean      23.655084     61.886460     12.799395     36.021955    155.552177   \n",
              "std        8.474601     19.245033      8.164537     49.960477    151.039033   \n",
              "min        0.760000      0.000000      0.000000      0.000000      0.000000   \n",
              "25%       16.665000     47.000000      7.001500      4.000000     36.000000   \n",
              "50%       24.240000     62.000000     12.998000     17.000000    118.000000   \n",
              "75%       31.060000     77.000000     16.997900     49.000000    222.000000   \n",
              "max       45.455000    100.000000     56.996900    367.000000    886.000000   \n",
              "\n",
              "              total          hour  \n",
              "count  10886.000000  10886.000000  \n",
              "mean     191.574132     11.541613  \n",
              "std      181.144454      6.915838  \n",
              "min        1.000000      0.000000  \n",
              "25%       42.000000      6.000000  \n",
              "50%      145.000000     12.000000  \n",
              "75%      284.000000     18.000000  \n",
              "max      977.000000     23.000000  "
            ],
            "text/html": [
              "\n",
              "  <div id=\"df-e4eb3e96-80b3-4db9-b82e-103220526436\">\n",
              "    <div class=\"colab-df-container\">\n",
              "      <div>\n",
              "<style scoped>\n",
              "    .dataframe tbody tr th:only-of-type {\n",
              "        vertical-align: middle;\n",
              "    }\n",
              "\n",
              "    .dataframe tbody tr th {\n",
              "        vertical-align: top;\n",
              "    }\n",
              "\n",
              "    .dataframe thead th {\n",
              "        text-align: right;\n",
              "    }\n",
              "</style>\n",
              "<table border=\"1\" class=\"dataframe\">\n",
              "  <thead>\n",
              "    <tr style=\"text-align: right;\">\n",
              "      <th></th>\n",
              "      <th>season</th>\n",
              "      <th>holiday</th>\n",
              "      <th>workingday</th>\n",
              "      <th>weather</th>\n",
              "      <th>temp</th>\n",
              "      <th>atemp</th>\n",
              "      <th>humidity</th>\n",
              "      <th>windspeed</th>\n",
              "      <th>casual</th>\n",
              "      <th>registered</th>\n",
              "      <th>total</th>\n",
              "      <th>hour</th>\n",
              "    </tr>\n",
              "  </thead>\n",
              "  <tbody>\n",
              "    <tr>\n",
              "      <th>count</th>\n",
              "      <td>10886.000000</td>\n",
              "      <td>10886.000000</td>\n",
              "      <td>10886.000000</td>\n",
              "      <td>10886.000000</td>\n",
              "      <td>10886.00000</td>\n",
              "      <td>10886.000000</td>\n",
              "      <td>10886.000000</td>\n",
              "      <td>10886.000000</td>\n",
              "      <td>10886.000000</td>\n",
              "      <td>10886.000000</td>\n",
              "      <td>10886.000000</td>\n",
              "      <td>10886.000000</td>\n",
              "    </tr>\n",
              "    <tr>\n",
              "      <th>mean</th>\n",
              "      <td>2.506614</td>\n",
              "      <td>0.028569</td>\n",
              "      <td>0.680875</td>\n",
              "      <td>1.418427</td>\n",
              "      <td>20.23086</td>\n",
              "      <td>23.655084</td>\n",
              "      <td>61.886460</td>\n",
              "      <td>12.799395</td>\n",
              "      <td>36.021955</td>\n",
              "      <td>155.552177</td>\n",
              "      <td>191.574132</td>\n",
              "      <td>11.541613</td>\n",
              "    </tr>\n",
              "    <tr>\n",
              "      <th>std</th>\n",
              "      <td>1.116174</td>\n",
              "      <td>0.166599</td>\n",
              "      <td>0.466159</td>\n",
              "      <td>0.633839</td>\n",
              "      <td>7.79159</td>\n",
              "      <td>8.474601</td>\n",
              "      <td>19.245033</td>\n",
              "      <td>8.164537</td>\n",
              "      <td>49.960477</td>\n",
              "      <td>151.039033</td>\n",
              "      <td>181.144454</td>\n",
              "      <td>6.915838</td>\n",
              "    </tr>\n",
              "    <tr>\n",
              "      <th>min</th>\n",
              "      <td>1.000000</td>\n",
              "      <td>0.000000</td>\n",
              "      <td>0.000000</td>\n",
              "      <td>1.000000</td>\n",
              "      <td>0.82000</td>\n",
              "      <td>0.760000</td>\n",
              "      <td>0.000000</td>\n",
              "      <td>0.000000</td>\n",
              "      <td>0.000000</td>\n",
              "      <td>0.000000</td>\n",
              "      <td>1.000000</td>\n",
              "      <td>0.000000</td>\n",
              "    </tr>\n",
              "    <tr>\n",
              "      <th>25%</th>\n",
              "      <td>2.000000</td>\n",
              "      <td>0.000000</td>\n",
              "      <td>0.000000</td>\n",
              "      <td>1.000000</td>\n",
              "      <td>13.94000</td>\n",
              "      <td>16.665000</td>\n",
              "      <td>47.000000</td>\n",
              "      <td>7.001500</td>\n",
              "      <td>4.000000</td>\n",
              "      <td>36.000000</td>\n",
              "      <td>42.000000</td>\n",
              "      <td>6.000000</td>\n",
              "    </tr>\n",
              "    <tr>\n",
              "      <th>50%</th>\n",
              "      <td>3.000000</td>\n",
              "      <td>0.000000</td>\n",
              "      <td>1.000000</td>\n",
              "      <td>1.000000</td>\n",
              "      <td>20.50000</td>\n",
              "      <td>24.240000</td>\n",
              "      <td>62.000000</td>\n",
              "      <td>12.998000</td>\n",
              "      <td>17.000000</td>\n",
              "      <td>118.000000</td>\n",
              "      <td>145.000000</td>\n",
              "      <td>12.000000</td>\n",
              "    </tr>\n",
              "    <tr>\n",
              "      <th>75%</th>\n",
              "      <td>4.000000</td>\n",
              "      <td>0.000000</td>\n",
              "      <td>1.000000</td>\n",
              "      <td>2.000000</td>\n",
              "      <td>26.24000</td>\n",
              "      <td>31.060000</td>\n",
              "      <td>77.000000</td>\n",
              "      <td>16.997900</td>\n",
              "      <td>49.000000</td>\n",
              "      <td>222.000000</td>\n",
              "      <td>284.000000</td>\n",
              "      <td>18.000000</td>\n",
              "    </tr>\n",
              "    <tr>\n",
              "      <th>max</th>\n",
              "      <td>4.000000</td>\n",
              "      <td>1.000000</td>\n",
              "      <td>1.000000</td>\n",
              "      <td>4.000000</td>\n",
              "      <td>41.00000</td>\n",
              "      <td>45.455000</td>\n",
              "      <td>100.000000</td>\n",
              "      <td>56.996900</td>\n",
              "      <td>367.000000</td>\n",
              "      <td>886.000000</td>\n",
              "      <td>977.000000</td>\n",
              "      <td>23.000000</td>\n",
              "    </tr>\n",
              "  </tbody>\n",
              "</table>\n",
              "</div>\n",
              "      <button class=\"colab-df-convert\" onclick=\"convertToInteractive('df-e4eb3e96-80b3-4db9-b82e-103220526436')\"\n",
              "              title=\"Convert this dataframe to an interactive table.\"\n",
              "              style=\"display:none;\">\n",
              "        \n",
              "  <svg xmlns=\"http://www.w3.org/2000/svg\" height=\"24px\"viewBox=\"0 0 24 24\"\n",
              "       width=\"24px\">\n",
              "    <path d=\"M0 0h24v24H0V0z\" fill=\"none\"/>\n",
              "    <path d=\"M18.56 5.44l.94 2.06.94-2.06 2.06-.94-2.06-.94-.94-2.06-.94 2.06-2.06.94zm-11 1L8.5 8.5l.94-2.06 2.06-.94-2.06-.94L8.5 2.5l-.94 2.06-2.06.94zm10 10l.94 2.06.94-2.06 2.06-.94-2.06-.94-.94-2.06-.94 2.06-2.06.94z\"/><path d=\"M17.41 7.96l-1.37-1.37c-.4-.4-.92-.59-1.43-.59-.52 0-1.04.2-1.43.59L10.3 9.45l-7.72 7.72c-.78.78-.78 2.05 0 2.83L4 21.41c.39.39.9.59 1.41.59.51 0 1.02-.2 1.41-.59l7.78-7.78 2.81-2.81c.8-.78.8-2.07 0-2.86zM5.41 20L4 18.59l7.72-7.72 1.47 1.35L5.41 20z\"/>\n",
              "  </svg>\n",
              "      </button>\n",
              "      \n",
              "  <style>\n",
              "    .colab-df-container {\n",
              "      display:flex;\n",
              "      flex-wrap:wrap;\n",
              "      gap: 12px;\n",
              "    }\n",
              "\n",
              "    .colab-df-convert {\n",
              "      background-color: #E8F0FE;\n",
              "      border: none;\n",
              "      border-radius: 50%;\n",
              "      cursor: pointer;\n",
              "      display: none;\n",
              "      fill: #1967D2;\n",
              "      height: 32px;\n",
              "      padding: 0 0 0 0;\n",
              "      width: 32px;\n",
              "    }\n",
              "\n",
              "    .colab-df-convert:hover {\n",
              "      background-color: #E2EBFA;\n",
              "      box-shadow: 0px 1px 2px rgba(60, 64, 67, 0.3), 0px 1px 3px 1px rgba(60, 64, 67, 0.15);\n",
              "      fill: #174EA6;\n",
              "    }\n",
              "\n",
              "    [theme=dark] .colab-df-convert {\n",
              "      background-color: #3B4455;\n",
              "      fill: #D2E3FC;\n",
              "    }\n",
              "\n",
              "    [theme=dark] .colab-df-convert:hover {\n",
              "      background-color: #434B5C;\n",
              "      box-shadow: 0px 1px 3px 1px rgba(0, 0, 0, 0.15);\n",
              "      filter: drop-shadow(0px 1px 2px rgba(0, 0, 0, 0.3));\n",
              "      fill: #FFFFFF;\n",
              "    }\n",
              "  </style>\n",
              "\n",
              "      <script>\n",
              "        const buttonEl =\n",
              "          document.querySelector('#df-e4eb3e96-80b3-4db9-b82e-103220526436 button.colab-df-convert');\n",
              "        buttonEl.style.display =\n",
              "          google.colab.kernel.accessAllowed ? 'block' : 'none';\n",
              "\n",
              "        async function convertToInteractive(key) {\n",
              "          const element = document.querySelector('#df-e4eb3e96-80b3-4db9-b82e-103220526436');\n",
              "          const dataTable =\n",
              "            await google.colab.kernel.invokeFunction('convertToInteractive',\n",
              "                                                     [key], {});\n",
              "          if (!dataTable) return;\n",
              "\n",
              "          const docLinkHtml = 'Like what you see? Visit the ' +\n",
              "            '<a target=\"_blank\" href=https://colab.research.google.com/notebooks/data_table.ipynb>data table notebook</a>'\n",
              "            + ' to learn more about interactive tables.';\n",
              "          element.innerHTML = '';\n",
              "          dataTable['output_type'] = 'display_data';\n",
              "          await google.colab.output.renderOutput(dataTable, element);\n",
              "          const docLink = document.createElement('div');\n",
              "          docLink.innerHTML = docLinkHtml;\n",
              "          element.appendChild(docLink);\n",
              "        }\n",
              "      </script>\n",
              "    </div>\n",
              "  </div>\n",
              "  "
            ]
          },
          "metadata": {},
          "execution_count": 7
        }
      ]
    },
    {
      "cell_type": "code",
      "source": [
        "bikes.shape"
      ],
      "metadata": {
        "colab": {
          "base_uri": "https://localhost:8080/"
        },
        "id": "GaUqj9hOQwg_",
        "outputId": "71e843df-70c1-4f06-f085-1730ac2aae15"
      },
      "execution_count": 8,
      "outputs": [
        {
          "output_type": "execute_result",
          "data": {
            "text/plain": [
              "(10886, 12)"
            ]
          },
          "metadata": {},
          "execution_count": 8
        }
      ]
    },
    {
      "cell_type": "markdown",
      "source": [
        "se identifica un total de 10886 registros y 12 columnas numéricas, para la variable total que corresponde  de bicicletas de alquiler, incluidas tanto ocasionales como registradas el tercer cuartil se encuentra en 284 , no se evidencia null o registros vacios por lo que la información se encuentra completa, referente a las variables Season para cada estación y en general no representa desbalanceo de datos sin embargo para la variable hora la media en los tiempo entre 11.54\n",
        "\n",
        "\n",
        " "
      ],
      "metadata": {
        "id": "HC7VYrfLlLkm"
      }
    },
    {
      "cell_type": "markdown",
      "metadata": {
        "id": "PEAaGzkijB42"
      },
      "source": [
        "### Punto 2 - Análisis de gráficos\n",
        "\n",
        "Primero ejecute la celda 2.1 y asegúrese de comprender el código y el resultado. Luego, en cada una de celdas 2.2 y 2.3 escriba un código que genere una gráfica del número de bicicletas rentadas promedio para cada valor de la variable \"hour\" (hora) cuando la variable \"season\" es igual a 1 (invierno) e igual a 3 (verano), respectivamente. Analice y escriba sus hallazgos."
      ]
    },
    {
      "cell_type": "code",
      "execution_count": 9,
      "metadata": {
        "colab": {
          "base_uri": "https://localhost:8080/",
          "height": 467
        },
        "id": "vL4pCS42jB42",
        "outputId": "d0199620-48e0-41fa-f096-b8fefc88bcef"
      },
      "outputs": [
        {
          "output_type": "execute_result",
          "data": {
            "text/plain": [
              "<Axes: xlabel='hour'>"
            ]
          },
          "metadata": {},
          "execution_count": 9
        },
        {
          "output_type": "display_data",
          "data": {
            "text/plain": [
              "<Figure size 640x480 with 1 Axes>"
            ],
            "image/png": "[encoded data removed]"
          },
          "metadata": {}
        }
      ],
      "source": [
        "# Celda 2.1 - rentas promedio para cada valor de la variable \"hour\"\n",
        "bikes.groupby('hour').total.mean().plot()"
      ]
    },
    {
      "cell_type": "code",
      "execution_count": 10,
      "metadata": {
        "colab": {
          "base_uri": "https://localhost:8080/",
          "height": 705
        },
        "id": "4Fi0w1t1jB43",
        "outputId": "696b614d-2126-4194-f421-1131b902ccb4"
      },
      "outputs": [
        {
          "output_type": "stream",
          "name": "stdout",
          "text": [
            "season        2686\n",
            "holiday       2686\n",
            "workingday    2686\n",
            "weather       2686\n",
            "temp          2686\n",
            "atemp         2686\n",
            "humidity      2686\n",
            "windspeed     2686\n",
            "casual        2686\n",
            "registered    2686\n",
            "total         2686\n",
            "hour          2686\n",
            "dtype: int64\n"
          ]
        },
        {
          "output_type": "execute_result",
          "data": {
            "text/plain": [
              "<Axes: xlabel='hour'>"
            ]
          },
          "metadata": {},
          "execution_count": 10
        },
        {
          "output_type": "display_data",
          "data": {
            "text/plain": [
              "<Figure size 640x480 with 1 Axes>"
            ],
            "image/png": "[encoded data removed]"
          },
          "metadata": {}
        }
      ],
      "source": [
        "# Celda 2.2 - \"season\"=1 escriba su código y hallazgos \n",
        "season_1= bikes.loc[(bikes['season']==1)]\n",
        "print(season_1.count())\n",
        "season_1.groupby('hour').total.mean('total').plot()"
      ]
    },
    {
      "cell_type": "code",
      "execution_count": 11,
      "metadata": {
        "colab": {
          "base_uri": "https://localhost:8080/",
          "height": 705
        },
        "id": "6ApRswemjB44",
        "outputId": "595a97fe-20a6-43dd-9f62-ba41b3d7b021"
      },
      "outputs": [
        {
          "output_type": "stream",
          "name": "stdout",
          "text": [
            "season        2733\n",
            "holiday       2733\n",
            "workingday    2733\n",
            "weather       2733\n",
            "temp          2733\n",
            "atemp         2733\n",
            "humidity      2733\n",
            "windspeed     2733\n",
            "casual        2733\n",
            "registered    2733\n",
            "total         2733\n",
            "hour          2733\n",
            "dtype: int64\n"
          ]
        },
        {
          "output_type": "execute_result",
          "data": {
            "text/plain": [
              "<Axes: xlabel='hour'>"
            ]
          },
          "metadata": {},
          "execution_count": 11
        },
        {
          "output_type": "display_data",
          "data": {
            "text/plain": [
              "<Figure size 640x480 with 1 Axes>"
            ],
            "image/png": "[encoded data removed]"
          },
          "metadata": {}
        }
      ],
      "source": [
        "# Celda 2.3 - \"season\"=3 escriba su código y hallazgos \n",
        "season_3= bikes.loc[(bikes['season']==3)]\n",
        "print(season_3.count())\n",
        "season_3.groupby('hour').total.mean('total').plot()"
      ]
    },
    {
      "cell_type": "markdown",
      "source": [
        "el promedio del total de las bicicletas rentadas para la variable de season siendo 1 o 3, presenta un pico superior en ambas estaciones entre las horas 15 y 20 horas mas de 500. por lo que se percibe mayor renta de bicicletas. \n"
      ],
      "metadata": {
        "id": "uhbmnLRxwDWx"
      }
    },
    {
      "cell_type": "markdown",
      "metadata": {
        "id": "mpEt5esNjB44"
      },
      "source": [
        "### Punto 3 - Regresión lineal\n",
        "En la celda 3 ajuste un modelo de regresión lineal a todo el conjunto de datos, utilizando \"total\" como variable de respuesta y \"season\" y \"hour\" como las únicas variables predictoras, teniendo en cuenta que la variable \"season\" es categórica. Luego, imprima los coeficientes e interprételos. ¿Cuáles son las limitaciones de la regresión lineal en este caso?"
      ]
    },
    {
      "cell_type": "code",
      "source": [],
      "metadata": {
        "id": "ve-wmQqR06v_"
      },
      "execution_count": null,
      "outputs": []
    },
    {
      "cell_type": "markdown",
      "source": [],
      "metadata": {
        "id": "FDU_H92T06k2"
      }
    },
    {
      "cell_type": "markdown",
      "source": [
        "Se realiza la partición de train y test"
      ],
      "metadata": {
        "id": "-F1WeSH-HIuR"
      }
    },
    {
      "cell_type": "code",
      "source": [
        "bikes.groupby('season').total.mean()"
      ],
      "metadata": {
        "colab": {
          "base_uri": "https://localhost:8080/"
        },
        "id": "7Lj7SJ6mVmje",
        "outputId": "6b225670-914e-4b4e-8d2a-0f3e000bfda8"
      },
      "execution_count": 12,
      "outputs": [
        {
          "output_type": "execute_result",
          "data": {
            "text/plain": [
              "season\n",
              "1    116.343261\n",
              "2    215.251372\n",
              "3    234.417124\n",
              "4    198.988296\n",
              "Name: total, dtype: float64"
            ]
          },
          "metadata": {},
          "execution_count": 12
        }
      ]
    },
    {
      "cell_type": "code",
      "source": [
        "df_punto3 = bikes[['season', 'hour','total']]\n",
        "XTotal = bikes[['season', 'hour']]\n",
        "yTotal = bikes['total']\n",
        "XTrain, XTest, yTrain, yTest = train_test_split(XTotal, yTotal, test_size=0.33, random_state=0)\n"
      ],
      "metadata": {
        "id": "yZPrPX7ZEm4o"
      },
      "execution_count": 13,
      "outputs": []
    },
    {
      "cell_type": "code",
      "source": [
        "#preprocessor = ColumnTransformer(\n",
        "#    transformers=[\n",
        "#        (\"cat\", OneHotEncoder(handle_unknown='ignore', sparse=False), ['season'])\n",
        "#    ]\n",
        "#)\n",
        "#XTrain_t = preprocessor.fit_transform(XTrain)\n",
        "#XTest_t = preprocessor.transform(XTest)\n",
        "\n"
      ],
      "metadata": {
        "id": "6MtTj1kBx94I"
      },
      "execution_count": 14,
      "outputs": []
    },
    {
      "cell_type": "code",
      "execution_count": 119,
      "metadata": {
        "id": "UM7iHEIxjB45",
        "colab": {
          "base_uri": "https://localhost:8080/"
        },
        "outputId": "8b66811a-5601-4c29-9fc3-a58a3174cab1"
      },
      "outputs": [
        {
          "output_type": "stream",
          "name": "stdout",
          "text": [
            "Coefficientes: \n",
            " [28.03619568 10.57944293]\n",
            "punto de corte b : \n",
            " -2.239881128568527\n",
            "Precision R^2 : \n",
            " 0.19308102375746472\n",
            "Mean squared error: 26895.62\n",
            "Variance score: 0.18\n"
          ]
        }
      ],
      "source": [
        "# Celda 3\n",
        "# Asignamos nuestra variable de entrada X para entrenamiento y las etiquetas Y.\n",
        "regr = linear_model.LinearRegression()\n",
        " \n",
        "# Entrenamos nuestro modelo\n",
        "regr.fit(XTrain, yTrain)\n",
        " \n",
        "# Hacemos las predicciones que en definitiva una línea\n",
        "y_pred = regr.predict(XTest)\n",
        " \n",
        "# Veamos los coeficienetes obtenidos, En nuestro caso, serán la Tangente\n",
        "print('Coefficientes: \\n', regr.coef_)\n",
        "# Este es el valor donde corta el eje Y (en X=0)\n",
        "print('punto de corte b : \\n', regr.intercept_)\n",
        "# R^2\n",
        "print('Precision R^2 : \\n', regr.score(XTrain, yTrain))\n",
        "\n",
        "# Error Cuadrado Medio\n",
        "print(\"Mean squared error: %.2f\" % mean_squared_error(yTest, y_pred))\n",
        "\n",
        "# Puntaje de Varianza. El mejor puntaje es un 1.0\n",
        "print('Variance score: %.2f' % r2_score(yTest, y_pred))"
      ]
    },
    {
      "cell_type": "markdown",
      "source": [
        "Referente a los resultados el punto de corte es negativo de -2.23 referente al coeficiente de confianza del 19% lo que no es representativo para el modelo, las limitaciones del modelo la prediccion dado que unicamente son dos variables predictoras no son suficientes para explicar el comportamiento de la variable de respuesta. "
      ],
      "metadata": {
        "id": "tVvi8RJpWDM-"
      }
    },
    {
      "cell_type": "markdown",
      "metadata": {
        "id": "nhBohkEXjB45"
      },
      "source": [
        "### Punto 4 - Árbol de decisión manual\n",
        "En la celda 4 cree un árbol de decisiones para pronosticar la variable \"total\" iterando **manualmente** sobre las variables \"hour\" y  \"season\". El árbol debe tener al menos 6 nodos finales."
      ]
    },
    {
      "cell_type": "code",
      "execution_count": 85,
      "metadata": {
        "id": "XXCrBsBdjB46"
      },
      "outputs": [],
      "source": [
        "# Celda 4\n",
        "# Definición de parámetros y criterios de parada\n",
        "max_depth = None\n",
        "num_pct = 10\n",
        "max_features = None\n",
        "min_gain=0.001"
      ]
    },
    {
      "cell_type": "code",
      "source": [
        "#definicion de variables \n",
        "df_punto3 = bikes[['season', 'hour','total']]\n",
        "X = bikes[['season', 'hour']]\n",
        "y = bikes['total']\n",
        "XTrain, XTest, yTrain, yTest = train_test_split(X, y, test_size=0.33, random_state=0)"
      ],
      "metadata": {
        "id": "o9rgG2_O4FQ-"
      },
      "execution_count": 86,
      "outputs": []
    },
    {
      "cell_type": "code",
      "execution_count": 91,
      "metadata": {
        "id": "0_aUJ7gcJPyy",
        "colab": {
          "base_uri": "https://localhost:8080/"
        },
        "outputId": "c80b9b26-95f4-4d15-bd5c-85ce1f1390a6"
      },
      "outputs": [
        {
          "output_type": "stream",
          "name": "stdout",
          "text": [
            "hour\n"
          ]
        }
      ],
      "source": [
        "# Impresión variable a usar (Hour)\n",
        "j = 1\n",
        "print(X.columns[j])"
      ]
    },
    {
      "cell_type": "code",
      "execution_count": 92,
      "metadata": {
        "id": "DKdkNmMaJPyy",
        "colab": {
          "base_uri": "https://localhost:8080/"
        },
        "outputId": "7a92e9c2-4e4a-4162-b1d4-61b43f4827b3"
      },
      "outputs": [
        {
          "output_type": "execute_result",
          "data": {
            "text/plain": [
              "array([ 0.,  2.,  4.,  7.,  9., 12., 14., 16., 19., 21.])"
            ]
          },
          "metadata": {},
          "execution_count": 92
        }
      ],
      "source": [
        "# División de la variable Hits en num_ctp puntos (parámetro definido anteriormente) para obtener posibles puntos de corte\n",
        "splits = np.percentile(X.iloc[:, j], np.arange(0, 100, 100.0 / num_pct).tolist())\n",
        "splits = np.unique(splits)\n",
        "splits"
      ]
    },
    {
      "cell_type": "code",
      "execution_count": 93,
      "metadata": {
        "id": "UnGbCz0OJPyz",
        "colab": {
          "base_uri": "https://localhost:8080/"
        },
        "outputId": "c8e39a13-8b4a-4f5d-b706-130a26eb53da"
      },
      "outputs": [
        {
          "output_type": "execute_result",
          "data": {
            "text/plain": [
              "datetime\n",
              "2011-01-01 00:00:00     16\n",
              "2011-01-01 01:00:00     40\n",
              "2011-01-01 02:00:00     32\n",
              "2011-01-01 03:00:00     13\n",
              "2011-01-01 04:00:00      1\n",
              "                      ... \n",
              "2012-12-19 07:00:00    363\n",
              "2012-12-19 08:00:00    678\n",
              "2012-12-19 09:00:00    317\n",
              "2012-12-19 10:00:00    164\n",
              "2012-12-19 11:00:00    200\n",
              "Name: total, Length: 5414, dtype: int64"
            ]
          },
          "metadata": {},
          "execution_count": 93
        }
      ],
      "source": [
        "# División de las observaciones usando el punto de corte en la posición 5 de la lista de splits\n",
        "k=5\n",
        "filter_l = X.iloc[:, j] < splits[k]\n",
        "\n",
        "# División de la variable de respuesta de acuerdo a si la observación cumple o no con la regla binaria\n",
        "# y_l: la observación tiene un valor menor al punto de corte seleccionado\n",
        "# y_r: la observación tiene un valor mayor o igual al punto de corte seleccionado\n",
        "y_l = y.loc[filter_l]\n",
        "y_r = y.loc[~filter_l]\n",
        "\n",
        "y_l"
      ]
    },
    {
      "cell_type": "code",
      "execution_count": 94,
      "metadata": {
        "id": "7F6DFl5KJPyz"
      },
      "outputs": [],
      "source": [
        "# Definición de la función que calcula el gini index\n",
        "def gini(y):\n",
        "    if y.shape[0] == 0:\n",
        "        return 0\n",
        "    else:\n",
        "        return 1 - (y.mean()**2 + (1 - y.mean())**2)"
      ]
    },
    {
      "cell_type": "code",
      "execution_count": 95,
      "metadata": {
        "id": "b90YmYAvJPyz",
        "colab": {
          "base_uri": "https://localhost:8080/"
        },
        "outputId": "cf3ca3cb-945c-49ba-82eb-84f73b0ddfd1"
      },
      "outputs": [
        {
          "output_type": "execute_result",
          "data": {
            "text/plain": [
              "-27775.88300816515"
            ]
          },
          "metadata": {},
          "execution_count": 95
        }
      ],
      "source": [
        "# Gini index de las observaciones que tienen un valor menor al punto de corte seleccionado\n",
        "gini_l = gini(y_l)\n",
        "gini_l"
      ]
    },
    {
      "cell_type": "code",
      "execution_count": 96,
      "metadata": {
        "id": "TVcaJxWUJPyz",
        "colab": {
          "base_uri": "https://localhost:8080/"
        },
        "outputId": "88db64df-27e1-455b-9630-01e7e20a7900"
      },
      "outputs": [
        {
          "output_type": "execute_result",
          "data": {
            "text/plain": [
              "-138889.2339678902"
            ]
          },
          "metadata": {},
          "execution_count": 96
        }
      ],
      "source": [
        "# Gini index de las observaciones que tienen un valor mayor o igual al punto de corte seleccionado\n",
        "gini_r = gini(y_r)\n",
        "gini_r"
      ]
    },
    {
      "cell_type": "code",
      "execution_count": 97,
      "metadata": {
        "id": "qOBUJQi2JPyz"
      },
      "outputs": [],
      "source": [
        "# Definición de la función gini_imputiry para calular la ganancia de una variable predictora j dado el punto de corte k\n",
        "def gini_impurity(X_col, y, split):\n",
        "    \n",
        "    filter_l = X_col < split\n",
        "    y_l = y.loc[filter_l]\n",
        "    y_r = y.loc[~filter_l]\n",
        "    \n",
        "    n_l = y_l.shape[0]\n",
        "    n_r = y_r.shape[0]\n",
        "    \n",
        "    gini_y = gini(y)\n",
        "    gini_l = gini(y_l)\n",
        "    gini_r = gini(y_r)\n",
        "    \n",
        "    gini_impurity_ = gini_y - (n_l / (n_l + n_r) * gini_l + n_r / (n_l + n_r) * gini_r)\n",
        "    \n",
        "    return gini_impurity_"
      ]
    },
    {
      "cell_type": "code",
      "execution_count": 98,
      "metadata": {
        "id": "crRHn6-4JPyz",
        "colab": {
          "base_uri": "https://localhost:8080/"
        },
        "outputId": "46aaa4ec-8e8e-46a5-a5fd-3e5bafb17c58"
      },
      "outputs": [
        {
          "output_type": "execute_result",
          "data": {
            "text/plain": [
              "10610.413579790038"
            ]
          },
          "metadata": {},
          "execution_count": 98
        }
      ],
      "source": [
        "# Ganancia de la variable 'Hits' en el punto de corte selecionado\n",
        "gini_impurity(X.iloc[:, j], y, splits[k])"
      ]
    },
    {
      "cell_type": "code",
      "execution_count": 99,
      "metadata": {
        "id": "V1Mohx9fJPy0"
      },
      "outputs": [],
      "source": [
        "# Definición de la función best_split para calcular cuál es la mejor variable y punto de cortepara hacer la bifurcación del árbol\n",
        "def best_split(X, y, num_pct=10):\n",
        "    \n",
        "    features = range(X.shape[1])\n",
        "    \n",
        "    best_split = [0, 0, 0]  # j, split, gain\n",
        "    \n",
        "    # Para todas las varibles \n",
        "    for j in features:\n",
        "        \n",
        "        splits = np.percentile(X.iloc[:, j], np.arange(0, 100, 100.0 / (num_pct+1)).tolist())\n",
        "        splits = np.unique(splits)[1:]\n",
        "        \n",
        "        # Para cada partición\n",
        "        for split in splits:\n",
        "            gain = gini_impurity(X.iloc[:, j], y, split)\n",
        "                        \n",
        "            if gain > best_split[2]:\n",
        "                best_split = [j, split, gain]\n",
        "    \n",
        "    return best_split"
      ]
    },
    {
      "cell_type": "code",
      "execution_count": 100,
      "metadata": {
        "id": "-DXSOwk5JPy0",
        "colab": {
          "base_uri": "https://localhost:8080/"
        },
        "outputId": "08299fc8-7777-45dc-9e8e-3282269df327"
      },
      "outputs": [
        {
          "output_type": "execute_result",
          "data": {
            "text/plain": [
              "(1, 8.0, 18268.811823533004)"
            ]
          },
          "metadata": {},
          "execution_count": 100
        }
      ],
      "source": [
        "# Obtención de la variable 'j', su punto de corte 'split' y su ganancia 'gain'\n",
        "j, split, gain = best_split(X, y, 5)\n",
        "j, split, gain"
      ]
    },
    {
      "cell_type": "code",
      "execution_count": 101,
      "metadata": {
        "id": "DPOiwtKqJPy0"
      },
      "outputs": [],
      "source": [
        "# División de las observaciones usando la mejor variable 'j' y su punto de corte 'split'\n",
        "filter_l = X.iloc[:, j] < split\n",
        "\n",
        "y_l = y.loc[filter_l]\n",
        "y_r = y.loc[~filter_l]"
      ]
    },
    {
      "cell_type": "code",
      "execution_count": 102,
      "metadata": {
        "id": "D4v2RzilJPy0",
        "colab": {
          "base_uri": "https://localhost:8080/"
        },
        "outputId": "59892dd7-90ad-49dd-e484-904cecf53bf6"
      },
      "outputs": [
        {
          "output_type": "execute_result",
          "data": {
            "text/plain": [
              "(10886, 3594, 7292)"
            ]
          },
          "metadata": {},
          "execution_count": 102
        }
      ],
      "source": [
        "y.shape[0], y_l.shape[0], y_r.shape[0]"
      ]
    },
    {
      "cell_type": "code",
      "execution_count": 103,
      "metadata": {
        "id": "UahjiYSGJPy0"
      },
      "outputs": [],
      "source": [
        "# Definición de la función tree_grow para hacer un crecimiento recursivo del árbol\n",
        "def tree_grow(X, y, level=0, min_gain=0.001, max_depth=None, num_pct=10):\n",
        "    \n",
        "    # Si solo es una observación\n",
        "    if X.shape[0] == 1:\n",
        "        tree = dict(y_pred=y.iloc[:1].values[0], y_prob=0.5, level=level, split=-1, n_samples=1, gain=0)\n",
        "        return tree\n",
        "    \n",
        "    # Calcular la mejor división\n",
        "    j, split, gain = best_split(X, y, num_pct)\n",
        "    \n",
        "    # Guardar el árbol y estimar la predicción\n",
        "    y_pred = int(y.mean() >= 0.5) \n",
        "    y_prob = (y.sum() + 1.0) / (y.shape[0] + 2.0)  # Corrección Laplace \n",
        "    \n",
        "    tree = dict(y_pred=y_pred, y_prob=y_prob, level=level, split=-1, n_samples=X.shape[0], gain=gain)\n",
        "    # Revisar el criterio de parada \n",
        "    if gain < min_gain:\n",
        "        return tree\n",
        "    if max_depth is not None:\n",
        "        if level >= max_depth:\n",
        "            return tree   \n",
        "    \n",
        "    # Continuar creando la partición\n",
        "    filter_l = X.iloc[:, j] < split\n",
        "    X_l, y_l = X.loc[filter_l], y.loc[filter_l]\n",
        "    X_r, y_r = X.loc[~filter_l], y.loc[~filter_l]\n",
        "    tree['split'] = [j, split]\n",
        "\n",
        "    # Siguiente iteración para cada partición\n",
        "    \n",
        "    tree['sl'] = tree_grow(X_l, y_l, level + 1, min_gain=min_gain, max_depth=max_depth, num_pct=num_pct)\n",
        "    tree['sr'] = tree_grow(X_r, y_r, level + 1, min_gain=min_gain, max_depth=max_depth, num_pct=num_pct)\n",
        "    \n",
        "    return tree"
      ]
    },
    {
      "cell_type": "code",
      "execution_count": 104,
      "metadata": {
        "id": "njKclf_RJPy1",
        "colab": {
          "base_uri": "https://localhost:8080/"
        },
        "outputId": "22d7a990-3eef-4e50-a199-7c63e9f7b596"
      },
      "outputs": [
        {
          "output_type": "execute_result",
          "data": {
            "text/plain": [
              "{'y_pred': 1,\n",
              " 'y_prob': 191.53903379867745,\n",
              " 'level': 0,\n",
              " 'split': [1, 8.0],\n",
              " 'n_samples': 10886,\n",
              " 'gain': 18268.811823533004,\n",
              " 'sl': {'y_pred': 1,\n",
              "  'y_prob': 55.40711902113459,\n",
              "  'level': 1,\n",
              "  'split': -1,\n",
              "  'n_samples': 3594,\n",
              "  'gain': 7207.700659959655},\n",
              " 'sr': {'y_pred': 1,\n",
              "  'y_prob': 258.6007677543186,\n",
              "  'level': 1,\n",
              "  'split': -1,\n",
              "  'n_samples': 7292,\n",
              "  'gain': 7392.920792160614}}"
            ]
          },
          "metadata": {},
          "execution_count": 104
        }
      ],
      "source": [
        "# Aplicación de la función tree_grow\n",
        "tree_grow(X, y, level=0, min_gain=0.001, max_depth=1, num_pct=10)"
      ]
    },
    {
      "cell_type": "code",
      "execution_count": 106,
      "metadata": {
        "id": "YrlkMk2IJPy1",
        "colab": {
          "base_uri": "https://localhost:8080/"
        },
        "outputId": "a9efaad0-597a-451a-e7b6-978808e49970"
      },
      "outputs": [
        {
          "output_type": "execute_result",
          "data": {
            "text/plain": [
              "{'y_pred': 1,\n",
              " 'y_prob': 191.53903379867745,\n",
              " 'level': 0,\n",
              " 'split': [1, 8.0],\n",
              " 'n_samples': 10886,\n",
              " 'gain': 18268.811823533004,\n",
              " 'sl': {'y_pred': 1,\n",
              "  'y_prob': 55.40711902113459,\n",
              "  'level': 1,\n",
              "  'split': [1, 7.0],\n",
              "  'n_samples': 3594,\n",
              "  'gain': 7207.700659959655,\n",
              "  'sl': {'y_pred': 1,\n",
              "   'y_prob': 32.561604584527224,\n",
              "   'level': 2,\n",
              "   'split': [1, 6.0],\n",
              "   'n_samples': 3139,\n",
              "   'gain': 646.8008927589567,\n",
              "   'sl': {'y_pred': 1,\n",
              "    'y_prob': 25.15934475055845,\n",
              "    'level': 3,\n",
              "    'split': [1, 2.0],\n",
              "    'n_samples': 2684,\n",
              "    'gain': 382.8088308604629,\n",
              "    'sl': {'y_pred': 1,\n",
              "     'y_prob': 44.41383095499451,\n",
              "     'level': 4,\n",
              "     'split': [0, 2.0],\n",
              "     'n_samples': 909,\n",
              "     'gain': 291.4004681825131,\n",
              "     'sl': {'y_pred': 1,\n",
              "      'y_prob': 23.32456140350877,\n",
              "      'level': 5,\n",
              "      'split': [1, 1.0],\n",
              "      'n_samples': 226,\n",
              "      'gain': 45.41972746495435,\n",
              "      'sl': {'y_pred': 1,\n",
              "       'y_prob': 27.808695652173913,\n",
              "       'level': 6,\n",
              "       'split': -1,\n",
              "       'n_samples': 113,\n",
              "       'gain': 0},\n",
              "      'sr': {'y_pred': 1,\n",
              "       'y_prob': 18.443478260869565,\n",
              "       'level': 6,\n",
              "       'split': -1,\n",
              "       'n_samples': 113,\n",
              "       'gain': 0}},\n",
              "     'sr': {'y_pred': 1,\n",
              "      'y_prob': 51.3051094890511,\n",
              "      'level': 5,\n",
              "      'split': [1, 1.0],\n",
              "      'n_samples': 683,\n",
              "      'gain': 316.1751143186211,\n",
              "      'sl': {'y_pred': 1,\n",
              "       'y_prob': 63.63953488372093,\n",
              "       'level': 6,\n",
              "       'split': -1,\n",
              "       'n_samples': 342,\n",
              "       'gain': 37.59626038780971},\n",
              "      'sr': {'y_pred': 1,\n",
              "       'y_prob': 38.63848396501458,\n",
              "       'level': 6,\n",
              "       'split': -1,\n",
              "       'n_samples': 341,\n",
              "       'gain': 10.425846423569055}}},\n",
              "    'sr': {'y_pred': 1,\n",
              "     'y_prob': 15.260551491277434,\n",
              "     'level': 4,\n",
              "     'split': [1, 3.0],\n",
              "     'n_samples': 1775,\n",
              "     'gain': 39.229899273669275,\n",
              "     'sl': {'y_pred': 1,\n",
              "      'y_prob': 22.8,\n",
              "      'level': 5,\n",
              "      'split': [0, 2.0],\n",
              "      'n_samples': 448,\n",
              "      'gain': 58.9740013202146,\n",
              "      'sl': {'y_pred': 1,\n",
              "       'y_prob': 12.972477064220184,\n",
              "       'level': 6,\n",
              "       'split': -1,\n",
              "       'n_samples': 107,\n",
              "       'gain': 0},\n",
              "      'sr': {'y_pred': 1,\n",
              "       'y_prob': 25.793002915451893,\n",
              "       'level': 6,\n",
              "       'split': -1,\n",
              "       'n_samples': 341,\n",
              "       'gain': 10.65568633118778}},\n",
              "     'sr': {'y_pred': 1,\n",
              "      'y_prob': 12.685477802859292,\n",
              "      'level': 5,\n",
              "      'split': [1, 5.0],\n",
              "      'n_samples': 1327,\n",
              "      'gain': 51.55182386612603,\n",
              "      'sl': {'y_pred': 1,\n",
              "       'y_prob': 9.035347776510832,\n",
              "       'level': 6,\n",
              "       'split': -1,\n",
              "       'n_samples': 875,\n",
              "       'gain': 14.311158670464266},\n",
              "      'sr': {'y_pred': 1,\n",
              "       'y_prob': 19.68281938325991,\n",
              "       'level': 6,\n",
              "       'split': -1,\n",
              "       'n_samples': 452,\n",
              "       'gain': 57.661438120649336}}}},\n",
              "   'sr': {'y_pred': 1,\n",
              "    'y_prob': 75.92778993435448,\n",
              "    'level': 3,\n",
              "    'split': [0, 2.0],\n",
              "    'n_samples': 455,\n",
              "    'gain': 743.095592335012,\n",
              "    'sl': {'y_pred': 1,\n",
              "     'y_prob': 41.99130434782609,\n",
              "     'level': 4,\n",
              "     'split': -1,\n",
              "     'n_samples': 113,\n",
              "     'gain': 0},\n",
              "    'sr': {'y_pred': 1,\n",
              "     'y_prob': 86.83430232558139,\n",
              "     'level': 4,\n",
              "     'split': [0, 4.0],\n",
              "     'n_samples': 342,\n",
              "     'gain': 25.855143462948035,\n",
              "     'sl': {'y_pred': 1,\n",
              "      'y_prob': 89.10434782608695,\n",
              "      'level': 5,\n",
              "      'split': [0, 3.0],\n",
              "      'n_samples': 228,\n",
              "      'gain': 95.19579101261843,\n",
              "      'sl': {'y_pred': 1,\n",
              "       'y_prob': 81.5603448275862,\n",
              "       'level': 6,\n",
              "       'split': -1,\n",
              "       'n_samples': 114,\n",
              "       'gain': 0},\n",
              "      'sr': {'y_pred': 1,\n",
              "       'y_prob': 95.12068965517241,\n",
              "       'level': 6,\n",
              "       'split': -1,\n",
              "       'n_samples': 114,\n",
              "       'gain': 0}},\n",
              "     'sr': {'y_pred': 1,\n",
              "      'y_prob': 80.84482758620689,\n",
              "      'level': 5,\n",
              "      'split': -1,\n",
              "      'n_samples': 114,\n",
              "      'gain': 0}}}},\n",
              "  'sr': {'y_pred': 1,\n",
              "   'y_prob': 212.18599562363238,\n",
              "   'level': 2,\n",
              "   'split': [0, 2.0],\n",
              "   'n_samples': 455,\n",
              "   'gain': 5197.1071057533845,\n",
              "   'sl': {'y_pred': 1,\n",
              "    'y_prob': 122.27826086956522,\n",
              "    'level': 3,\n",
              "    'split': -1,\n",
              "    'n_samples': 113,\n",
              "    'gain': 0},\n",
              "   'sr': {'y_pred': 1,\n",
              "    'y_prob': 241.01162790697674,\n",
              "    'level': 3,\n",
              "    'split': [0, 4.0],\n",
              "    'n_samples': 342,\n",
              "    'gain': 131.37717588317173,\n",
              "    'sl': {'y_pred': 1,\n",
              "     'y_prob': 245.99565217391304,\n",
              "     'level': 4,\n",
              "     'split': [0, 3.0],\n",
              "     'n_samples': 228,\n",
              "     'gain': 504.7277623884438,\n",
              "     'sl': {'y_pred': 1,\n",
              "      'y_prob': 228.26724137931035,\n",
              "      'level': 5,\n",
              "      'split': -1,\n",
              "      'n_samples': 114,\n",
              "      'gain': 0},\n",
              "     'sr': {'y_pred': 1,\n",
              "      'y_prob': 259.4913793103448,\n",
              "      'level': 5,\n",
              "      'split': -1,\n",
              "      'n_samples': 114,\n",
              "      'gain': 0}},\n",
              "    'sr': {'y_pred': 1,\n",
              "     'y_prob': 226.98275862068965,\n",
              "     'level': 4,\n",
              "     'split': -1,\n",
              "     'n_samples': 114,\n",
              "     'gain': 0}}}},\n",
              " 'sr': {'y_pred': 1,\n",
              "  'y_prob': 258.6007677543186,\n",
              "  'level': 1,\n",
              "  'split': [1, 21.0],\n",
              "  'n_samples': 7292,\n",
              "  'gain': 7392.920792160614,\n",
              "  'sl': {'y_pred': 1,\n",
              "   'y_prob': 287.7910901113736,\n",
              "   'level': 2,\n",
              "   'split': [0, 2.0],\n",
              "   'n_samples': 5924,\n",
              "   'gain': 8304.11949599313,\n",
              "   'sl': {'y_pred': 1,\n",
              "    'y_prob': 175.89256756756757,\n",
              "    'level': 3,\n",
              "    'split': [1, 16.0],\n",
              "    'n_samples': 1478,\n",
              "    'gain': 1134.7125713419155,\n",
              "    'sl': {'y_pred': 1,\n",
              "     'y_prob': 156.91318681318683,\n",
              "     'level': 4,\n",
              "     'split': [1, 9.0],\n",
              "     'n_samples': 908,\n",
              "     'gain': 2624.6681854894996,\n",
              "     'sl': {'y_pred': 1,\n",
              "      'y_prob': 248.94782608695652,\n",
              "      'level': 5,\n",
              "      'split': -1,\n",
              "      'n_samples': 113,\n",
              "      'gain': 0},\n",
              "     'sr': {'y_pred': 1,\n",
              "      'y_prob': 143.2409033877039,\n",
              "      'level': 5,\n",
              "      'split': [1, 12.0],\n",
              "      'n_samples': 795,\n",
              "      'gain': 439.6561657092534,\n",
              "      'sl': {'y_pred': 1,\n",
              "       'y_prob': 125.66568914956012,\n",
              "       'level': 6,\n",
              "       'split': -1,\n",
              "       'n_samples': 339,\n",
              "       'gain': 786.1489632008015},\n",
              "      'sr': {'y_pred': 1,\n",
              "       'y_prob': 155.70305676855895,\n",
              "       'level': 6,\n",
              "       'split': -1,\n",
              "       'n_samples': 456,\n",
              "       'gain': 4.874220914134639}}},\n",
              "    'sr': {'y_pred': 1,\n",
              "     'y_prob': 205.4737762237762,\n",
              "     'level': 4,\n",
              "     'split': [1, 19.0],\n",
              "     'n_samples': 570,\n",
              "     'gain': 4157.134528572889,\n",
              "     'sl': {'y_pred': 1,\n",
              "      'y_prob': 242.00581395348837,\n",
              "      'level': 5,\n",
              "      'split': [1, 17.0],\n",
              "      'n_samples': 342,\n",
              "      'gain': 3000.6049382716155,\n",
              "      'sl': {'y_pred': 1,\n",
              "       'y_prob': 185.39655172413794,\n",
              "       'level': 6,\n",
              "       'split': -1,\n",
              "       'n_samples': 114,\n",
              "       'gain': 0},\n",
              "      'sr': {'y_pred': 1,\n",
              "       'y_prob': 268.45652173913044,\n",
              "       'level': 6,\n",
              "       'split': -1,\n",
              "       'n_samples': 228,\n",
              "       'gain': 320.00061557401204}},\n",
              "     'sr': {'y_pred': 1,\n",
              "      'y_prob': 149.05217391304348,\n",
              "      'level': 5,\n",
              "      'split': [1, 20.0],\n",
              "      'n_samples': 228,\n",
              "      'gain': 1347.89785318559,\n",
              "      'sl': {'y_pred': 1,\n",
              "       'y_prob': 173.2844827586207,\n",
              "       'level': 6,\n",
              "       'split': -1,\n",
              "       'n_samples': 114,\n",
              "       'gain': 0},\n",
              "      'sr': {'y_pred': 1,\n",
              "       'y_prob': 122.25862068965517,\n",
              "       'level': 6,\n",
              "       'split': -1,\n",
              "       'n_samples': 114,\n",
              "       'gain': 0}}}},\n",
              "   'sr': {'y_pred': 1,\n",
              "    'y_prob': 324.8943345323741,\n",
              "    'level': 3,\n",
              "    'split': [1, 16.0],\n",
              "    'n_samples': 4446,\n",
              "    'gain': 7126.654106105911,\n",
              "    'sl': {'y_pred': 1,\n",
              "     'y_prob': 277.645726807889,\n",
              "     'level': 4,\n",
              "     'split': [1, 9.0],\n",
              "     'n_samples': 2736,\n",
              "     'gain': 4188.375695612398,\n",
              "     'sl': {'y_pred': 1,\n",
              "      'y_prob': 396.6075581395349,\n",
              "      'level': 5,\n",
              "      'split': [0, 3.0],\n",
              "      'n_samples': 342,\n",
              "      'gain': 76.23025888297707,\n",
              "      'sl': {'y_pred': 1,\n",
              "       'y_prob': 383.4741379310345,\n",
              "       'level': 6,\n",
              "       'split': -1,\n",
              "       'n_samples': 114,\n",
              "       'gain': 0},\n",
              "      'sr': {'y_pred': 1,\n",
              "       'y_prob': 399.7869565217391,\n",
              "       'level': 6,\n",
              "       'split': -1,\n",
              "       'n_samples': 228,\n",
              "       'gain': 0.09618344099726528}},\n",
              "     'sr': {'y_pred': 1,\n",
              "      'y_prob': 260.3347245409015,\n",
              "      'level': 5,\n",
              "      'split': [1, 12.0],\n",
              "      'n_samples': 2394,\n",
              "      'gain': 1622.4360912724806,\n",
              "      'sl': {'y_pred': 1,\n",
              "       'y_prob': 227.22178988326849,\n",
              "       'level': 6,\n",
              "       'split': -1,\n",
              "       'n_samples': 1026,\n",
              "       'gain': 267.829494545309},\n",
              "      'sr': {'y_pred': 1,\n",
              "       'y_prob': 284.8021897810219,\n",
              "       'level': 6,\n",
              "       'split': -1,\n",
              "       'n_samples': 1368,\n",
              "       'gain': 123.14834104932379}}},\n",
              "    'sr': {'y_pred': 1,\n",
              "     'y_prob': 400.08002336448595,\n",
              "     'level': 4,\n",
              "     'split': [1, 19.0],\n",
              "     'n_samples': 1710,\n",
              "     'gain': 10357.058249717928,\n",
              "     'sl': {'y_pred': 1,\n",
              "      'y_prob': 458.41147859922177,\n",
              "      'level': 5,\n",
              "      'split': [1, 17.0],\n",
              "      'n_samples': 1026,\n",
              "      'gain': 10070.885409185605,\n",
              "      'sl': {'y_pred': 1,\n",
              "       'y_prob': 356.8662790697674,\n",
              "       'level': 6,\n",
              "       'split': -1,\n",
              "       'n_samples': 342,\n",
              "       'gain': 158.30348654292175},\n",
              "      'sr': {'y_pred': 1,\n",
              "       'y_prob': 507.99708454810497,\n",
              "       'level': 6,\n",
              "       'split': -1,\n",
              "       'n_samples': 684,\n",
              "       'gain': 2829.337849680276}},\n",
              "     'sr': {'y_pred': 1,\n",
              "      'y_prob': 311.50291545189503,\n",
              "      'level': 5,\n",
              "      'split': [1, 20.0],\n",
              "      'n_samples': 684,\n",
              "      'gain': 4838.748401217395,\n",
              "      'sl': {'y_pred': 1,\n",
              "       'y_prob': 359.5,\n",
              "       'level': 6,\n",
              "       'split': -1,\n",
              "       'n_samples': 342,\n",
              "       'gain': 3873.788481926109},\n",
              "      'sr': {'y_pred': 1,\n",
              "       'y_prob': 261.69767441860466,\n",
              "       'level': 6,\n",
              "       'split': -1,\n",
              "       'n_samples': 342,\n",
              "       'gain': 2368.159852604207}}}}},\n",
              "  'sr': {'y_pred': 1,\n",
              "   'y_prob': 131.95985401459853,\n",
              "   'level': 2,\n",
              "   'split': [0, 2.0],\n",
              "   'n_samples': 1368,\n",
              "   'gain': 2478.289069001301,\n",
              "   'sl': {'y_pred': 1,\n",
              "    'y_prob': 70.7703488372093,\n",
              "    'level': 3,\n",
              "    'split': [1, 23.0],\n",
              "    'n_samples': 342,\n",
              "    'gain': 668.1166854758721,\n",
              "    'sl': {'y_pred': 1,\n",
              "     'y_prob': 83.37826086956522,\n",
              "     'level': 4,\n",
              "     'split': [1, 22.0],\n",
              "     'n_samples': 228,\n",
              "     'gain': 250.5657125269281,\n",
              "     'sl': {'y_pred': 1,\n",
              "      'y_prob': 93.66379310344827,\n",
              "      'level': 5,\n",
              "      'split': -1,\n",
              "      'n_samples': 114,\n",
              "      'gain': 0},\n",
              "     'sr': {'y_pred': 1,\n",
              "      'y_prob': 71.66379310344827,\n",
              "      'level': 5,\n",
              "      'split': -1,\n",
              "      'n_samples': 114,\n",
              "      'gain': 0}},\n",
              "    'sr': {'y_pred': 1,\n",
              "     'y_prob': 44.560344827586206,\n",
              "     'level': 4,\n",
              "     'split': -1,\n",
              "     'n_samples': 114,\n",
              "     'gain': 0}},\n",
              "   'sr': {'y_pred': 1,\n",
              "    'y_prob': 152.17996108949416,\n",
              "    'level': 3,\n",
              "    'split': [1, 23.0],\n",
              "    'n_samples': 1026,\n",
              "    'gain': 2327.263104696969,\n",
              "    'sl': {'y_pred': 1,\n",
              "     'y_prob': 176.08309037900875,\n",
              "     'level': 4,\n",
              "     'split': [1, 22.0],\n",
              "     'n_samples': 684,\n",
              "     'gain': 1039.5200061557407,\n",
              "     'sl': {'y_pred': 1,\n",
              "      'y_prob': 198.23837209302326,\n",
              "      'level': 5,\n",
              "      'split': [0, 4.0],\n",
              "      'n_samples': 342,\n",
              "      'gain': 1333.531009541417,\n",
              "      'sl': {'y_pred': 1,\n",
              "       'y_prob': 215.76521739130436,\n",
              "       'level': 6,\n",
              "       'split': -1,\n",
              "       'n_samples': 228,\n",
              "       'gain': 674.4755694059422},\n",
              "      'sr': {'y_pred': 1,\n",
              "       'y_prob': 160.07758620689654,\n",
              "       'level': 6,\n",
              "       'split': -1,\n",
              "       'n_samples': 114,\n",
              "       'gain': 0}},\n",
              "     'sr': {'y_pred': 1,\n",
              "      'y_prob': 152.90697674418604,\n",
              "      'level': 5,\n",
              "      'split': [0, 4.0],\n",
              "      'n_samples': 342,\n",
              "      'gain': 749.9910741766653,\n",
              "      'sl': {'y_pred': 1,\n",
              "       'y_prob': 166.0391304347826,\n",
              "       'level': 6,\n",
              "       'split': -1,\n",
              "       'n_samples': 228,\n",
              "       'gain': 353.68667282239767},\n",
              "      'sr': {'y_pred': 1,\n",
              "       'y_prob': 124.24137931034483,\n",
              "       'level': 6,\n",
              "       'split': -1,\n",
              "       'n_samples': 114,\n",
              "       'gain': 0}}},\n",
              "    'sr': {'y_pred': 1,\n",
              "     'y_prob': 103.63081395348837,\n",
              "     'level': 4,\n",
              "     'split': [0, 4.0],\n",
              "     'n_samples': 342,\n",
              "     'gain': 223.0743134639706,\n",
              "     'sl': {'y_pred': 1,\n",
              "      'y_prob': 110.73478260869565,\n",
              "      'level': 5,\n",
              "      'split': [0, 3.0],\n",
              "      'n_samples': 228,\n",
              "      'gain': 200.70236995998494,\n",
              "      'sl': {'y_pred': 1,\n",
              "       'y_prob': 99.9396551724138,\n",
              "       'level': 6,\n",
              "       'split': -1,\n",
              "       'n_samples': 114,\n",
              "       'gain': 0},\n",
              "      'sr': {'y_pred': 1,\n",
              "       'y_prob': 119.62931034482759,\n",
              "       'level': 6,\n",
              "       'split': -1,\n",
              "       'n_samples': 114,\n",
              "       'gain': 0}},\n",
              "     'sr': {'y_pred': 1,\n",
              "      'y_prob': 87.76724137931035,\n",
              "      'level': 5,\n",
              "      'split': -1,\n",
              "      'n_samples': 114,\n",
              "      'gain': 0}}}}}}"
            ]
          },
          "metadata": {},
          "execution_count": 106
        }
      ],
      "source": [
        "tree = tree_grow(X, y, level=0, min_gain=0.001, max_depth=6, num_pct=10)\n",
        "tree"
      ]
    },
    {
      "cell_type": "code",
      "execution_count": 107,
      "metadata": {
        "id": "U2lGT_riJPy1"
      },
      "outputs": [],
      "source": [
        "# Definición de la función tree_predict para hacer predicciones según las variables 'X' y el árbol 'tree'\n",
        "\n",
        "def tree_predict(X, tree, proba=False):\n",
        "    \n",
        "    predicted = np.ones(X.shape[0])\n",
        "\n",
        "    # Revisar si es el nodo final\n",
        "    if tree['split'] == -1:\n",
        "        if not proba:\n",
        "            predicted = predicted * tree['y_pred']\n",
        "        else:\n",
        "            predicted = predicted * tree['y_prob']\n",
        "            \n",
        "    else:\n",
        "        \n",
        "        j, split = tree['split']\n",
        "        filter_l = (X.iloc[:, j] < split)\n",
        "        X_l = X.loc[filter_l]\n",
        "        X_r = X.loc[~filter_l]\n",
        "\n",
        "        if X_l.shape[0] == 0:  # Si el nodo izquierdo está vacio solo continua con el derecho \n",
        "            predicted[~filter_l] = tree_predict(X_r, tree['sr'], proba)\n",
        "        elif X_r.shape[0] == 0:  #  Si el nodo derecho está vacio solo continua con el izquierdo\n",
        "            predicted[filter_l] = tree_predict(X_l, tree['sl'], proba)\n",
        "        else:\n",
        "            predicted[filter_l] = tree_predict(X_l, tree['sl'], proba)\n",
        "            predicted[~filter_l] = tree_predict(X_r, tree['sr'], proba)\n",
        "\n",
        "    return predicted\n"
      ]
    },
    {
      "cell_type": "code",
      "execution_count": 108,
      "metadata": {
        "id": "qOykDiTNJPy1",
        "colab": {
          "base_uri": "https://localhost:8080/"
        },
        "outputId": "e2c64c07-c5f7-4662-db0a-1151f3c0938f"
      },
      "outputs": [
        {
          "output_type": "execute_result",
          "data": {
            "text/plain": [
              "array([1., 1., 1., ..., 1., 1., 1.])"
            ]
          },
          "metadata": {},
          "execution_count": 108
        }
      ],
      "source": [
        "# Ejecución de función tree_predict\n",
        "tree_predict(X, tree)"
      ]
    },
    {
      "cell_type": "code",
      "source": [],
      "metadata": {
        "id": "65MGzLri4E3e"
      },
      "execution_count": 114,
      "outputs": []
    },
    {
      "cell_type": "markdown",
      "metadata": {
        "id": "FDWO31x0jB46"
      },
      "source": [
        "### Punto 5 - Árbol de decisión con librería\n",
        "En la celda 5 entrene un árbol de decisiones con la **librería sklearn**, usando las variables predictoras \"season\" y \"hour\" y calibre los parámetros que considere conveniente para obtener un mejor desempeño. Recuerde dividir los datos en conjuntos de entrenamiento y validación para esto. Comente el desempeño del modelo con alguna métrica de desempeño de modelos de regresión y compare desempeño con el modelo del punto 3."
      ]
    },
    {
      "cell_type": "code",
      "execution_count": 109,
      "metadata": {
        "id": "xJee5-GGjB46"
      },
      "outputs": [],
      "source": [
        "# Celda 5\n",
        "import numpy as np\n",
        "from sklearn import datasets\n",
        "from sklearn.model_selection import train_test_split\n",
        "from sklearn.tree import DecisionTreeClassifier\n",
        "from sklearn.tree import plot_tree\n",
        "from sklearn import metrics\n",
        "from sklearn.ensemble import BaggingClassifier\n",
        "from sklearn.ensemble import RandomForestClassifier\n",
        "from sklearn.ensemble import GradientBoostingClassifier\n",
        "import matplotlib.pyplot as plt"
      ]
    },
    {
      "cell_type": "code",
      "source": [
        "#sepración de datos de entrenamiento\n",
        "\n",
        "df_punto3 = bikes[['season', 'hour','total']]\n",
        "XTotal = bikes[['season', 'hour']]\n",
        "yTotal = bikes['total']\n",
        "XTrain, XTest, yTrain, yTest = train_test_split(XTotal, yTotal, test_size=0.33, random_state=0)"
      ],
      "metadata": {
        "id": "81j-CoYH93n8"
      },
      "execution_count": 110,
      "outputs": []
    },
    {
      "cell_type": "code",
      "source": [
        "clfTree = DecisionTreeRegressor(max_depth=6)\n",
        "clfTree.fit(XTrain, yTrain)\n",
        "plot_tree(clfTree)\n",
        "plt.show()"
      ],
      "metadata": {
        "colab": {
          "base_uri": "https://localhost:8080/",
          "height": 406
        },
        "id": "IKC03TCujneT",
        "outputId": "368a7df0-48bd-4de9-8834-4b8bcc3be9bb"
      },
      "execution_count": 111,
      "outputs": [
        {
          "output_type": "display_data",
          "data": {
            "text/plain": [
              "<Figure size 640x480 with 1 Axes>"
            ],
            "image/png": "[encoded data removed]"
          },
          "metadata": {}
        }
      ]
    },
    {
      "cell_type": "code",
      "source": [
        "plot_tree(clfTree,max_depth=1)\n",
        "plt.show()"
      ],
      "metadata": {
        "colab": {
          "base_uri": "https://localhost:8080/",
          "height": 406
        },
        "id": "_lpi3EjZjnXj",
        "outputId": "e2085dc1-4846-433f-8489-9adf511f9c05"
      },
      "execution_count": 71,
      "outputs": [
        {
          "output_type": "display_data",
          "data": {
            "text/plain": [
              "<Figure size 640x480 with 1 Axes>"
            ],
            "image/png": "[encoded data removed]"
          },
          "metadata": {}
        }
      ]
    },
    {
      "cell_type": "code",
      "source": [
        "prediccionTree=clfTree.predict(XTest)\n",
        "print(prediccionTree)\n",
        "\n",
        "precision = clfTree.score(XTrain,yTrain)\n",
        "print(precision)\n",
        "MSE=np.average(np.square(prediccionTree-yTest))\n",
        "print(MSE)\n"
      ],
      "metadata": {
        "colab": {
          "base_uri": "https://localhost:8080/"
        },
        "id": "ZMxHCz9BjnRi",
        "outputId": "b65ec8d9-3fc8-4116-dc87-7318287eec55"
      },
      "execution_count": 116,
      "outputs": [
        {
          "output_type": "stream",
          "name": "stdout",
          "text": [
            "[ 96.68656716 353.29147982 157.63947368 ... 284.73274918  88.11267606\n",
            " 284.73274918]\n",
            "0.6076384276481095\n",
            "13634.814881708618\n"
          ]
        }
      ]
    },
    {
      "cell_type": "code",
      "execution_count": 120,
      "metadata": {
        "id": "GbkIU2KIJPy4",
        "colab": {
          "base_uri": "https://localhost:8080/",
          "height": 74
        },
        "outputId": "d7278a65-d457-4f1b-b526-f97abbe37374"
      },
      "outputs": [
        {
          "output_type": "execute_result",
          "data": {
            "text/plain": [
              "DecisionTreeRegressor(max_depth=6, random_state=1)"
            ],
            "text/html": [
              "<style>#sk-container-id-2 {color: black;background-color: white;}#sk-container-id-2 pre{padding: 0;}#sk-container-id-2 div.sk-toggleable {background-color: white;}#sk-container-id-2 label.sk-toggleable__label {cursor: pointer;display: block;width: 100%;margin-bottom: 0;padding: 0.3em;box-sizing: border-box;text-align: center;}#sk-container-id-2 label.sk-toggleable__label-arrow:before {content: \"▸\";float: left;margin-right: 0.25em;color: #696969;}#sk-container-id-2 label.sk-toggleable__label-arrow:hover:before {color: black;}#sk-container-id-2 div.sk-estimator:hover label.sk-toggleable__label-arrow:before {color: black;}#sk-container-id-2 div.sk-toggleable__content {max-height: 0;max-width: 0;overflow: hidden;text-align: left;background-color: #f0f8ff;}#sk-container-id-2 div.sk-toggleable__content pre {margin: 0.2em;color: black;border-radius: 0.25em;background-color: #f0f8ff;}#sk-container-id-2 input.sk-toggleable__control:checked~div.sk-toggleable__content {max-height: 200px;max-width: 100%;overflow: auto;}#sk-container-id-2 input.sk-toggleable__control:checked~label.sk-toggleable__label-arrow:before {content: \"▾\";}#sk-container-id-2 div.sk-estimator input.sk-toggleable__control:checked~label.sk-toggleable__label {background-color: #d4ebff;}#sk-container-id-2 div.sk-label input.sk-toggleable__control:checked~label.sk-toggleable__label {background-color: #d4ebff;}#sk-container-id-2 input.sk-hidden--visually {border: 0;clip: rect(1px 1px 1px 1px);clip: rect(1px, 1px, 1px, 1px);height: 1px;margin: -1px;overflow: hidden;padding: 0;position: absolute;width: 1px;}#sk-container-id-2 div.sk-estimator {font-family: monospace;background-color: #f0f8ff;border: 1px dotted black;border-radius: 0.25em;box-sizing: border-box;margin-bottom: 0.5em;}#sk-container-id-2 div.sk-estimator:hover {background-color: #d4ebff;}#sk-container-id-2 div.sk-parallel-item::after {content: \"\";width: 100%;border-bottom: 1px solid gray;flex-grow: 1;}#sk-container-id-2 div.sk-label:hover label.sk-toggleable__label {background-color: #d4ebff;}#sk-container-id-2 div.sk-serial::before {content: \"\";position: absolute;border-left: 1px solid gray;box-sizing: border-box;top: 0;bottom: 0;left: 50%;z-index: 0;}#sk-container-id-2 div.sk-serial {display: flex;flex-direction: column;align-items: center;background-color: white;padding-right: 0.2em;padding-left: 0.2em;position: relative;}#sk-container-id-2 div.sk-item {position: relative;z-index: 1;}#sk-container-id-2 div.sk-parallel {display: flex;align-items: stretch;justify-content: center;background-color: white;position: relative;}#sk-container-id-2 div.sk-item::before, #sk-container-id-2 div.sk-parallel-item::before {content: \"\";position: absolute;border-left: 1px solid gray;box-sizing: border-box;top: 0;bottom: 0;left: 50%;z-index: -1;}#sk-container-id-2 div.sk-parallel-item {display: flex;flex-direction: column;z-index: 1;position: relative;background-color: white;}#sk-container-id-2 div.sk-parallel-item:first-child::after {align-self: flex-end;width: 50%;}#sk-container-id-2 div.sk-parallel-item:last-child::after {align-self: flex-start;width: 50%;}#sk-container-id-2 div.sk-parallel-item:only-child::after {width: 0;}#sk-container-id-2 div.sk-dashed-wrapped {border: 1px dashed gray;margin: 0 0.4em 0.5em 0.4em;box-sizing: border-box;padding-bottom: 0.4em;background-color: white;}#sk-container-id-2 div.sk-label label {font-family: monospace;font-weight: bold;display: inline-block;line-height: 1.2em;}#sk-container-id-2 div.sk-label-container {text-align: center;}#sk-container-id-2 div.sk-container {/* jupyter's `normalize.less` sets `[hidden] { display: none; }` but bootstrap.min.css set `[hidden] { display: none !important; }` so we also need the `!important` here to be able to override the default hidden behavior on the sphinx rendered scikit-learn.org. See: https://github.com/scikit-learn/scikit-learn/issues/21755 */display: inline-block !important;position: relative;}#sk-container-id-2 div.sk-text-repr-fallback {display: none;}</style><div id=\"sk-container-id-2\" class=\"sk-top-container\"><div class=\"sk-text-repr-fallback\"><pre>DecisionTreeRegressor(max_depth=6, random_state=1)</pre><b>In a Jupyter environment, please rerun this cell to show the HTML representation or trust the notebook. <br />On GitHub, the HTML representation is unable to render, please try loading this page with nbviewer.org.</b></div><div class=\"sk-container\" hidden><div class=\"sk-item\"><div class=\"sk-estimator sk-toggleable\"><input class=\"sk-toggleable__control sk-hidden--visually\" id=\"sk-estimator-id-2\" type=\"checkbox\" checked><label for=\"sk-estimator-id-2\" class=\"sk-toggleable__label sk-toggleable__label-arrow\">DecisionTreeRegressor</label><div class=\"sk-toggleable__content\"><pre>DecisionTreeRegressor(max_depth=6, random_state=1)</pre></div></div></div></div></div>"
            ]
          },
          "metadata": {},
          "execution_count": 120
        }
      ],
      "source": [
        "# max_depth=4 fue el mejor, se ajusta un árbol usando este valor \n",
        "clf = DecisionTreeRegressor(max_depth=6, random_state=1)\n",
        "clf.fit(XTrain, yTrain)"
      ]
    },
    {
      "cell_type": "markdown",
      "source": [
        "el MSE del punto 3 fue de: 26895.62 y del punto 5 arbol de regresión fue del 13634 por lo que al comparar ambos modelos, se aprecio con mejor MSE la implementación del arbol de decision. "
      ],
      "metadata": {
        "id": "lXHsyFI70-u9"
      }
    },
    {
      "cell_type": "markdown",
      "metadata": {
        "id": "WLqRFMM9jB46"
      },
      "source": [
        "## Parte B - Métodos de ensamblajes\n",
        "En esta parte del taller se usará el conjunto de datos de Popularidad de Noticias Online. El objetivo es predecir si la notica es popular o no, la popularidad está dada por la cantidad de reacciones en redes sociales. Para más detalles puede visitar el siguiente enlace: [datos](https://archive.ics.uci.edu/ml/datasets/online+news+popularity)."
      ]
    },
    {
      "cell_type": "markdown",
      "metadata": {
        "id": "MStki_bYjB47"
      },
      "source": [
        "### Datos popularidad de noticias"
      ]
    },
    {
      "cell_type": "code",
      "execution_count": 121,
      "metadata": {
        "id": "FKmBF8E3jB47",
        "colab": {
          "base_uri": "https://localhost:8080/",
          "height": 386
        },
        "outputId": "4c6b7bdc-4ef7-4c54-929a-be23634f005e"
      },
      "outputs": [
        {
          "output_type": "execute_result",
          "data": {
            "text/plain": [
              "                                                 url  timedelta  \\\n",
              "0  http://mashable.com/2014/12/10/cia-torture-rep...       28.0   \n",
              "1  http://mashable.com/2013/10/18/bitlock-kicksta...      447.0   \n",
              "2  http://mashable.com/2013/07/24/google-glass-po...      533.0   \n",
              "3  http://mashable.com/2013/11/21/these-are-the-m...      413.0   \n",
              "4  http://mashable.com/2014/02/11/parking-ticket-...      331.0   \n",
              "\n",
              "   n_tokens_title  n_tokens_content  n_unique_tokens  n_non_stop_words  \\\n",
              "0             9.0             188.0         0.732620               1.0   \n",
              "1             7.0             297.0         0.653199               1.0   \n",
              "2            11.0             181.0         0.660377               1.0   \n",
              "3            12.0             781.0         0.497409               1.0   \n",
              "4             8.0             177.0         0.685714               1.0   \n",
              "\n",
              "   n_non_stop_unique_tokens  num_hrefs  num_self_hrefs  num_imgs  ...  \\\n",
              "0                  0.844262        5.0             1.0       1.0  ...   \n",
              "1                  0.815789        9.0             4.0       1.0  ...   \n",
              "2                  0.775701        4.0             3.0       1.0  ...   \n",
              "3                  0.677350       10.0             3.0       1.0  ...   \n",
              "4                  0.830357        3.0             2.0       1.0  ...   \n",
              "\n",
              "   min_positive_polarity  max_positive_polarity  avg_negative_polarity  \\\n",
              "0               0.200000                   0.80              -0.487500   \n",
              "1               0.160000                   0.50              -0.135340   \n",
              "2               0.136364                   1.00               0.000000   \n",
              "3               0.100000                   1.00              -0.195701   \n",
              "4               0.100000                   0.55              -0.175000   \n",
              "\n",
              "   min_negative_polarity  max_negative_polarity  title_subjectivity  \\\n",
              "0                  -0.60              -0.250000                 0.9   \n",
              "1                  -0.40              -0.050000                 0.1   \n",
              "2                   0.00               0.000000                 0.3   \n",
              "3                  -0.40              -0.071429                 0.0   \n",
              "4                  -0.25              -0.100000                 0.0   \n",
              "\n",
              "   title_sentiment_polarity  abs_title_subjectivity  \\\n",
              "0                       0.8                     0.4   \n",
              "1                      -0.1                     0.4   \n",
              "2                       1.0                     0.2   \n",
              "3                       0.0                     0.5   \n",
              "4                       0.0                     0.5   \n",
              "\n",
              "   abs_title_sentiment_polarity  Popular  \n",
              "0                           0.8        1  \n",
              "1                           0.1        0  \n",
              "2                           1.0        0  \n",
              "3                           0.0        0  \n",
              "4                           0.0        0  \n",
              "\n",
              "[5 rows x 61 columns]"
            ],
            "text/html": [
              "\n",
              "  <div id=\"df-da9d452c-abd6-4478-b092-53aac731ccb8\">\n",
              "    <div class=\"colab-df-container\">\n",
              "      <div>\n",
              "<style scoped>\n",
              "    .dataframe tbody tr th:only-of-type {\n",
              "        vertical-align: middle;\n",
              "    }\n",
              "\n",
              "    .dataframe tbody tr th {\n",
              "        vertical-align: top;\n",
              "    }\n",
              "\n",
              "    .dataframe thead th {\n",
              "        text-align: right;\n",
              "    }\n",
              "</style>\n",
              "<table border=\"1\" class=\"dataframe\">\n",
              "  <thead>\n",
              "    <tr style=\"text-align: right;\">\n",
              "      <th></th>\n",
              "      <th>url</th>\n",
              "      <th>timedelta</th>\n",
              "      <th>n_tokens_title</th>\n",
              "      <th>n_tokens_content</th>\n",
              "      <th>n_unique_tokens</th>\n",
              "      <th>n_non_stop_words</th>\n",
              "      <th>n_non_stop_unique_tokens</th>\n",
              "      <th>num_hrefs</th>\n",
              "      <th>num_self_hrefs</th>\n",
              "      <th>num_imgs</th>\n",
              "      <th>...</th>\n",
              "      <th>min_positive_polarity</th>\n",
              "      <th>max_positive_polarity</th>\n",
              "      <th>avg_negative_polarity</th>\n",
              "      <th>min_negative_polarity</th>\n",
              "      <th>max_negative_polarity</th>\n",
              "      <th>title_subjectivity</th>\n",
              "      <th>title_sentiment_polarity</th>\n",
              "      <th>abs_title_subjectivity</th>\n",
              "      <th>abs_title_sentiment_polarity</th>\n",
              "      <th>Popular</th>\n",
              "    </tr>\n",
              "  </thead>\n",
              "  <tbody>\n",
              "    <tr>\n",
              "      <th>0</th>\n",
              "      <td>http://mashable.com/2014/12/10/cia-torture-rep...</td>\n",
              "      <td>28.0</td>\n",
              "      <td>9.0</td>\n",
              "      <td>188.0</td>\n",
              "      <td>0.732620</td>\n",
              "      <td>1.0</td>\n",
              "      <td>0.844262</td>\n",
              "      <td>5.0</td>\n",
              "      <td>1.0</td>\n",
              "      <td>1.0</td>\n",
              "      <td>...</td>\n",
              "      <td>0.200000</td>\n",
              "      <td>0.80</td>\n",
              "      <td>-0.487500</td>\n",
              "      <td>-0.60</td>\n",
              "      <td>-0.250000</td>\n",
              "      <td>0.9</td>\n",
              "      <td>0.8</td>\n",
              "      <td>0.4</td>\n",
              "      <td>0.8</td>\n",
              "      <td>1</td>\n",
              "    </tr>\n",
              "    <tr>\n",
              "      <th>1</th>\n",
              "      <td>http://mashable.com/2013/10/18/bitlock-kicksta...</td>\n",
              "      <td>447.0</td>\n",
              "      <td>7.0</td>\n",
              "      <td>297.0</td>\n",
              "      <td>0.653199</td>\n",
              "      <td>1.0</td>\n",
              "      <td>0.815789</td>\n",
              "      <td>9.0</td>\n",
              "      <td>4.0</td>\n",
              "      <td>1.0</td>\n",
              "      <td>...</td>\n",
              "      <td>0.160000</td>\n",
              "      <td>0.50</td>\n",
              "      <td>-0.135340</td>\n",
              "      <td>-0.40</td>\n",
              "      <td>-0.050000</td>\n",
              "      <td>0.1</td>\n",
              "      <td>-0.1</td>\n",
              "      <td>0.4</td>\n",
              "      <td>0.1</td>\n",
              "      <td>0</td>\n",
              "    </tr>\n",
              "    <tr>\n",
              "      <th>2</th>\n",
              "      <td>http://mashable.com/2013/07/24/google-glass-po...</td>\n",
              "      <td>533.0</td>\n",
              "      <td>11.0</td>\n",
              "      <td>181.0</td>\n",
              "      <td>0.660377</td>\n",
              "      <td>1.0</td>\n",
              "      <td>0.775701</td>\n",
              "      <td>4.0</td>\n",
              "      <td>3.0</td>\n",
              "      <td>1.0</td>\n",
              "      <td>...</td>\n",
              "      <td>0.136364</td>\n",
              "      <td>1.00</td>\n",
              "      <td>0.000000</td>\n",
              "      <td>0.00</td>\n",
              "      <td>0.000000</td>\n",
              "      <td>0.3</td>\n",
              "      <td>1.0</td>\n",
              "      <td>0.2</td>\n",
              "      <td>1.0</td>\n",
              "      <td>0</td>\n",
              "    </tr>\n",
              "    <tr>\n",
              "      <th>3</th>\n",
              "      <td>http://mashable.com/2013/11/21/these-are-the-m...</td>\n",
              "      <td>413.0</td>\n",
              "      <td>12.0</td>\n",
              "      <td>781.0</td>\n",
              "      <td>0.497409</td>\n",
              "      <td>1.0</td>\n",
              "      <td>0.677350</td>\n",
              "      <td>10.0</td>\n",
              "      <td>3.0</td>\n",
              "      <td>1.0</td>\n",
              "      <td>...</td>\n",
              "      <td>0.100000</td>\n",
              "      <td>1.00</td>\n",
              "      <td>-0.195701</td>\n",
              "      <td>-0.40</td>\n",
              "      <td>-0.071429</td>\n",
              "      <td>0.0</td>\n",
              "      <td>0.0</td>\n",
              "      <td>0.5</td>\n",
              "      <td>0.0</td>\n",
              "      <td>0</td>\n",
              "    </tr>\n",
              "    <tr>\n",
              "      <th>4</th>\n",
              "      <td>http://mashable.com/2014/02/11/parking-ticket-...</td>\n",
              "      <td>331.0</td>\n",
              "      <td>8.0</td>\n",
              "      <td>177.0</td>\n",
              "      <td>0.685714</td>\n",
              "      <td>1.0</td>\n",
              "      <td>0.830357</td>\n",
              "      <td>3.0</td>\n",
              "      <td>2.0</td>\n",
              "      <td>1.0</td>\n",
              "      <td>...</td>\n",
              "      <td>0.100000</td>\n",
              "      <td>0.55</td>\n",
              "      <td>-0.175000</td>\n",
              "      <td>-0.25</td>\n",
              "      <td>-0.100000</td>\n",
              "      <td>0.0</td>\n",
              "      <td>0.0</td>\n",
              "      <td>0.5</td>\n",
              "      <td>0.0</td>\n",
              "      <td>0</td>\n",
              "    </tr>\n",
              "  </tbody>\n",
              "</table>\n",
              "<p>5 rows × 61 columns</p>\n",
              "</div>\n",
              "      <button class=\"colab-df-convert\" onclick=\"convertToInteractive('df-da9d452c-abd6-4478-b092-53aac731ccb8')\"\n",
              "              title=\"Convert this dataframe to an interactive table.\"\n",
              "              style=\"display:none;\">\n",
              "        \n",
              "  <svg xmlns=\"http://www.w3.org/2000/svg\" height=\"24px\"viewBox=\"0 0 24 24\"\n",
              "       width=\"24px\">\n",
              "    <path d=\"M0 0h24v24H0V0z\" fill=\"none\"/>\n",
              "    <path d=\"M18.56 5.44l.94 2.06.94-2.06 2.06-.94-2.06-.94-.94-2.06-.94 2.06-2.06.94zm-11 1L8.5 8.5l.94-2.06 2.06-.94-2.06-.94L8.5 2.5l-.94 2.06-2.06.94zm10 10l.94 2.06.94-2.06 2.06-.94-2.06-.94-.94-2.06-.94 2.06-2.06.94z\"/><path d=\"M17.41 7.96l-1.37-1.37c-.4-.4-.92-.59-1.43-.59-.52 0-1.04.2-1.43.59L10.3 9.45l-7.72 7.72c-.78.78-.78 2.05 0 2.83L4 21.41c.39.39.9.59 1.41.59.51 0 1.02-.2 1.41-.59l7.78-7.78 2.81-2.81c.8-.78.8-2.07 0-2.86zM5.41 20L4 18.59l7.72-7.72 1.47 1.35L5.41 20z\"/>\n",
              "  </svg>\n",
              "      </button>\n",
              "      \n",
              "  <style>\n",
              "    .colab-df-container {\n",
              "      display:flex;\n",
              "      flex-wrap:wrap;\n",
              "      gap: 12px;\n",
              "    }\n",
              "\n",
              "    .colab-df-convert {\n",
              "      background-color: #E8F0FE;\n",
              "      border: none;\n",
              "      border-radius: 50%;\n",
              "      cursor: pointer;\n",
              "      display: none;\n",
              "      fill: #1967D2;\n",
              "      height: 32px;\n",
              "      padding: 0 0 0 0;\n",
              "      width: 32px;\n",
              "    }\n",
              "\n",
              "    .colab-df-convert:hover {\n",
              "      background-color: #E2EBFA;\n",
              "      box-shadow: 0px 1px 2px rgba(60, 64, 67, 0.3), 0px 1px 3px 1px rgba(60, 64, 67, 0.15);\n",
              "      fill: #174EA6;\n",
              "    }\n",
              "\n",
              "    [theme=dark] .colab-df-convert {\n",
              "      background-color: #3B4455;\n",
              "      fill: #D2E3FC;\n",
              "    }\n",
              "\n",
              "    [theme=dark] .colab-df-convert:hover {\n",
              "      background-color: #434B5C;\n",
              "      box-shadow: 0px 1px 3px 1px rgba(0, 0, 0, 0.15);\n",
              "      filter: drop-shadow(0px 1px 2px rgba(0, 0, 0, 0.3));\n",
              "      fill: #FFFFFF;\n",
              "    }\n",
              "  </style>\n",
              "\n",
              "      <script>\n",
              "        const buttonEl =\n",
              "          document.querySelector('#df-da9d452c-abd6-4478-b092-53aac731ccb8 button.colab-df-convert');\n",
              "        buttonEl.style.display =\n",
              "          google.colab.kernel.accessAllowed ? 'block' : 'none';\n",
              "\n",
              "        async function convertToInteractive(key) {\n",
              "          const element = document.querySelector('#df-da9d452c-abd6-4478-b092-53aac731ccb8');\n",
              "          const dataTable =\n",
              "            await google.colab.kernel.invokeFunction('convertToInteractive',\n",
              "                                                     [key], {});\n",
              "          if (!dataTable) return;\n",
              "\n",
              "          const docLinkHtml = 'Like what you see? Visit the ' +\n",
              "            '<a target=\"_blank\" href=https://colab.research.google.com/notebooks/data_table.ipynb>data table notebook</a>'\n",
              "            + ' to learn more about interactive tables.';\n",
              "          element.innerHTML = '';\n",
              "          dataTable['output_type'] = 'display_data';\n",
              "          await google.colab.output.renderOutput(dataTable, element);\n",
              "          const docLink = document.createElement('div');\n",
              "          docLink.innerHTML = docLinkHtml;\n",
              "          element.appendChild(docLink);\n",
              "        }\n",
              "      </script>\n",
              "    </div>\n",
              "  </div>\n",
              "  "
            ]
          },
          "metadata": {},
          "execution_count": 121
        }
      ],
      "source": [
        "# Lectura de la información de archivo .csv\n",
        "df = pd.read_csv('https://raw.githubusercontent.com/davidzarruk/MIAD_ML_NLP_2023/main/datasets/mashable.csv', index_col=0)\n",
        "df.head()"
      ]
    },
    {
      "cell_type": "code",
      "source": [
        "df['Popular'] = pd.factorize(df.Popular)[0]\n",
        "df.groupby('Popular').timedelta.mean().plot()"
      ],
      "metadata": {
        "colab": {
          "base_uri": "https://localhost:8080/",
          "height": 467
        },
        "id": "HndiPoA63Q91",
        "outputId": "c0a0896a-8477-4de0-b954-989506e38aa0"
      },
      "execution_count": 143,
      "outputs": [
        {
          "output_type": "execute_result",
          "data": {
            "text/plain": [
              "<Axes: xlabel='Popular'>"
            ]
          },
          "metadata": {},
          "execution_count": 143
        },
        {
          "output_type": "display_data",
          "data": {
            "text/plain": [
              "<Figure size 640x480 with 1 Axes>"
            ],
            "image/png": "[encoded data removed]"
          },
          "metadata": {}
        }
      ]
    },
    {
      "cell_type": "code",
      "execution_count": 144,
      "metadata": {
        "id": "nUiYO6-NjB47",
        "colab": {
          "base_uri": "https://localhost:8080/"
        },
        "outputId": "45512bed-b18d-474a-cd7b-b948c369d7df"
      },
      "outputs": [
        {
          "output_type": "execute_result",
          "data": {
            "text/plain": [
              "count    6000.000000\n",
              "mean        0.500000\n",
              "std         0.500042\n",
              "min         0.000000\n",
              "25%         0.000000\n",
              "50%         0.500000\n",
              "75%         1.000000\n",
              "max         1.000000\n",
              "Name: Popular, dtype: float64"
            ]
          },
          "metadata": {},
          "execution_count": 144
        }
      ],
      "source": [
        "# Definición variable de interes y variables predictoras\n",
        "X = df.drop(['url', 'Popular'], axis=1)\n",
        "y = df['Popular']\n",
        "y.describe()"
      ]
    },
    {
      "cell_type": "code",
      "execution_count": 156,
      "metadata": {
        "id": "p4VFSI4ujB48"
      },
      "outputs": [],
      "source": [
        "# División de la muestra en set de entrenamiento y prueba\n",
        "from sklearn.model_selection import train_test_split\n",
        "from sklearn.preprocessing import StandardScaler\n",
        "from sklearn.metrics import confusion_matrix\n",
        "XTrain, XTest, yTrain, yTest = train_test_split(X, y, test_size=0.33, random_state=0)\n",
        "scalar = StandardScaler()\n",
        "XTrain = scalar.fit_transform(XTrain)\n",
        "XTest = scalar.fit_transform(XTest)\n",
        "\n"
      ]
    },
    {
      "cell_type": "markdown",
      "metadata": {
        "id": "YnFbjhcojB48"
      },
      "source": [
        "### Punto 6 - Árbol de decisión y regresión logística\n",
        "En la celda 6 construya un árbol de decisión y una regresión logística. Para el árbol calibre al menos un parámetro y evalúe el desempeño de cada modelo usando las métricas de Accuracy y F1-Score."
      ]
    },
    {
      "cell_type": "code",
      "execution_count": 168,
      "metadata": {
        "id": "100qENI_jB48",
        "colab": {
          "base_uri": "https://localhost:8080/"
        },
        "outputId": "aeb333fa-3b81-478a-b462-912bc38b0586"
      },
      "outputs": [
        {
          "output_type": "stream",
          "name": "stdout",
          "text": [
            "[0 0 1 ... 0 1 0]\n",
            "[[617 376]\n",
            " [343 644]]\n"
          ]
        }
      ],
      "source": [
        "# Celda 6\n",
        "\n",
        "#regresion logistica \n",
        "clfRegLog= LogisticRegression(random_state=0,max_iter=10000)\n",
        "clfRegLog.fit(XTrain,yTrain)\n",
        "prediccionesRegLog=clfRegLog.predict(XTest)\n",
        "\n",
        "print(prediccionesRegLog)\n",
        "\n",
        "matriz= confusion_matrix(yTest,prediccionesRegLog)\n",
        "print(matriz)\n"
      ]
    },
    {
      "cell_type": "code",
      "source": [
        "#metricas\n",
        "from sklearn.metrics import precision_score\n",
        "from sklearn.metrics import accuracy_score\n",
        "from sklearn.metrics import recall_score\n",
        "from sklearn.metrics import f1_score\n",
        " \n",
        "precision = precision_score(yTest, prediccionesRegLog) \n",
        "accuracy = accuracy_score(yTest, prediccionesRegLog) \n",
        "recall= recall_score(y_true=yTest, y_pred=prediccionesRegLog)\n",
        "f1 = f1_score(yTest, prediccionesRegLog) \n",
        "print('precision:', precision)\n",
        "print('accuracy:', accuracy)\n",
        "print('recall:', recall)\n",
        "print('f1:', f1)\n",
        "#auc = roc_auc_score(yTest, prediccionesRegLog[:,1])"
      ],
      "metadata": {
        "colab": {
          "base_uri": "https://localhost:8080/"
        },
        "id": "EerVWN-Ro4p4",
        "outputId": "2c02ab2e-e02b-43e2-8c0e-5e1a6de48967"
      },
      "execution_count": 171,
      "outputs": [
        {
          "output_type": "stream",
          "name": "stdout",
          "text": [
            "precision: 0.6313725490196078\n",
            "accuracy: 0.6368686868686869\n",
            "recall: 0.6524822695035462\n",
            "f1: 0.6417538614848032\n"
          ]
        }
      ]
    },
    {
      "cell_type": "markdown",
      "source": [
        "Arbol de decision clasificacion\n"
      ],
      "metadata": {
        "id": "mnO1UCjW8p9k"
      }
    },
    {
      "cell_type": "code",
      "source": [
        "clfTree = DecisionTreeClassifier(max_depth=3)\n",
        "clfTree.fit(XTrain, yTrain)\n",
        "plot_tree(clfTree)\n",
        "plt.show()"
      ],
      "metadata": {
        "colab": {
          "base_uri": "https://localhost:8080/",
          "height": 406
        },
        "outputId": "dec0ca29-ed5d-420c-b3a0-a94c7ef34d08",
        "id": "yx40Fmur9EWX"
      },
      "execution_count": 173,
      "outputs": [
        {
          "output_type": "display_data",
          "data": {
            "text/plain": [
              "<Figure size 640x480 with 1 Axes>"
            ],
            "image/png": "[encoded data removed]"
          },
          "metadata": {}
        }
      ]
    },
    {
      "cell_type": "code",
      "source": [
        "prediccionTree=clfTree.predict(XTest)\n",
        "print(prediccionTree)\n",
        "\n",
        "precision = precision_score(yTest, prediccionTree) \n",
        "accuracy = accuracy_score(yTest, prediccionTree) \n",
        "recall= recall_score(y_true=yTest, y_pred=prediccionTree)\n",
        "f1 = f1_score(yTest, prediccionTree) \n",
        "print('precision arbol:', precision)\n",
        "print('accuracy arbol:', accuracy)\n",
        "print('recall arbol:', recall)\n",
        "print('f1 arbol:', f1)\n"
      ],
      "metadata": {
        "colab": {
          "base_uri": "https://localhost:8080/"
        },
        "outputId": "78a8fb86-3b3b-453f-e772-925be7f99cf6",
        "id": "zNWVhATK9EWY"
      },
      "execution_count": 175,
      "outputs": [
        {
          "output_type": "stream",
          "name": "stdout",
          "text": [
            "[1 1 0 ... 0 1 1]\n",
            "precision arbol: 0.6548165137614679\n",
            "accuracy arbol: 0.6378787878787879\n",
            "recall arbol: 0.5785207700101317\n",
            "f1 arbol: 0.614308768154922\n"
          ]
        }
      ]
    },
    {
      "cell_type": "code",
      "execution_count": null,
      "metadata": {
        "colab": {
          "base_uri": "https://localhost:8080/",
          "height": 74
        },
        "outputId": "d7278a65-d457-4f1b-b526-f97abbe37374",
        "id": "PuJwGJC89EWY"
      },
      "outputs": [
        {
          "output_type": "execute_result",
          "data": {
            "text/plain": [
              "DecisionTreeRegressor(max_depth=6, random_state=1)"
            ],
            "text/html": [
              "<style>#sk-container-id-2 {color: black;background-color: white;}#sk-container-id-2 pre{padding: 0;}#sk-container-id-2 div.sk-toggleable {background-color: white;}#sk-container-id-2 label.sk-toggleable__label {cursor: pointer;display: block;width: 100%;margin-bottom: 0;padding: 0.3em;box-sizing: border-box;text-align: center;}#sk-container-id-2 label.sk-toggleable__label-arrow:before {content: \"▸\";float: left;margin-right: 0.25em;color: #696969;}#sk-container-id-2 label.sk-toggleable__label-arrow:hover:before {color: black;}#sk-container-id-2 div.sk-estimator:hover label.sk-toggleable__label-arrow:before {color: black;}#sk-container-id-2 div.sk-toggleable__content {max-height: 0;max-width: 0;overflow: hidden;text-align: left;background-color: #f0f8ff;}#sk-container-id-2 div.sk-toggleable__content pre {margin: 0.2em;color: black;border-radius: 0.25em;background-color: #f0f8ff;}#sk-container-id-2 input.sk-toggleable__control:checked~div.sk-toggleable__content {max-height: 200px;max-width: 100%;overflow: auto;}#sk-container-id-2 input.sk-toggleable__control:checked~label.sk-toggleable__label-arrow:before {content: \"▾\";}#sk-container-id-2 div.sk-estimator input.sk-toggleable__control:checked~label.sk-toggleable__label {background-color: #d4ebff;}#sk-container-id-2 div.sk-label input.sk-toggleable__control:checked~label.sk-toggleable__label {background-color: #d4ebff;}#sk-container-id-2 input.sk-hidden--visually {border: 0;clip: rect(1px 1px 1px 1px);clip: rect(1px, 1px, 1px, 1px);height: 1px;margin: -1px;overflow: hidden;padding: 0;position: absolute;width: 1px;}#sk-container-id-2 div.sk-estimator {font-family: monospace;background-color: #f0f8ff;border: 1px dotted black;border-radius: 0.25em;box-sizing: border-box;margin-bottom: 0.5em;}#sk-container-id-2 div.sk-estimator:hover {background-color: #d4ebff;}#sk-container-id-2 div.sk-parallel-item::after {content: \"\";width: 100%;border-bottom: 1px solid gray;flex-grow: 1;}#sk-container-id-2 div.sk-label:hover label.sk-toggleable__label {background-color: #d4ebff;}#sk-container-id-2 div.sk-serial::before {content: \"\";position: absolute;border-left: 1px solid gray;box-sizing: border-box;top: 0;bottom: 0;left: 50%;z-index: 0;}#sk-container-id-2 div.sk-serial {display: flex;flex-direction: column;align-items: center;background-color: white;padding-right: 0.2em;padding-left: 0.2em;position: relative;}#sk-container-id-2 div.sk-item {position: relative;z-index: 1;}#sk-container-id-2 div.sk-parallel {display: flex;align-items: stretch;justify-content: center;background-color: white;position: relative;}#sk-container-id-2 div.sk-item::before, #sk-container-id-2 div.sk-parallel-item::before {content: \"\";position: absolute;border-left: 1px solid gray;box-sizing: border-box;top: 0;bottom: 0;left: 50%;z-index: -1;}#sk-container-id-2 div.sk-parallel-item {display: flex;flex-direction: column;z-index: 1;position: relative;background-color: white;}#sk-container-id-2 div.sk-parallel-item:first-child::after {align-self: flex-end;width: 50%;}#sk-container-id-2 div.sk-parallel-item:last-child::after {align-self: flex-start;width: 50%;}#sk-container-id-2 div.sk-parallel-item:only-child::after {width: 0;}#sk-container-id-2 div.sk-dashed-wrapped {border: 1px dashed gray;margin: 0 0.4em 0.5em 0.4em;box-sizing: border-box;padding-bottom: 0.4em;background-color: white;}#sk-container-id-2 div.sk-label label {font-family: monospace;font-weight: bold;display: inline-block;line-height: 1.2em;}#sk-container-id-2 div.sk-label-container {text-align: center;}#sk-container-id-2 div.sk-container {/* jupyter's `normalize.less` sets `[hidden] { display: none; }` but bootstrap.min.css set `[hidden] { display: none !important; }` so we also need the `!important` here to be able to override the default hidden behavior on the sphinx rendered scikit-learn.org. See: https://github.com/scikit-learn/scikit-learn/issues/21755 */display: inline-block !important;position: relative;}#sk-container-id-2 div.sk-text-repr-fallback {display: none;}</style><div id=\"sk-container-id-2\" class=\"sk-top-container\"><div class=\"sk-text-repr-fallback\"><pre>DecisionTreeRegressor(max_depth=6, random_state=1)</pre><b>In a Jupyter environment, please rerun this cell to show the HTML representation or trust the notebook. <br />On GitHub, the HTML representation is unable to render, please try loading this page with nbviewer.org.</b></div><div class=\"sk-container\" hidden><div class=\"sk-item\"><div class=\"sk-estimator sk-toggleable\"><input class=\"sk-toggleable__control sk-hidden--visually\" id=\"sk-estimator-id-2\" type=\"checkbox\" checked><label for=\"sk-estimator-id-2\" class=\"sk-toggleable__label sk-toggleable__label-arrow\">DecisionTreeRegressor</label><div class=\"sk-toggleable__content\"><pre>DecisionTreeRegressor(max_depth=6, random_state=1)</pre></div></div></div></div></div>"
            ]
          },
          "metadata": {},
          "execution_count": 120
        }
      ],
      "source": [
        "# max_depth=4 fue el mejor, se ajusta un árbol usando este valor \n",
        "clf = DecisionTreeClassifier(max_depth=6, random_state=1)\n",
        "clf.fit(XTrain, yTrain)"
      ]
    },
    {
      "cell_type": "markdown",
      "source": [
        "De acuerdo al desempeño de ambos modelos F1 para regresion fue del 0.64 y del arbol de 0.61 por lo que presenta mejor desempeño de clasificación regresion logistica. "
      ],
      "metadata": {
        "id": "NbIF-zm2-QHd"
      }
    },
    {
      "cell_type": "markdown",
      "metadata": {
        "id": "6dsRZEFjjB48"
      },
      "source": [
        "### Punto 7 - Votación Mayoritaria\n",
        "En la celda 7 elabore un esamble con la metodología de **Votación mayoritaria** compuesto por 300 muestras bagged para cada uno de los siguientes escenarios:\n",
        "\n",
        "-100 árboles de decisión donde max_depth tome un valor de su elección\\\n",
        "-100 árboles de decisión donde min_samples_leaf tome un valor de su elección\\\n",
        "-100 regresiones logísticas\n",
        "\n",
        "Evalúe cada uno de los tres modelos de manera independiente utilizando las métricas de Accuracy y F1-Score, luego evalúe el ensamble de modelos y compare los resultados. "
      ]
    },
    {
      "cell_type": "code",
      "execution_count": 182,
      "metadata": {
        "id": "tZXw7-2ojB49"
      },
      "outputs": [],
      "source": [
        "# Celda 7\n",
        "from sklearn.linear_model import LinearRegression\n",
        "from sklearn.tree import DecisionTreeRegressor\n",
        "from sklearn.naive_bayes import GaussianNB\n",
        "from sklearn.neighbors import KNeighborsRegressor\n",
        "\n",
        "# Definición de 4 modelos diferentes: regresión logística, árbol de decisión,Navie Bayes y k vecinos más cercanos\n",
        "models = {'Arbol_clas': DecisionTreeClassifier(),\n",
        "          'lr': LogisticRegression(),\n",
        "          \"Bagging\": BaggingClassifier(n_estimators=10, random_state=0)}"
      ]
    },
    {
      "cell_type": "code",
      "execution_count": 211,
      "metadata": {
        "id": "_wwSquH2okoS"
      },
      "outputs": [],
      "source": [
        "# Separación de variables predictoras (X) y variable de interés (y) en set de entrenamiento y test\n",
        "X = df.drop(['url', 'Popular'], axis=1)\n",
        "y = df['Popular']\n",
        "XTrain, XTest, yTrain, yTest = train_test_split(X, y, test_size=0.33, random_state=0)\n",
        "scalar = StandardScaler()\n",
        "XTrain = scalar.fit_transform(XTrain)\n",
        "XTest = scalar.fit_transform(XTest)\n",
        "\n",
        "# Entrenamiento (fit) de cada modelo\n",
        "for model in models.keys():\n",
        "    models[model].fit(XTrain, yTrain)"
      ]
    },
    {
      "cell_type": "code",
      "execution_count": 216,
      "metadata": {
        "id": "mOpbWNf-okoS"
      },
      "outputs": [],
      "source": [
        "# Predicción de las observaciones del set de test para cada modelo\n",
        "y_pred = pd.DataFrame( columns=models.keys())\n",
        "for model in models.keys():\n",
        "    y_pred[model] = models[model].predict(XTest)"
      ]
    },
    {
      "cell_type": "code",
      "execution_count": 217,
      "metadata": {
        "id": "CSyZWIr7okoT",
        "outputId": "4f87a9fa-e6a0-4d96-bde2-9757a1ba697c",
        "colab": {
          "base_uri": "https://localhost:8080/"
        }
      },
      "outputs": [
        {
          "output_type": "stream",
          "name": "stdout",
          "text": [
            "Arbol_clas 0.669312929786806\n",
            "lr 0.6026037778933294\n",
            "Bagging 0.6403912945231299\n"
          ]
        }
      ],
      "source": [
        "# Evaluación del error de cada modelo\n",
        "from sklearn.metrics import mean_squared_error\n",
        "\n",
        "for model in models.keys():\n",
        "    print(model,np.sqrt(mean_squared_error(y_pred[model], yTest)))"
      ]
    },
    {
      "cell_type": "markdown",
      "source": [
        "votacion mayoritaria\n"
      ],
      "metadata": {
        "id": "KstRtGEKArtS"
      }
    },
    {
      "cell_type": "code",
      "execution_count": 218,
      "metadata": {
        "id": "CjxgVCetokoX",
        "outputId": "df65b020-e926-4125-a2bb-6b8d00cac784",
        "colab": {
          "base_uri": "https://localhost:8080/",
          "height": 112
        }
      },
      "outputs": [
        {
          "output_type": "execute_result",
          "data": {
            "text/plain": [
              "   count  percentage\n",
              "0   3000         0.5\n",
              "1   3000         0.5"
            ],
            "text/html": [
              "\n",
              "  <div id=\"df-f13eb655-eb1b-447e-8e17-38a24cd28531\">\n",
              "    <div class=\"colab-df-container\">\n",
              "      <div>\n",
              "<style scoped>\n",
              "    .dataframe tbody tr th:only-of-type {\n",
              "        vertical-align: middle;\n",
              "    }\n",
              "\n",
              "    .dataframe tbody tr th {\n",
              "        vertical-align: top;\n",
              "    }\n",
              "\n",
              "    .dataframe thead th {\n",
              "        text-align: right;\n",
              "    }\n",
              "</style>\n",
              "<table border=\"1\" class=\"dataframe\">\n",
              "  <thead>\n",
              "    <tr style=\"text-align: right;\">\n",
              "      <th></th>\n",
              "      <th>count</th>\n",
              "      <th>percentage</th>\n",
              "    </tr>\n",
              "  </thead>\n",
              "  <tbody>\n",
              "    <tr>\n",
              "      <th>0</th>\n",
              "      <td>3000</td>\n",
              "      <td>0.5</td>\n",
              "    </tr>\n",
              "    <tr>\n",
              "      <th>1</th>\n",
              "      <td>3000</td>\n",
              "      <td>0.5</td>\n",
              "    </tr>\n",
              "  </tbody>\n",
              "</table>\n",
              "</div>\n",
              "      <button class=\"colab-df-convert\" onclick=\"convertToInteractive('df-f13eb655-eb1b-447e-8e17-38a24cd28531')\"\n",
              "              title=\"Convert this dataframe to an interactive table.\"\n",
              "              style=\"display:none;\">\n",
              "        \n",
              "  <svg xmlns=\"http://www.w3.org/2000/svg\" height=\"24px\"viewBox=\"0 0 24 24\"\n",
              "       width=\"24px\">\n",
              "    <path d=\"M0 0h24v24H0V0z\" fill=\"none\"/>\n",
              "    <path d=\"M18.56 5.44l.94 2.06.94-2.06 2.06-.94-2.06-.94-.94-2.06-.94 2.06-2.06.94zm-11 1L8.5 8.5l.94-2.06 2.06-.94-2.06-.94L8.5 2.5l-.94 2.06-2.06.94zm10 10l.94 2.06.94-2.06 2.06-.94-2.06-.94-.94-2.06-.94 2.06-2.06.94z\"/><path d=\"M17.41 7.96l-1.37-1.37c-.4-.4-.92-.59-1.43-.59-.52 0-1.04.2-1.43.59L10.3 9.45l-7.72 7.72c-.78.78-.78 2.05 0 2.83L4 21.41c.39.39.9.59 1.41.59.51 0 1.02-.2 1.41-.59l7.78-7.78 2.81-2.81c.8-.78.8-2.07 0-2.86zM5.41 20L4 18.59l7.72-7.72 1.47 1.35L5.41 20z\"/>\n",
              "  </svg>\n",
              "      </button>\n",
              "      \n",
              "  <style>\n",
              "    .colab-df-container {\n",
              "      display:flex;\n",
              "      flex-wrap:wrap;\n",
              "      gap: 12px;\n",
              "    }\n",
              "\n",
              "    .colab-df-convert {\n",
              "      background-color: #E8F0FE;\n",
              "      border: none;\n",
              "      border-radius: 50%;\n",
              "      cursor: pointer;\n",
              "      display: none;\n",
              "      fill: #1967D2;\n",
              "      height: 32px;\n",
              "      padding: 0 0 0 0;\n",
              "      width: 32px;\n",
              "    }\n",
              "\n",
              "    .colab-df-convert:hover {\n",
              "      background-color: #E2EBFA;\n",
              "      box-shadow: 0px 1px 2px rgba(60, 64, 67, 0.3), 0px 1px 3px 1px rgba(60, 64, 67, 0.15);\n",
              "      fill: #174EA6;\n",
              "    }\n",
              "\n",
              "    [theme=dark] .colab-df-convert {\n",
              "      background-color: #3B4455;\n",
              "      fill: #D2E3FC;\n",
              "    }\n",
              "\n",
              "    [theme=dark] .colab-df-convert:hover {\n",
              "      background-color: #434B5C;\n",
              "      box-shadow: 0px 1px 3px 1px rgba(0, 0, 0, 0.15);\n",
              "      filter: drop-shadow(0px 1px 2px rgba(0, 0, 0, 0.3));\n",
              "      fill: #FFFFFF;\n",
              "    }\n",
              "  </style>\n",
              "\n",
              "      <script>\n",
              "        const buttonEl =\n",
              "          document.querySelector('#df-f13eb655-eb1b-447e-8e17-38a24cd28531 button.colab-df-convert');\n",
              "        buttonEl.style.display =\n",
              "          google.colab.kernel.accessAllowed ? 'block' : 'none';\n",
              "\n",
              "        async function convertToInteractive(key) {\n",
              "          const element = document.querySelector('#df-f13eb655-eb1b-447e-8e17-38a24cd28531');\n",
              "          const dataTable =\n",
              "            await google.colab.kernel.invokeFunction('convertToInteractive',\n",
              "                                                     [key], {});\n",
              "          if (!dataTable) return;\n",
              "\n",
              "          const docLinkHtml = 'Like what you see? Visit the ' +\n",
              "            '<a target=\"_blank\" href=https://colab.research.google.com/notebooks/data_table.ipynb>data table notebook</a>'\n",
              "            + ' to learn more about interactive tables.';\n",
              "          element.innerHTML = '';\n",
              "          dataTable['output_type'] = 'display_data';\n",
              "          await google.colab.output.renderOutput(dataTable, element);\n",
              "          const docLink = document.createElement('div');\n",
              "          docLink.innerHTML = docLinkHtml;\n",
              "          element.appendChild(docLink);\n",
              "        }\n",
              "      </script>\n",
              "    </div>\n",
              "  </div>\n",
              "  "
            ]
          },
          "metadata": {},
          "execution_count": 218
        }
      ],
      "source": [
        "# Proporciones de las diferentes clases de variable de interés (y)\n",
        "y.value_counts().to_frame('count').assign(percentage = lambda x: x/x.sum())"
      ]
    },
    {
      "cell_type": "code",
      "execution_count": 219,
      "metadata": {
        "id": "OoswzEFLokoX"
      },
      "outputs": [],
      "source": [
        "#  Separación de variables predictoras (X) y variable de interés (y) en set de entrenamiento y test\n",
        "from sklearn.model_selection import train_test_split\n",
        "X_train, X_test, y_train, y_test = train_test_split(X, y, test_size=0.33, random_state=42)"
      ]
    },
    {
      "cell_type": "code",
      "execution_count": 226,
      "metadata": {
        "id": "0g3Xkw5AokoX"
      },
      "outputs": [],
      "source": [
        "# Creación de 100 muestras de bootstrap\n",
        "n_estimators = 100\n",
        "np.random.seed(123)\n",
        "\n",
        "n_samples = X_train.shape[0]\n",
        "samples = [np.random.choice(a=n_samples, size=n_samples, replace=True) for _ in range(n_estimators)]"
      ]
    },
    {
      "cell_type": "markdown",
      "source": [
        "arbol de decision"
      ],
      "metadata": {
        "id": "huP-bFs0VFoT"
      }
    },
    {
      "cell_type": "code",
      "execution_count": 241,
      "metadata": {
        "id": "6TGJaxWGokoX"
      },
      "outputs": [],
      "source": [
        "# Entrenamiento de 100 modelos con las 100 muestras boostrap\n",
        "\n",
        "from sklearn.tree import DecisionTreeClassifier\n",
        "\n",
        "np.random.seed(123) \n",
        "seeds = np.random.randint(1, 10000, size=n_estimators)\n",
        "\n",
        "trees = {}\n",
        "for i in range(n_estimators):\n",
        "    trees[i] = DecisionTreeClassifier(max_features=\"sqrt\", max_depth=100, random_state=seeds[i])\n",
        "    trees[i].fit(X_train.iloc[samples[i]], y_train.iloc[samples[i]])"
      ]
    },
    {
      "cell_type": "code",
      "execution_count": 242,
      "metadata": {
        "outputId": "3c718f72-544d-4cf1-fab7-eb4bfe83e624",
        "colab": {
          "base_uri": "https://localhost:8080/",
          "height": 235
        },
        "id": "IE2JL0dLWVLe"
      },
      "outputs": [
        {
          "output_type": "execute_result",
          "data": {
            "text/plain": [
              "      0   1   2   3   4   5   6   7   8   9   ...  90  91  92  93  94  95  96  \\\n",
              "1782   0   0   0   0   1   0   0   0   0   0  ...   0   0   1   0   1   1   1   \n",
              "3917   1   0   1   1   1   0   0   1   1   0  ...   0   1   0   1   1   0   1   \n",
              "221    0   0   1   1   0   1   1   0   1   1  ...   1   0   1   1   1   1   0   \n",
              "2135   1   1   1   1   1   1   0   1   1   0  ...   1   1   0   1   1   0   1   \n",
              "5224   0   1   0   0   1   1   0   1   0   1  ...   0   1   1   1   0   1   1   \n",
              "\n",
              "      97  98  99  \n",
              "1782   0   0   1  \n",
              "3917   1   1   0  \n",
              "221    1   0   0  \n",
              "2135   1   1   1  \n",
              "5224   1   1   0  \n",
              "\n",
              "[5 rows x 100 columns]"
            ],
            "text/html": [
              "\n",
              "  <div id=\"df-79965e29-6957-4614-8042-24318f551a20\">\n",
              "    <div class=\"colab-df-container\">\n",
              "      <div>\n",
              "<style scoped>\n",
              "    .dataframe tbody tr th:only-of-type {\n",
              "        vertical-align: middle;\n",
              "    }\n",
              "\n",
              "    .dataframe tbody tr th {\n",
              "        vertical-align: top;\n",
              "    }\n",
              "\n",
              "    .dataframe thead th {\n",
              "        text-align: right;\n",
              "    }\n",
              "</style>\n",
              "<table border=\"1\" class=\"dataframe\">\n",
              "  <thead>\n",
              "    <tr style=\"text-align: right;\">\n",
              "      <th></th>\n",
              "      <th>0</th>\n",
              "      <th>1</th>\n",
              "      <th>2</th>\n",
              "      <th>3</th>\n",
              "      <th>4</th>\n",
              "      <th>5</th>\n",
              "      <th>6</th>\n",
              "      <th>7</th>\n",
              "      <th>8</th>\n",
              "      <th>9</th>\n",
              "      <th>...</th>\n",
              "      <th>90</th>\n",
              "      <th>91</th>\n",
              "      <th>92</th>\n",
              "      <th>93</th>\n",
              "      <th>94</th>\n",
              "      <th>95</th>\n",
              "      <th>96</th>\n",
              "      <th>97</th>\n",
              "      <th>98</th>\n",
              "      <th>99</th>\n",
              "    </tr>\n",
              "  </thead>\n",
              "  <tbody>\n",
              "    <tr>\n",
              "      <th>1782</th>\n",
              "      <td>0</td>\n",
              "      <td>0</td>\n",
              "      <td>0</td>\n",
              "      <td>0</td>\n",
              "      <td>1</td>\n",
              "      <td>0</td>\n",
              "      <td>0</td>\n",
              "      <td>0</td>\n",
              "      <td>0</td>\n",
              "      <td>0</td>\n",
              "      <td>...</td>\n",
              "      <td>0</td>\n",
              "      <td>0</td>\n",
              "      <td>1</td>\n",
              "      <td>0</td>\n",
              "      <td>1</td>\n",
              "      <td>1</td>\n",
              "      <td>1</td>\n",
              "      <td>0</td>\n",
              "      <td>0</td>\n",
              "      <td>1</td>\n",
              "    </tr>\n",
              "    <tr>\n",
              "      <th>3917</th>\n",
              "      <td>1</td>\n",
              "      <td>0</td>\n",
              "      <td>1</td>\n",
              "      <td>1</td>\n",
              "      <td>1</td>\n",
              "      <td>0</td>\n",
              "      <td>0</td>\n",
              "      <td>1</td>\n",
              "      <td>1</td>\n",
              "      <td>0</td>\n",
              "      <td>...</td>\n",
              "      <td>0</td>\n",
              "      <td>1</td>\n",
              "      <td>0</td>\n",
              "      <td>1</td>\n",
              "      <td>1</td>\n",
              "      <td>0</td>\n",
              "      <td>1</td>\n",
              "      <td>1</td>\n",
              "      <td>1</td>\n",
              "      <td>0</td>\n",
              "    </tr>\n",
              "    <tr>\n",
              "      <th>221</th>\n",
              "      <td>0</td>\n",
              "      <td>0</td>\n",
              "      <td>1</td>\n",
              "      <td>1</td>\n",
              "      <td>0</td>\n",
              "      <td>1</td>\n",
              "      <td>1</td>\n",
              "      <td>0</td>\n",
              "      <td>1</td>\n",
              "      <td>1</td>\n",
              "      <td>...</td>\n",
              "      <td>1</td>\n",
              "      <td>0</td>\n",
              "      <td>1</td>\n",
              "      <td>1</td>\n",
              "      <td>1</td>\n",
              "      <td>1</td>\n",
              "      <td>0</td>\n",
              "      <td>1</td>\n",
              "      <td>0</td>\n",
              "      <td>0</td>\n",
              "    </tr>\n",
              "    <tr>\n",
              "      <th>2135</th>\n",
              "      <td>1</td>\n",
              "      <td>1</td>\n",
              "      <td>1</td>\n",
              "      <td>1</td>\n",
              "      <td>1</td>\n",
              "      <td>1</td>\n",
              "      <td>0</td>\n",
              "      <td>1</td>\n",
              "      <td>1</td>\n",
              "      <td>0</td>\n",
              "      <td>...</td>\n",
              "      <td>1</td>\n",
              "      <td>1</td>\n",
              "      <td>0</td>\n",
              "      <td>1</td>\n",
              "      <td>1</td>\n",
              "      <td>0</td>\n",
              "      <td>1</td>\n",
              "      <td>1</td>\n",
              "      <td>1</td>\n",
              "      <td>1</td>\n",
              "    </tr>\n",
              "    <tr>\n",
              "      <th>5224</th>\n",
              "      <td>0</td>\n",
              "      <td>1</td>\n",
              "      <td>0</td>\n",
              "      <td>0</td>\n",
              "      <td>1</td>\n",
              "      <td>1</td>\n",
              "      <td>0</td>\n",
              "      <td>1</td>\n",
              "      <td>0</td>\n",
              "      <td>1</td>\n",
              "      <td>...</td>\n",
              "      <td>0</td>\n",
              "      <td>1</td>\n",
              "      <td>1</td>\n",
              "      <td>1</td>\n",
              "      <td>0</td>\n",
              "      <td>1</td>\n",
              "      <td>1</td>\n",
              "      <td>1</td>\n",
              "      <td>1</td>\n",
              "      <td>0</td>\n",
              "    </tr>\n",
              "  </tbody>\n",
              "</table>\n",
              "<p>5 rows × 100 columns</p>\n",
              "</div>\n",
              "      <button class=\"colab-df-convert\" onclick=\"convertToInteractive('df-79965e29-6957-4614-8042-24318f551a20')\"\n",
              "              title=\"Convert this dataframe to an interactive table.\"\n",
              "              style=\"display:none;\">\n",
              "        \n",
              "  <svg xmlns=\"http://www.w3.org/2000/svg\" height=\"24px\"viewBox=\"0 0 24 24\"\n",
              "       width=\"24px\">\n",
              "    <path d=\"M0 0h24v24H0V0z\" fill=\"none\"/>\n",
              "    <path d=\"M18.56 5.44l.94 2.06.94-2.06 2.06-.94-2.06-.94-.94-2.06-.94 2.06-2.06.94zm-11 1L8.5 8.5l.94-2.06 2.06-.94-2.06-.94L8.5 2.5l-.94 2.06-2.06.94zm10 10l.94 2.06.94-2.06 2.06-.94-2.06-.94-.94-2.06-.94 2.06-2.06.94z\"/><path d=\"M17.41 7.96l-1.37-1.37c-.4-.4-.92-.59-1.43-.59-.52 0-1.04.2-1.43.59L10.3 9.45l-7.72 7.72c-.78.78-.78 2.05 0 2.83L4 21.41c.39.39.9.59 1.41.59.51 0 1.02-.2 1.41-.59l7.78-7.78 2.81-2.81c.8-.78.8-2.07 0-2.86zM5.41 20L4 18.59l7.72-7.72 1.47 1.35L5.41 20z\"/>\n",
              "  </svg>\n",
              "      </button>\n",
              "      \n",
              "  <style>\n",
              "    .colab-df-container {\n",
              "      display:flex;\n",
              "      flex-wrap:wrap;\n",
              "      gap: 12px;\n",
              "    }\n",
              "\n",
              "    .colab-df-convert {\n",
              "      background-color: #E8F0FE;\n",
              "      border: none;\n",
              "      border-radius: 50%;\n",
              "      cursor: pointer;\n",
              "      display: none;\n",
              "      fill: #1967D2;\n",
              "      height: 32px;\n",
              "      padding: 0 0 0 0;\n",
              "      width: 32px;\n",
              "    }\n",
              "\n",
              "    .colab-df-convert:hover {\n",
              "      background-color: #E2EBFA;\n",
              "      box-shadow: 0px 1px 2px rgba(60, 64, 67, 0.3), 0px 1px 3px 1px rgba(60, 64, 67, 0.15);\n",
              "      fill: #174EA6;\n",
              "    }\n",
              "\n",
              "    [theme=dark] .colab-df-convert {\n",
              "      background-color: #3B4455;\n",
              "      fill: #D2E3FC;\n",
              "    }\n",
              "\n",
              "    [theme=dark] .colab-df-convert:hover {\n",
              "      background-color: #434B5C;\n",
              "      box-shadow: 0px 1px 3px 1px rgba(0, 0, 0, 0.15);\n",
              "      filter: drop-shadow(0px 1px 2px rgba(0, 0, 0, 0.3));\n",
              "      fill: #FFFFFF;\n",
              "    }\n",
              "  </style>\n",
              "\n",
              "      <script>\n",
              "        const buttonEl =\n",
              "          document.querySelector('#df-79965e29-6957-4614-8042-24318f551a20 button.colab-df-convert');\n",
              "        buttonEl.style.display =\n",
              "          google.colab.kernel.accessAllowed ? 'block' : 'none';\n",
              "\n",
              "        async function convertToInteractive(key) {\n",
              "          const element = document.querySelector('#df-79965e29-6957-4614-8042-24318f551a20');\n",
              "          const dataTable =\n",
              "            await google.colab.kernel.invokeFunction('convertToInteractive',\n",
              "                                                     [key], {});\n",
              "          if (!dataTable) return;\n",
              "\n",
              "          const docLinkHtml = 'Like what you see? Visit the ' +\n",
              "            '<a target=\"_blank\" href=https://colab.research.google.com/notebooks/data_table.ipynb>data table notebook</a>'\n",
              "            + ' to learn more about interactive tables.';\n",
              "          element.innerHTML = '';\n",
              "          dataTable['output_type'] = 'display_data';\n",
              "          await google.colab.output.renderOutput(dataTable, element);\n",
              "          const docLink = document.createElement('div');\n",
              "          docLink.innerHTML = docLinkHtml;\n",
              "          element.appendChild(docLink);\n",
              "        }\n",
              "      </script>\n",
              "    </div>\n",
              "  </div>\n",
              "  "
            ]
          },
          "metadata": {},
          "execution_count": 242
        }
      ],
      "source": [
        "# Predicción para los datos del set de test con cada modelo\n",
        "y_pred_df = pd.DataFrame(index=X_test.index, columns=list(range(n_estimators)))\n",
        "for i in range(n_estimators):\n",
        "    y_pred_df.iloc[:, i] = trees[i].predict(X_test)\n",
        "\n",
        "y_pred_df.head()"
      ]
    },
    {
      "cell_type": "code",
      "execution_count": 243,
      "metadata": {
        "outputId": "30cd8422-9731-486a-8cca-d76c80809d55",
        "colab": {
          "base_uri": "https://localhost:8080/"
        },
        "id": "kbmXwsAEWVLf"
      },
      "outputs": [
        {
          "output_type": "execute_result",
          "data": {
            "text/plain": [
              "1782    38\n",
              "3917    55\n",
              "221     56\n",
              "2135    78\n",
              "5224    73\n",
              "        ..\n",
              "4103    53\n",
              "1580    26\n",
              "1310    41\n",
              "625     51\n",
              "23      62\n",
              "Length: 100, dtype: int64"
            ]
          },
          "metadata": {},
          "execution_count": 243
        }
      ],
      "source": [
        "# Impresión de la cantidad de modelos que predijeron 1 para 100 observaciones\n",
        "y_pred_df.sum(axis=1)[:100]"
      ]
    },
    {
      "cell_type": "code",
      "execution_count": 244,
      "metadata": {
        "outputId": "72fc1da4-78a9-49b6-a259-54955d08998c",
        "colab": {
          "base_uri": "https://localhost:8080/"
        },
        "id": "zAOfQCtUWVLf"
      },
      "outputs": [
        {
          "output_type": "execute_result",
          "data": {
            "text/plain": [
              "0.6484336151168573"
            ]
          },
          "metadata": {},
          "execution_count": 244
        }
      ],
      "source": [
        "# Votación mayoritaria\n",
        "y_pred = (y_pred_df.sum(axis=1) >= (n_estimators / 2)).astype(np.int)\n",
        "\n",
        "# Desempeño al hacer votación mayoritaria\n",
        "from sklearn import metrics\n",
        "metrics.f1_score(y_pred, y_test)"
      ]
    },
    {
      "cell_type": "code",
      "execution_count": 245,
      "metadata": {
        "outputId": "427f47b0-d8f2-4ec3-b91f-db6d0ebb5983",
        "colab": {
          "base_uri": "https://localhost:8080/"
        },
        "id": "438ohL6IWVLf"
      },
      "outputs": [
        {
          "output_type": "execute_result",
          "data": {
            "text/plain": [
              "0.6429292929292929"
            ]
          },
          "metadata": {},
          "execution_count": 245
        }
      ],
      "source": [
        "# Desempeño al hacer votación mayoritaria\n",
        "metrics.accuracy_score(y_pred, y_test)"
      ]
    },
    {
      "cell_type": "markdown",
      "source": [
        "regresion"
      ],
      "metadata": {
        "id": "ogs15TprWJuj"
      }
    },
    {
      "cell_type": "code",
      "source": [
        "# Entrenamiento de 100 modelos con las 100 muestras boostrap\n",
        "\n",
        "np.random.seed(123) \n",
        "seeds = np.random.randint(1, 10000, size=n_estimators)\n",
        "\n",
        "regresion = {}\n",
        "for i in range(n_estimators):\n",
        "    regresion[i] = LogisticRegression()\n",
        "    regresion[i].fit(X_train.iloc[samples[i]], y_train.iloc[samples[i]])"
      ],
      "metadata": {
        "id": "bzcvPFJxVR-L"
      },
      "execution_count": 236,
      "outputs": []
    },
    {
      "cell_type": "code",
      "execution_count": 247,
      "metadata": {
        "id": "U23TO65eokoX",
        "outputId": "2b6cd82e-8c04-4ecc-d962-45bb8886ee9a",
        "colab": {
          "base_uri": "https://localhost:8080/",
          "height": 235
        }
      },
      "outputs": [
        {
          "output_type": "execute_result",
          "data": {
            "text/plain": [
              "      0   1   2   3   4   5   6   7   8   9   ...  90  91  92  93  94  95  96  \\\n",
              "1782   1   1   1   1   1   1   1   1   1   1  ...   1   1   1   1   1   1   1   \n",
              "3917   1   1   1   1   1   1   1   1   1   0  ...   1   1   1   1   1   0   1   \n",
              "221    1   1   1   1   1   1   1   1   1   1  ...   1   1   1   1   1   1   1   \n",
              "2135   1   1   1   1   1   1   1   1   1   1  ...   1   1   1   1   1   1   1   \n",
              "5224   1   1   1   1   1   1   1   1   1   1  ...   1   1   1   1   1   1   1   \n",
              "\n",
              "      97  98  99  \n",
              "1782   1   1   1  \n",
              "3917   1   1   1  \n",
              "221    1   1   1  \n",
              "2135   1   1   1  \n",
              "5224   1   1   1  \n",
              "\n",
              "[5 rows x 100 columns]"
            ],
            "text/html": [
              "\n",
              "  <div id=\"df-4d61ef70-5ab2-4905-912d-f94124feaf2c\">\n",
              "    <div class=\"colab-df-container\">\n",
              "      <div>\n",
              "<style scoped>\n",
              "    .dataframe tbody tr th:only-of-type {\n",
              "        vertical-align: middle;\n",
              "    }\n",
              "\n",
              "    .dataframe tbody tr th {\n",
              "        vertical-align: top;\n",
              "    }\n",
              "\n",
              "    .dataframe thead th {\n",
              "        text-align: right;\n",
              "    }\n",
              "</style>\n",
              "<table border=\"1\" class=\"dataframe\">\n",
              "  <thead>\n",
              "    <tr style=\"text-align: right;\">\n",
              "      <th></th>\n",
              "      <th>0</th>\n",
              "      <th>1</th>\n",
              "      <th>2</th>\n",
              "      <th>3</th>\n",
              "      <th>4</th>\n",
              "      <th>5</th>\n",
              "      <th>6</th>\n",
              "      <th>7</th>\n",
              "      <th>8</th>\n",
              "      <th>9</th>\n",
              "      <th>...</th>\n",
              "      <th>90</th>\n",
              "      <th>91</th>\n",
              "      <th>92</th>\n",
              "      <th>93</th>\n",
              "      <th>94</th>\n",
              "      <th>95</th>\n",
              "      <th>96</th>\n",
              "      <th>97</th>\n",
              "      <th>98</th>\n",
              "      <th>99</th>\n",
              "    </tr>\n",
              "  </thead>\n",
              "  <tbody>\n",
              "    <tr>\n",
              "      <th>1782</th>\n",
              "      <td>1</td>\n",
              "      <td>1</td>\n",
              "      <td>1</td>\n",
              "      <td>1</td>\n",
              "      <td>1</td>\n",
              "      <td>1</td>\n",
              "      <td>1</td>\n",
              "      <td>1</td>\n",
              "      <td>1</td>\n",
              "      <td>1</td>\n",
              "      <td>...</td>\n",
              "      <td>1</td>\n",
              "      <td>1</td>\n",
              "      <td>1</td>\n",
              "      <td>1</td>\n",
              "      <td>1</td>\n",
              "      <td>1</td>\n",
              "      <td>1</td>\n",
              "      <td>1</td>\n",
              "      <td>1</td>\n",
              "      <td>1</td>\n",
              "    </tr>\n",
              "    <tr>\n",
              "      <th>3917</th>\n",
              "      <td>1</td>\n",
              "      <td>1</td>\n",
              "      <td>1</td>\n",
              "      <td>1</td>\n",
              "      <td>1</td>\n",
              "      <td>1</td>\n",
              "      <td>1</td>\n",
              "      <td>1</td>\n",
              "      <td>1</td>\n",
              "      <td>0</td>\n",
              "      <td>...</td>\n",
              "      <td>1</td>\n",
              "      <td>1</td>\n",
              "      <td>1</td>\n",
              "      <td>1</td>\n",
              "      <td>1</td>\n",
              "      <td>0</td>\n",
              "      <td>1</td>\n",
              "      <td>1</td>\n",
              "      <td>1</td>\n",
              "      <td>1</td>\n",
              "    </tr>\n",
              "    <tr>\n",
              "      <th>221</th>\n",
              "      <td>1</td>\n",
              "      <td>1</td>\n",
              "      <td>1</td>\n",
              "      <td>1</td>\n",
              "      <td>1</td>\n",
              "      <td>1</td>\n",
              "      <td>1</td>\n",
              "      <td>1</td>\n",
              "      <td>1</td>\n",
              "      <td>1</td>\n",
              "      <td>...</td>\n",
              "      <td>1</td>\n",
              "      <td>1</td>\n",
              "      <td>1</td>\n",
              "      <td>1</td>\n",
              "      <td>1</td>\n",
              "      <td>1</td>\n",
              "      <td>1</td>\n",
              "      <td>1</td>\n",
              "      <td>1</td>\n",
              "      <td>1</td>\n",
              "    </tr>\n",
              "    <tr>\n",
              "      <th>2135</th>\n",
              "      <td>1</td>\n",
              "      <td>1</td>\n",
              "      <td>1</td>\n",
              "      <td>1</td>\n",
              "      <td>1</td>\n",
              "      <td>1</td>\n",
              "      <td>1</td>\n",
              "      <td>1</td>\n",
              "      <td>1</td>\n",
              "      <td>1</td>\n",
              "      <td>...</td>\n",
              "      <td>1</td>\n",
              "      <td>1</td>\n",
              "      <td>1</td>\n",
              "      <td>1</td>\n",
              "      <td>1</td>\n",
              "      <td>1</td>\n",
              "      <td>1</td>\n",
              "      <td>1</td>\n",
              "      <td>1</td>\n",
              "      <td>1</td>\n",
              "    </tr>\n",
              "    <tr>\n",
              "      <th>5224</th>\n",
              "      <td>1</td>\n",
              "      <td>1</td>\n",
              "      <td>1</td>\n",
              "      <td>1</td>\n",
              "      <td>1</td>\n",
              "      <td>1</td>\n",
              "      <td>1</td>\n",
              "      <td>1</td>\n",
              "      <td>1</td>\n",
              "      <td>1</td>\n",
              "      <td>...</td>\n",
              "      <td>1</td>\n",
              "      <td>1</td>\n",
              "      <td>1</td>\n",
              "      <td>1</td>\n",
              "      <td>1</td>\n",
              "      <td>1</td>\n",
              "      <td>1</td>\n",
              "      <td>1</td>\n",
              "      <td>1</td>\n",
              "      <td>1</td>\n",
              "    </tr>\n",
              "  </tbody>\n",
              "</table>\n",
              "<p>5 rows × 100 columns</p>\n",
              "</div>\n",
              "      <button class=\"colab-df-convert\" onclick=\"convertToInteractive('df-4d61ef70-5ab2-4905-912d-f94124feaf2c')\"\n",
              "              title=\"Convert this dataframe to an interactive table.\"\n",
              "              style=\"display:none;\">\n",
              "        \n",
              "  <svg xmlns=\"http://www.w3.org/2000/svg\" height=\"24px\"viewBox=\"0 0 24 24\"\n",
              "       width=\"24px\">\n",
              "    <path d=\"M0 0h24v24H0V0z\" fill=\"none\"/>\n",
              "    <path d=\"M18.56 5.44l.94 2.06.94-2.06 2.06-.94-2.06-.94-.94-2.06-.94 2.06-2.06.94zm-11 1L8.5 8.5l.94-2.06 2.06-.94-2.06-.94L8.5 2.5l-.94 2.06-2.06.94zm10 10l.94 2.06.94-2.06 2.06-.94-2.06-.94-.94-2.06-.94 2.06-2.06.94z\"/><path d=\"M17.41 7.96l-1.37-1.37c-.4-.4-.92-.59-1.43-.59-.52 0-1.04.2-1.43.59L10.3 9.45l-7.72 7.72c-.78.78-.78 2.05 0 2.83L4 21.41c.39.39.9.59 1.41.59.51 0 1.02-.2 1.41-.59l7.78-7.78 2.81-2.81c.8-.78.8-2.07 0-2.86zM5.41 20L4 18.59l7.72-7.72 1.47 1.35L5.41 20z\"/>\n",
              "  </svg>\n",
              "      </button>\n",
              "      \n",
              "  <style>\n",
              "    .colab-df-container {\n",
              "      display:flex;\n",
              "      flex-wrap:wrap;\n",
              "      gap: 12px;\n",
              "    }\n",
              "\n",
              "    .colab-df-convert {\n",
              "      background-color: #E8F0FE;\n",
              "      border: none;\n",
              "      border-radius: 50%;\n",
              "      cursor: pointer;\n",
              "      display: none;\n",
              "      fill: #1967D2;\n",
              "      height: 32px;\n",
              "      padding: 0 0 0 0;\n",
              "      width: 32px;\n",
              "    }\n",
              "\n",
              "    .colab-df-convert:hover {\n",
              "      background-color: #E2EBFA;\n",
              "      box-shadow: 0px 1px 2px rgba(60, 64, 67, 0.3), 0px 1px 3px 1px rgba(60, 64, 67, 0.15);\n",
              "      fill: #174EA6;\n",
              "    }\n",
              "\n",
              "    [theme=dark] .colab-df-convert {\n",
              "      background-color: #3B4455;\n",
              "      fill: #D2E3FC;\n",
              "    }\n",
              "\n",
              "    [theme=dark] .colab-df-convert:hover {\n",
              "      background-color: #434B5C;\n",
              "      box-shadow: 0px 1px 3px 1px rgba(0, 0, 0, 0.15);\n",
              "      filter: drop-shadow(0px 1px 2px rgba(0, 0, 0, 0.3));\n",
              "      fill: #FFFFFF;\n",
              "    }\n",
              "  </style>\n",
              "\n",
              "      <script>\n",
              "        const buttonEl =\n",
              "          document.querySelector('#df-4d61ef70-5ab2-4905-912d-f94124feaf2c button.colab-df-convert');\n",
              "        buttonEl.style.display =\n",
              "          google.colab.kernel.accessAllowed ? 'block' : 'none';\n",
              "\n",
              "        async function convertToInteractive(key) {\n",
              "          const element = document.querySelector('#df-4d61ef70-5ab2-4905-912d-f94124feaf2c');\n",
              "          const dataTable =\n",
              "            await google.colab.kernel.invokeFunction('convertToInteractive',\n",
              "                                                     [key], {});\n",
              "          if (!dataTable) return;\n",
              "\n",
              "          const docLinkHtml = 'Like what you see? Visit the ' +\n",
              "            '<a target=\"_blank\" href=https://colab.research.google.com/notebooks/data_table.ipynb>data table notebook</a>'\n",
              "            + ' to learn more about interactive tables.';\n",
              "          element.innerHTML = '';\n",
              "          dataTable['output_type'] = 'display_data';\n",
              "          await google.colab.output.renderOutput(dataTable, element);\n",
              "          const docLink = document.createElement('div');\n",
              "          docLink.innerHTML = docLinkHtml;\n",
              "          element.appendChild(docLink);\n",
              "        }\n",
              "      </script>\n",
              "    </div>\n",
              "  </div>\n",
              "  "
            ]
          },
          "metadata": {},
          "execution_count": 247
        }
      ],
      "source": [
        "# Predicción para los datos del set de test con cada modelo\n",
        "y_pred_reg = pd.DataFrame(index=X_test.index, columns=list(range(n_estimators)))\n",
        "for i in range(n_estimators):\n",
        "    y_pred_reg.iloc[:, i] = regresion[i].predict(X_test)\n",
        "\n",
        "y_pred_df.head()"
      ]
    },
    {
      "cell_type": "code",
      "execution_count": 248,
      "metadata": {
        "id": "d-s_MamQokoX",
        "outputId": "e6808b9c-2c81-4eb8-d605-9460e922608f",
        "colab": {
          "base_uri": "https://localhost:8080/"
        }
      },
      "outputs": [
        {
          "output_type": "execute_result",
          "data": {
            "text/plain": [
              "1782    100\n",
              "3917     67\n",
              "221     100\n",
              "2135    100\n",
              "5224    100\n",
              "       ... \n",
              "4103      1\n",
              "1580      0\n",
              "1310      0\n",
              "625     100\n",
              "23       63\n",
              "Length: 100, dtype: int64"
            ]
          },
          "metadata": {},
          "execution_count": 248
        }
      ],
      "source": [
        "# Impresión de la cantidad de modelos que predijeron 1 para 100 observaciones\n",
        "y_pred_reg.sum(axis=1)[:100]"
      ]
    },
    {
      "cell_type": "code",
      "execution_count": 249,
      "metadata": {
        "id": "1k8IOn4ookoX",
        "outputId": "c422d9dd-7b3b-4d01-f939-978b03a6681c",
        "colab": {
          "base_uri": "https://localhost:8080/"
        }
      },
      "outputs": [
        {
          "output_type": "execute_result",
          "data": {
            "text/plain": [
              "0.6351680467608377"
            ]
          },
          "metadata": {},
          "execution_count": 249
        }
      ],
      "source": [
        "# Votación mayoritaria\n",
        "y_pred_reg = (y_pred_reg.sum(axis=1) >= (n_estimators / 2)).astype(np.int)\n",
        "\n",
        "# Desempeño al hacer votación mayoritaria\n",
        "from sklearn import metrics\n",
        "metrics.f1_score(y_pred_reg, y_test)"
      ]
    },
    {
      "cell_type": "code",
      "execution_count": 250,
      "metadata": {
        "id": "POvKRpUOokoY",
        "outputId": "e4642c64-75bd-4ef2-a726-2d2902de36cb",
        "colab": {
          "base_uri": "https://localhost:8080/"
        }
      },
      "outputs": [
        {
          "output_type": "execute_result",
          "data": {
            "text/plain": [
              "0.6217171717171717"
            ]
          },
          "metadata": {},
          "execution_count": 250
        }
      ],
      "source": [
        "# Desempeño al hacer votación mayoritaria\n",
        "metrics.accuracy_score(y_pred_reg, y_test)"
      ]
    },
    {
      "cell_type": "code",
      "source": [],
      "metadata": {
        "id": "2r6WreEXW5qa"
      },
      "execution_count": null,
      "outputs": []
    },
    {
      "cell_type": "code",
      "execution_count": 251,
      "metadata": {
        "id": "xtgaFhE1okoY"
      },
      "outputs": [],
      "source": [
        "# Definición del modelo BaggingClassifier de la libreria sklearn\n",
        "from sklearn.ensemble import BaggingClassifier\n",
        "clf = BaggingClassifier(base_estimator=DecisionTreeClassifier(), n_estimators=100, bootstrap=True,\n",
        "                        random_state=42, n_jobs=-1, oob_score=True)"
      ]
    },
    {
      "cell_type": "code",
      "execution_count": 252,
      "metadata": {
        "id": "DkVJ9HPHokoY",
        "outputId": "bf858f6a-1c56-4c64-e69e-ad2527eec0a4",
        "colab": {
          "base_uri": "https://localhost:8080/"
        }
      },
      "outputs": [
        {
          "output_type": "execute_result",
          "data": {
            "text/plain": [
              "(0.6403641881638847, 0.6409090909090909)"
            ]
          },
          "metadata": {},
          "execution_count": 252
        }
      ],
      "source": [
        "# Predicción y desempeño al hacer votación mayoritaria\n",
        "clf.fit(X_train, y_train)\n",
        "y_pred = clf.predict(X_test)\n",
        "metrics.f1_score(y_pred, y_test), metrics.accuracy_score(y_pred, y_test)"
      ]
    },
    {
      "cell_type": "markdown",
      "metadata": {
        "id": "XRapHX8RjB49"
      },
      "source": [
        "### Punto 8 - Votación Ponderada\n",
        "En la celda 8 elabore un ensamble con la metodología de **Votación ponderada** compuesto por 300 muestras bagged para los mismos tres escenarios del punto 7. Evalúe los modelos utilizando las métricas de Accuracy y F1-Score"
      ]
    },
    {
      "cell_type": "code",
      "execution_count": null,
      "metadata": {
        "id": "OHZu0oGijB49"
      },
      "outputs": [],
      "source": [
        "# Celda 8\n"
      ]
    },
    {
      "cell_type": "code",
      "execution_count": 254,
      "metadata": {
        "id": "fvc3VlbGXq-Y"
      },
      "outputs": [],
      "source": [
        "# Celda 7\n",
        "from sklearn.linear_model import LinearRegression\n",
        "from sklearn.tree import DecisionTreeRegressor\n",
        "\n",
        "# Definición de 4 modelos diferentes: regresión logística, árbol de decisión,Navie Bayes y k vecinos más cercanos\n",
        "models = {'Arbol_clas': DecisionTreeClassifier(),\n",
        "          'lr': LogisticRegression(),\n",
        "          \"Bagging\": BaggingClassifier(n_estimators=10, random_state=0)}"
      ]
    },
    {
      "cell_type": "code",
      "execution_count": 255,
      "metadata": {
        "id": "tThlEt-aXq-Y"
      },
      "outputs": [],
      "source": [
        "# Separación de variables predictoras (X) y variable de interés (y) en set de entrenamiento y test\n",
        "X = df.drop(['url', 'Popular'], axis=1)\n",
        "y = df['Popular']\n",
        "XTrain, XTest, yTrain, yTest = train_test_split(X, y, test_size=0.33, random_state=0)\n",
        "scalar = StandardScaler()\n",
        "XTrain = scalar.fit_transform(XTrain)\n",
        "XTest = scalar.fit_transform(XTest)\n",
        "\n",
        "# Entrenamiento (fit) de cada modelo\n",
        "for model in models.keys():\n",
        "    models[model].fit(XTrain, yTrain)"
      ]
    },
    {
      "cell_type": "code",
      "execution_count": 260,
      "metadata": {
        "id": "b5X2J36MokoZ",
        "outputId": "314c3cf8-22ad-446e-c5b3-32cb04769b7a",
        "colab": {
          "base_uri": "https://localhost:8080/"
        }
      },
      "outputs": [
        {
          "output_type": "execute_result",
          "data": {
            "text/plain": [
              "(0.6403641881638847, 0.6409090909090909)"
            ]
          },
          "metadata": {},
          "execution_count": 260
        }
      ],
      "source": [
        "# Definición del modelo BaggingClassifier de la libreria sklearn\n",
        "clf = BaggingClassifier(base_estimator=DecisionTreeClassifier(), n_estimators=100, bootstrap=True,\n",
        "                        random_state=42, n_jobs=-1, oob_score=True)\n",
        "\n",
        "# Predicción y desempeño al hacer votación mayoritaria\n",
        "clf.fit(X_train, y_train)\n",
        "y_pred = clf.predict(X_test)\n",
        "metrics.f1_score(y_pred, y_test), metrics.accuracy_score(y_pred, y_test)"
      ]
    },
    {
      "cell_type": "code",
      "execution_count": 257,
      "metadata": {
        "id": "RXANo0J7okoZ"
      },
      "outputs": [],
      "source": [
        "# Obtención de los pesos alpha de cada modelo de acuerdo al error OOB\n",
        "errors = np.zeros(clf.n_estimators)\n",
        "y_pred_all_ = np.zeros((X_test.shape[0], clf.n_estimators))\n",
        "\n",
        "for i in range(clf.n_estimators):\n",
        "    oob_sample = ~clf.estimators_samples_[i]\n",
        "    y_pred_ = clf.estimators_[i].predict(X_train.values[oob_sample])\n",
        "    errors[i] = metrics.accuracy_score(y_pred_, y_train.values[oob_sample])\n",
        "    y_pred_all_[:, i] = clf.estimators_[i].predict(X_test)\n",
        "    \n",
        "alpha = (1 - errors) / (1 - errors).sum()\n",
        "y_pred = (np.sum(y_pred_all_ * alpha, axis=1) >= 0.5).astype(np.int)"
      ]
    },
    {
      "cell_type": "code",
      "execution_count": 258,
      "metadata": {
        "id": "S_H3tMDZokoZ",
        "outputId": "ae1bc755-0cb4-46ab-de86-6d5d79a2aeb2",
        "colab": {
          "base_uri": "https://localhost:8080/"
        }
      },
      "outputs": [
        {
          "output_type": "execute_result",
          "data": {
            "text/plain": [
              "(0.6419629444166249, 0.6388888888888888)"
            ]
          },
          "metadata": {},
          "execution_count": 258
        }
      ],
      "source": [
        "# Desempeño al hacer votación ponderada\n",
        "metrics.f1_score(y_pred, y_test), metrics.accuracy_score(y_pred, y_test)"
      ]
    },
    {
      "cell_type": "markdown",
      "metadata": {
        "id": "iJKZNAT-jB49"
      },
      "source": [
        "### Punto 9 - Comparación y análisis de resultados\n",
        "En la celda 9 comente sobre los resultados obtenidos con las metodologías usadas en los puntos 7 y 8, compare los resultados y enuncie posibles ventajas o desventajas de cada una de ellas."
      ]
    },
    {
      "cell_type": "code",
      "execution_count": null,
      "metadata": {
        "id": "oxY67kqKjB49"
      },
      "outputs": [],
      "source": [
        "# Celda 9\n",
        "\n"
      ]
    },
    {
      "cell_type": "markdown",
      "source": [
        "De acuerdo a los resultados de las metricas  para cada algoritmo individual o por por votacion mayoritaria para el punto 7 y 8 por votacion ponderada se nota una similitud en el F1 y en el accuracy,sin embargo refleja un leve pero major desempeño por votación mayoritaria. \n",
        "\n",
        "ventajas: ambas metodologias permiten evaluar el desempeño de los modelos. \n",
        "desventajas: dados los resultados los resultados no varian significativamente, por lo que usar cualquier metodo de ensamble se ajusta a las prediccion, posiblemente puede mejorar su rendimiento realizando ajustes de calibración. "
      ],
      "metadata": {
        "id": "6OMCdQ5QYYyg"
      }
    }
  ],
  "metadata": {
    "kernelspec": {
      "display_name": "Python 3 (ipykernel)",
      "language": "python",
      "name": "python3"
    },
    "language_info": {
      "codemirror_mode": {
        "name": "ipython",
        "version": 3
      },
      "file_extension": ".py",
      "mimetype": "text/x-python",
      "name": "python",
      "nbconvert_exporter": "python",
      "pygments_lexer": "ipython3",
      "version": "3.9.12"
    },
    "colab": {
      "provenance": []
    }
  },
  "nbformat": 4,
  "nbformat_minor": 0
}